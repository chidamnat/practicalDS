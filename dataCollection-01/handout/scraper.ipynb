{
 "cells": [
  {
   "cell_type": "code",
   "execution_count": 3,
   "metadata": {},
   "outputs": [],
   "source": [
    "# setup library imports\n",
    "import io, time, json\n",
    "import requests\n",
    "from bs4 import BeautifulSoup"
   ]
  },
  {
   "cell_type": "markdown",
   "metadata": {},
   "source": [
    "### Library Documentation\n",
    "\n",
    "* Standard Library: \n",
    "    * [io](https://docs.python.org/2/library/io.html)\n",
    "    * [time](https://docs.python.org/2/library/time.html)\n",
    "    * [json](https://docs.python.org/2/library/json.html)\n",
    "\n",
    "* Third Party\n",
    "    * [requests](http://docs.python-requests.org/en/master/)\n",
    "    * [Beautiful Soup (version 4)](https://www.crummy.com/software/BeautifulSoup/bs4/doc/)\n",
    "    * [yelp-fusion](https://www.yelp.com/developers/documentation/v3/get_started)\n",
    "\n",
    "**Note:** You may come across a `yelp-python` library online. The library is deprecated and incompatible with the current Yelp API, so do not use the library."
   ]
  },
  {
   "cell_type": "markdown",
   "metadata": {},
   "source": [
    "## Introduction\n",
    "\n",
    "Welcome to the homework on web scraping. While many people might view working with data (including scraping, parsing, storing, etc.) a necessary evil to get to the \"fun\" stuff (i.e. modeling), I think that if presented in the right way this munging can be quite empowering. Imagine you never had to worry or ask those _what if_ questions about data existing or being accessible... but that you can get it yourself!\n",
    "\n",
    "By the end of this exercise hopefully you should look at the wonderful world wide web without fear, comforted by the fact that anything you can see with your human eyes, a computer can see with its computer eyes...\n",
    " \n",
    "### Objectives\n",
    "\n",
    "But more concretely, this homework will teach you (and test you on):\n",
    "\n",
    "* HTTP Requests (and lifecycle)\n",
    "* RESTful APIs\n",
    "    * Authentication (OAuth)\n",
    "    * Pagination\n",
    "    * Rate limiting\n",
    "* JSON vs. HTML (and how to parse each)\n",
    "* HTML traversal (CSS selectors)"
   ]
  },
  {
   "cell_type": "markdown",
   "metadata": {},
   "source": [
    "## Working with APIs\n",
    "\n",
    "Since everyone loves food (presumably), the ultimate end goal of this homework will be to acquire the data to answer some questions and hypotheses about the restaurant scene in Pittsburgh (which we will get to later). We will download __both__ the metadata on restaurants in Pittsburgh from the Yelp API and with this metadata, retrieve the comments/reviews and ratings from users on restaurants.\n",
    "\n",
    "But first things first, let's do the \"hello world\" of making web requests with Python to get a sense for how to programmatically access web pages: an (unauthenticated) HTTP GET to download a web page."
   ]
  },
  {
   "cell_type": "markdown",
   "metadata": {},
   "source": [
    "---"
   ]
  },
  {
   "cell_type": "markdown",
   "metadata": {},
   "source": [
    "## Q0: Basic HTTP Requests\n",
    "\n",
    "Fill in the funtion to use `requests` to download and return the raw HTML content of the URL passed in as an argument. As an example try the following NYT article (on Facebook's algorithmic news feed): [http://www.nytimes.com/2016/08/28/magazine/inside-facebooks-totally-insane-unintentionally-gigantic-hyperpartisan-political-media-machine.html](http://www.nytimes.com/2016/08/28/magazine/inside-facebooks-totally-insane-unintentionally-gigantic-hyperpartisan-political-media-machine.html)\n",
    "\n",
    "> Your function should return a tuple of: (`<status_code>`, `<raw_html>`)\n",
    "\n",
    "```python\n",
    ">>> facebook_article = retrieve_html('http://www.nytimes.com/2016/08/28/magazine/inside-facebooks-totally-insane-unintentionally-gigantic-hyperpartisan-political-media-machine.html')\n",
    ">>> print(facebook_article)\n",
    "(200, u'<!DOCTYPE html>\\n<!--[if (gt IE 9)|!(IE)]> <!--> <html lang=\"en\" class=\"no-js section-magazine...')\n",
    "```\n"
   ]
  },
  {
   "cell_type": "code",
   "execution_count": 4,
   "metadata": {},
   "outputs": [],
   "source": [
    "def retrieve_html(url):\n",
    "    \"\"\"\n",
    "    Return the raw HTML at the specified URL.\n",
    "\n",
    "    Args:\n",
    "        url (string): \n",
    "\n",
    "    Returns:\n",
    "        status_code (integer):\n",
    "        raw_html (string): the raw HTML content of the response, properly encoded according to the HTTP headers.\n",
    "    \"\"\"\n",
    "    \n",
    "    # Write solution here\n",
    "    response = requests.get(url)\n",
    "    return (response.status_code, response.text)\n",
    "\n",
    "# facebook_article = retrieve_html('http://www.nytimes.com/2016/08/28/magazine/inside-facebooks-totally-insane-unintentionally-gigantic-hyperpartisan-political-media-machine.html')\n",
    "# print(facebook_article)\n"
   ]
  },
  {
   "cell_type": "markdown",
   "metadata": {},
   "source": [
    "---"
   ]
  },
  {
   "cell_type": "markdown",
   "metadata": {},
   "source": [
    "Now while this example might have been fun, we haven't yet done anything more than we could with a web browser. To really see the power of programmatically making web requests we will need to interact with a API. For the rest of this homework we will be working with the [Yelp API](https://www.yelp.com/developers/documentation/v3/get_started) and Yelp data (for an extensive data dump see their [Academic Dataset Challenge](https://www.yelp.com/dataset_challenge)). The reasons for using the Yelp API are 3 fold:\n",
    "\n",
    "1. Incredibly rich dataset that combines:\n",
    "    * entity data (users and businesses)\n",
    "    * preferences (i.e. ratings)\n",
    "    * geographic data (business location and check-ins)\n",
    "    * temporal data\n",
    "    * text in the form of reviews\n",
    "    * and even images.\n",
    "2. Well [documented API](https://www.yelp.com/developers/documentation/v3/get_started) with thorough examples.\n",
    "3. Extensive data coverage so that you can find data that you know personally (from your home town/city or account). This will help with understanding and interpreting your results."
   ]
  },
  {
   "cell_type": "markdown",
   "metadata": {},
   "source": [
    "## Authentication\n",
    "\n",
    "To access the Yelp API however we will need to go through a few more steps than we did with the first NYT example. Most large web scale companies use a combination of authentication and rate limiting to control access to their data to ensure that everyone using it abides. The first step (even before we make any request) is to setup a Yelp account if you do not have one and get API credentials."
   ]
  },
  {
   "cell_type": "markdown",
   "metadata": {},
   "source": [
    "## Yelp API Access\n",
    "\n",
    "1. Create a Yelp account (if you do not have one already)\n",
    "2. [Generate API keys](https://www.yelp.com/developers/v3/manage_app) (if you haven't already). You will only need the API Key (not the Client ID or Client Secret) -- more on that later.\n"
   ]
  },
  {
   "cell_type": "markdown",
   "metadata": {},
   "source": [
    "Now that we have our accounts setup we can start making requests! There are various authentication schemes that APIs use, listed here in relative order of complexity:\n",
    "\n",
    "* No authentication\n",
    "* [HTTP basic authentication](https://en.wikipedia.org/wiki/Basic_access_authentication)\n",
    "* Cookie based user login\n",
    "* OAuth (v1.0 & v2.0, see this [post](http://stackoverflow.com/questions/4113934/how-is-oauth-2-different-from-oauth-1) explaining the differences)\n",
    "* API keys\n",
    "* Custom Authentication\n",
    "\n",
    "For the NYT example, since it is a publicly visible page we did not need to authenticate. HTTP basic authentication isn't too common for consumer sites/applications that have the concept of user accounts (like Facebook, LinkedIn, Twitter, etc.) but is simple to setup quickly and you often encounter it on with individual password protected pages/sites. I'm sure you have seen this before somewhere:\n",
    "\n",
    "![http-basic](http://i.stack.imgur.com/QnUZW.png)\n",
    "\n",
    "Cookie based user login is what the majority of services use when you login with a browser (i.e. username and password). Once you sign in to a service like Facebook, the response stores a cookie in your browser to remember that you have logged in (HTTP is stateless). Each subsequent request to the same domain (i.e. any page on `facebook.com`) also sends the cookie that contains the authentication information to remind Facebook's servers that you have already logged in.\n",
    "\n",
    "Many REST APIs however use OAuth (authentication using tokens) which can be thought of a programmatic way to \"login\" _another_ user. Using tokens, a user (or application) only needs to send the login credentials once in the initial authentication and as a response from the server gets a special signed token. This signed token is then sent in future requests to the server (in place of the user credentials).\n",
    "\n",
    "A similar concept common used by many APIs is to assign API Keys to each client that needs access to server resources. The client must then pass the API Key along with _every_ request it makes to the API to authenticate. This is because the server is typically relatively stateless and does not maintain a session between subsequent calls from the same client. Most APIs (including Yelp) allow you to pass the API Key via a special HTTP Header: \"Authorization: Bearer <API_KEY>\". Check out the [docs](https://www.yelp.com/developers/documentation/v3/authentication) for more information.\n",
    "\n",
    "Yelp used to use OAuth tokens but has now switched to API Keys. **For the sake of backwards compatibility Yelp still provides a Client ID and Secret for OAuth, but you will not need those for this assignment.** \n"
   ]
  },
  {
   "cell_type": "markdown",
   "metadata": {},
   "source": [
    "---"
   ]
  },
  {
   "cell_type": "markdown",
   "metadata": {},
   "source": [
    "## Q1: Authenticated HTTP Request with the Yelp API\n",
    "\n",
    "First, store your Yelp credentials in a local file (kept out of version control) which you can read in to authenticate with the API. This file can be any format/structure since you will fill in the function stub below.\n",
    "\n",
    "For example, you may want to store your key in a file called `api_key.txt` (run in terminal):\n",
    "```bash\n",
    "echo 'YELP_API_KEY' > api_key.txt\n",
    "```\n",
    "\n",
    "You can then read from the file using:\n",
    "```python\n",
    "with open('api_key.txt', 'r') as f:\n",
    "    api_key = f.read().replace('\\n','')\n",
    "    # use your api_key\n",
    "```\n",
    "\n",
    "**KEEP THE API KEY FILE PRIVATE AND OUT OF VERSION CONTROL**"
   ]
  },
  {
   "cell_type": "markdown",
   "metadata": {},
   "source": [
    "Using the Yelp API, fill in the following function stub to make an authenticated request to the [search](https://www.yelp.com/developers/documentation/v3/business_search) endpoint.\n",
    "\n",
    "> As a test, search for businesses in Pittsburgh. You should find ~13400 total depending on when you search (but this will actually differ from the number of actual Business objects returned... more on this in the next section)\n",
    "\n",
    "When writing the python request, you'll need to pass in a custom header as well as a parameter. See \n",
    "\n",
    "\n",
    "\n",
    "```python\n",
    ">>> api_key = read_api_key('api_key.txt')\n",
    ">>> num_records, data = yelp_search(api_key, 'Pittsburgh')\n",
    ">>> print(num_records)\n",
    "13400\n",
    ">>> print(list(map(lambda x: x['name'], data)))\n",
    "['Gaucho Parrilla Argentina', 'Randyland', 'Redhawk Coffee', 'Phipps Conservatory and Botanical Gardens', 'La Gourmandine Bakery & Pastry Shop', ...]\n",
    "```"
   ]
  },
  {
   "cell_type": "code",
   "execution_count": 5,
   "metadata": {},
   "outputs": [],
   "source": [
    "def read_api_key(filepath):\n",
    "    \"\"\"\n",
    "    Read the Yelp API Key from file.\n",
    "    \n",
    "    Args:\n",
    "        filepath (string): File containing API Key\n",
    "    Returns:\n",
    "        api_key (string): The API Key\n",
    "    \"\"\"\n",
    "    \n",
    "    # feel free to modify this function if you are storing the API Key differently\n",
    "    with open(filepath + 'api_key.txt', 'r') as f:\n",
    "        return f.read().replace('\\n','')"
   ]
  },
  {
   "cell_type": "code",
   "execution_count": 6,
   "metadata": {},
   "outputs": [
    {
     "name": "stdout",
     "output_type": "stream",
     "text": [
      "api_key.txt\n",
      "course_roster.csv\n",
      "examples.py\n",
      "handout\n",
      "handout.tar\n",
      "recitation1.ipynb\n",
      "shakespeare.txt\n",
      "Untitled.ipynb\n"
     ]
    }
   ],
   "source": [
    "!ls /d/code/practicalDS/dataCollection-01/"
   ]
  },
  {
   "cell_type": "code",
   "execution_count": 7,
   "metadata": {},
   "outputs": [],
   "source": [
    "def yelp_search(api_key, query):\n",
    "    \"\"\"\n",
    "    Make an authenticated request to the Yelp API.\n",
    "\n",
    "    Args:\n",
    "        query (string): Search term\n",
    "\n",
    "    Returns:\n",
    "        total (integer): total number of businesses on Yelp corresponding to the query\n",
    "        businesses (list): list of dicts representing each business\n",
    "    \"\"\"\n",
    "    \n",
    "    headers = {\n",
    "    \"authorization\": 'Bearer %s' % api_key, # for the yelp API \n",
    "    }\n",
    "    \n",
    "    params = {\n",
    "        \"term\": query,\n",
    "        \"location\": \"Pittsburgh\"\n",
    "    }\n",
    "    \n",
    "    response = requests.get(\"https://api.yelp.com/v3/businesses/search\",headers = headers, params = params)\n",
    "#     print(type(response.text))\n",
    "    result = response.json()\n",
    "#     print(type(result))\n",
    "#     return (result[\"total\"], result[\"businesses\"])\n",
    "    return response.text\n",
    "\n",
    "api_key= read_api_key(\"../\")\n",
    "result = yelp_search(api_key, 'restaurants')\n",
    "# print(result)"
   ]
  },
  {
   "cell_type": "markdown",
   "metadata": {},
   "source": [
    "---"
   ]
  },
  {
   "cell_type": "markdown",
   "metadata": {},
   "source": [
    "Now that we have completed the \"hello world\" of working with the Yelp API, we are ready to really fly! The rest of the exercise will have a bit less direction since there are a variety of ways to retrieve the requested information but you should have all the component knowledge at this point to work with the API. Yelp being a fairly general platform actually has many more business than just restaurants, but by using the flexibility of the API we can ask it to only return the restaurants."
   ]
  },
  {
   "cell_type": "markdown",
   "metadata": {},
   "source": [
    "## Parameterization and Pagination\n",
    "\n",
    "And before we can get any reviews on restaurants, we need to actually get the metadata on ALL of the restaurants in Pittsburgh. Notice above that while Yelp told us that there are ~13400, the response contained far fewer actual `Business` objects. This is due to pagination and is a safeguard against returning __TOO__ much data in a single request (what would happen if there were 100,000 restaurants?) and can be used in conjuction with _rate limiting_ as well as a way to throttle and protect access to Yelp data.\n",
    "\n",
    "> If an API has 1,000,000 records, but only returns 10 records per page and limits you to 5 requests per second... how long will it take to acquire ALL of the records contained in the API?\n",
    "\n",
    "One of the ways that APIs are an improvement over plain web scraping is the ability to make __parameterized__ requests. Just like the Python functions you have been writing have arguments (or parameters) that allow you to customize its behavior/actions (an output) without having to rewrite the function entirely, we can parameterize the queries we make to the Yelp API to filter the results it returns."
   ]
  },
  {
   "cell_type": "markdown",
   "metadata": {},
   "source": [
    "---"
   ]
  },
  {
   "cell_type": "markdown",
   "metadata": {},
   "source": [
    "## Q2: Aquire all of the restaurants in Pittsburgh (on Yelp)\n",
    "\n",
    "Again using the [API documentation](https://www.yelp.com/developers/documentation/v3/business_search) for the `search` endpoint, fill in the following function to retrieve all of the _Restuarants_ (using categories) for a given query. Again you should use your `read_api_key()` function outside of the `all_restaurants()` stub to read the API Key used for the requests. You will need to account for __pagination__ and __[rate limiting](https://www.yelp.com/developers/faq)__ to:\n",
    "\n",
    "1. Retrieve all of the Business objects (# of business objects should equal `total` in the response). Paginate by querying 20 restaurants each request.\n",
    "2. Pause slightly (at least 200 milliseconds) between subsequent requests so as to not overwhelm the API (and get blocked).  \n",
    "\n",
    "As always with API access, make sure you follow all of the [API's policies](https://www.yelp.com/developers/api_terms) and use the API responsibly and respectfully.\n",
    "\n",
    "** DO NOT MAKE TOO MANY REQUESTS TOO QUICKLY OR YOUR KEY MAY BE BLOCKED **\n",
    "\n",
    "> Again, you can test your function with an individual neighborhod in Pittsburgh (I recommend Polish Hill). Pittsburgh itself has a lot of restaurants... meaning it will take a lot of time to download them all."
   ]
  },
  {
   "cell_type": "markdown",
   "metadata": {},
   "source": [
    "```python\n",
    ">>> data = all_restaurants(api_key, 'Polish Hill, Pittsburgh')\n",
    ">>> print(len(data))\n",
    "41\n",
    ">>> print(data)\n",
    "['Lili Cafe', 'Morcilla', 'Umami', 'Piccolo Forno', \"Alfred's Deli & Market\", ...]\n",
    "```"
   ]
  },
  {
   "cell_type": "code",
   "execution_count": 8,
   "metadata": {},
   "outputs": [
    {
     "name": "stdout",
     "output_type": "stream",
     "text": [
      "result = [{'location': {'address2': '', 'address1': '5701 Bryant St', 'display_address': ['5701 Bryant St', 'Pittsburgh, PA 15206'], 'city': 'Pittsburgh', 'state': 'PA', 'zip_code': '15206', 'country': 'US', 'address3': ''}, 'coordinates': {'latitude': 40.4765815734863, 'longitude': -79.9214401245117}, 'categories': [{'alias': 'italian', 'title': 'Italian'}], 'transactions': [], 'price': '$$$', 'phone': '+14126659000', 'display_phone': '(412) 665-9000', 'rating': 4.5, 'alias': 'joseph-tambellini-restaurant-pittsburgh', 'review_count': 115, 'url': 'https://www.yelp.com/biz/joseph-tambellini-restaurant-pittsburgh?adjust_creative=nJbdqWu2t1WtpsRK8MuB_A&utm_campaign=yelp_api_v3&utm_medium=api_v3_business_search&utm_source=nJbdqWu2t1WtpsRK8MuB_A', 'id': '-j0CbYvlwuJ3Tfx__X38gA', 'is_closed': False, 'name': 'Joseph Tambellini Restaurant', 'image_url': 'https://s3-media1.fl.yelpcdn.com/bphoto/ZDKaW0-1aE-v7g5yFsgvNw/o.jpg', 'distance': 6034.831689902183}, {'location': {'address2': 'Bldg 7', 'address1': '661 Andersen Dr', 'display_address': ['661 Andersen Dr', 'Bldg 7', 'Pittsburgh, PA 15220'], 'city': 'Pittsburgh', 'state': 'PA', 'zip_code': '15220', 'country': 'US', 'address3': None}, 'coordinates': {'latitude': 40.4207077026367, 'longitude': -80.0642471313477}, 'categories': [{'alias': 'italian', 'title': 'Italian'}, {'alias': 'seafood', 'title': 'Seafood'}], 'transactions': [], 'price': '$$', 'phone': '+14129211062', 'display_phone': '(412) 921-1062', 'rating': 3.5, 'alias': 'scoglios-green-tree-pittsburgh', 'review_count': 34, 'url': 'https://www.yelp.com/biz/scoglios-green-tree-pittsburgh?adjust_creative=nJbdqWu2t1WtpsRK8MuB_A&utm_campaign=yelp_api_v3&utm_medium=api_v3_business_search&utm_source=nJbdqWu2t1WtpsRK8MuB_A', 'id': '48jrpdXh98gzP5CxPwQyvw', 'is_closed': False, 'name': \"Scoglio's Green Tree\", 'image_url': 'https://s3-media2.fl.yelpcdn.com/bphoto/AYobbekSuqKU93T0O3f9bQ/o.jpg', 'distance': 7679.098265686229}, {'location': {'address2': '', 'address1': '634 Camp Horne Rd', 'display_address': ['634 Camp Horne Rd', 'Pittsburgh, PA 15237'], 'city': 'Pittsburgh', 'state': 'PA', 'zip_code': '15237', 'country': 'US', 'address3': ''}, 'coordinates': {'latitude': 40.5210099, 'longitude': -80.07652}, 'categories': [{'alias': 'newamerican', 'title': 'American (New)'}], 'transactions': [], 'price': '$$', 'phone': '+14128471007', 'display_phone': '(412) 847-1007', 'rating': 4.0, 'alias': 'willow-restaurant-pittsburgh', 'review_count': 140, 'url': 'https://www.yelp.com/biz/willow-restaurant-pittsburgh?adjust_creative=nJbdqWu2t1WtpsRK8MuB_A&utm_campaign=yelp_api_v3&utm_medium=api_v3_business_search&utm_source=nJbdqWu2t1WtpsRK8MuB_A', 'id': 'wDWKQR2psTIj4BZ0mf01Gg', 'is_closed': False, 'name': 'Willow Restaurant', 'image_url': 'https://s3-media2.fl.yelpcdn.com/bphoto/nizM_8SBnr0BIXR2hwAMmA/o.jpg', 'distance': 11840.013165004224}, {'location': {'address2': '', 'address1': '4621 Liberty Ave', 'display_address': ['4621 Liberty Ave', 'Pittsburgh, PA 15224'], 'city': 'Pittsburgh', 'state': 'PA', 'zip_code': '15224', 'country': 'US', 'address3': ''}, 'coordinates': {'latitude': 40.4625129699707, 'longitude': -79.9500045776367}, 'categories': [{'alias': 'modern_european', 'title': 'Modern European'}, {'alias': 'newamerican', 'title': 'American (New)'}, {'alias': 'catering', 'title': 'Caterers'}], 'transactions': [], 'price': '$$', 'phone': '+14126834575', 'display_phone': '(412) 683-4575', 'rating': 4.0, 'alias': 'sausalido-pittsburgh', 'review_count': 153, 'url': 'https://www.yelp.com/biz/sausalido-pittsburgh?adjust_creative=nJbdqWu2t1WtpsRK8MuB_A&utm_campaign=yelp_api_v3&utm_medium=api_v3_business_search&utm_source=nJbdqWu2t1WtpsRK8MuB_A', 'id': 'Rwahe1zbFpw6VIjb5ngZeg', 'is_closed': False, 'name': 'Sausalido', 'image_url': 'https://s3-media1.fl.yelpcdn.com/bphoto/26un83pMx6rZtgbxe42mFQ/o.jpg', 'distance': 3152.35222341091}, {'location': {'address2': '', 'address1': '1500 Washington Rd', 'display_address': ['1500 Washington Rd', 'Pittsburgh, PA 15228'], 'city': 'Pittsburgh', 'state': 'PA', 'zip_code': '15228', 'country': 'US', 'address3': ''}, 'coordinates': {'latitude': 40.357715, 'longitude': -80.051871}, 'categories': [{'alias': 'bars', 'title': 'Bars'}, {'alias': 'newamerican', 'title': 'American (New)'}], 'transactions': ['pickup', 'delivery'], 'price': '$$', 'phone': '+14123794811', 'display_phone': '(412) 379-4811', 'rating': 3.5, 'alias': 'houlihans-mt-lebanon-pittsburgh', 'review_count': 65, 'url': 'https://www.yelp.com/biz/houlihans-mt-lebanon-pittsburgh?adjust_creative=nJbdqWu2t1WtpsRK8MuB_A&utm_campaign=yelp_api_v3&utm_medium=api_v3_business_search&utm_source=nJbdqWu2t1WtpsRK8MuB_A', 'id': 'AThUjgEmgHgVdD242hjsAg', 'is_closed': False, 'name': \"Houlihan's Mt. Lebanon\", 'image_url': 'https://s3-media1.fl.yelpcdn.com/bphoto/42jTI269LyHDtOJ9k_OIXA/o.jpg', 'distance': 11527.321073708832}, {'location': {'address2': '', 'address1': '1916 Smallman St', 'display_address': ['1916 Smallman St', 'Pittsburgh, PA 15222'], 'city': 'Pittsburgh', 'state': 'PA', 'zip_code': '15222', 'country': 'US', 'address3': ''}, 'coordinates': {'latitude': 40.4515167, 'longitude': -79.9849613}, 'categories': [{'alias': 'newamerican', 'title': 'American (New)'}, {'alias': 'lounges', 'title': 'Lounges'}, {'alias': 'sandwiches', 'title': 'Sandwiches'}], 'transactions': [], 'price': '$$', 'phone': '+14129181068', 'display_phone': '(412) 918-1068', 'rating': 4.0, 'alias': 'cavo-nightclub-pittsburgh', 'review_count': 54, 'url': 'https://www.yelp.com/biz/cavo-nightclub-pittsburgh?adjust_creative=nJbdqWu2t1WtpsRK8MuB_A&utm_campaign=yelp_api_v3&utm_medium=api_v3_business_search&utm_source=nJbdqWu2t1WtpsRK8MuB_A', 'id': 'oJsfjG1uh6jopK6Kc-3pdQ', 'is_closed': False, 'name': 'Cavo Nightclub', 'image_url': 'https://s3-media3.fl.yelpcdn.com/bphoto/1VVWFzsmhFVWuh4cX9p4BQ/o.jpg', 'distance': 908.4558802358932}, {'location': {'address2': '', 'address1': '1701 E Carson St', 'display_address': ['1701 E Carson St', 'Pittsburgh, PA 15203'], 'city': 'Pittsburgh', 'state': 'PA', 'zip_code': '15203', 'country': 'US', 'address3': ''}, 'coordinates': {'latitude': 40.4288852949545, 'longitude': -79.9820696935058}, 'categories': [{'alias': 'cambodian', 'title': 'Cambodian'}, {'alias': 'asianfusion', 'title': 'Asian Fusion'}, {'alias': 'seafood', 'title': 'Seafood'}], 'transactions': [], 'price': '$$', 'phone': '+14123816199', 'display_phone': '(412) 381-6199', 'rating': 4.5, 'alias': 'cambod-ican-kitchen-pittsburgh', 'review_count': 112, 'url': 'https://www.yelp.com/biz/cambod-ican-kitchen-pittsburgh?adjust_creative=nJbdqWu2t1WtpsRK8MuB_A&utm_campaign=yelp_api_v3&utm_medium=api_v3_business_search&utm_source=nJbdqWu2t1WtpsRK8MuB_A', 'id': 'vx5CbYuuIq_CHxjov5kj1w', 'is_closed': False, 'name': 'Cambod-Ican Kitchen', 'image_url': 'https://s3-media1.fl.yelpcdn.com/bphoto/RbCF5h3wKPY6H5cRuNO3RQ/o.jpg', 'distance': 1773.580470998648}, {'location': {'address2': '', 'address1': '1832 E Carson St', 'display_address': ['1832 E Carson St', 'Pittsburgh, PA 15203'], 'city': 'Pittsburgh', 'state': 'PA', 'zip_code': '15203', 'country': 'US', 'address3': ''}, 'coordinates': {'latitude': 40.42843, 'longitude': -79.97932}, 'categories': [{'alias': 'sandwiches', 'title': 'Sandwiches'}, {'alias': 'newamerican', 'title': 'American (New)'}, {'alias': 'sportsbars', 'title': 'Sports Bars'}], 'transactions': ['pickup', 'delivery'], 'price': '$', 'phone': '+14123812583', 'display_phone': '(412) 381-2583', 'rating': 3.5, 'alias': 'primanti-bros-pittsburgh-6', 'review_count': 148, 'url': 'https://www.yelp.com/biz/primanti-bros-pittsburgh-6?adjust_creative=nJbdqWu2t1WtpsRK8MuB_A&utm_campaign=yelp_api_v3&utm_medium=api_v3_business_search&utm_source=nJbdqWu2t1WtpsRK8MuB_A', 'id': 'TKDL0wiztnEr_rMkX8ZomQ', 'is_closed': False, 'name': 'Primanti Bros', 'image_url': 'https://s3-media2.fl.yelpcdn.com/bphoto/SlcsbfBB_dASjFyYXCulKA/o.jpg', 'distance': 1799.5539563426905}, {'location': {'address2': '', 'address1': '5336 Butler St', 'display_address': ['5336 Butler St', 'Pittsburgh, PA 15201'], 'city': 'Pittsburgh', 'state': 'PA', 'zip_code': '15201', 'country': 'US', 'address3': ''}, 'coordinates': {'latitude': 40.48269, 'longitude': -79.95116}, 'categories': [{'alias': 'newamerican', 'title': 'American (New)'}, {'alias': 'mediterranean', 'title': 'Mediterranean'}], 'transactions': [], 'price': '$$$', 'phone': '+14122522595', 'display_phone': '(412) 252-2595', 'rating': 4.0, 'alias': 'cure-pittsburgh', 'review_count': 409, 'url': 'https://www.yelp.com/biz/cure-pittsburgh?adjust_creative=nJbdqWu2t1WtpsRK8MuB_A&utm_campaign=yelp_api_v3&utm_medium=api_v3_business_search&utm_source=nJbdqWu2t1WtpsRK8MuB_A', 'id': 'bdNyoXY4yJ99derJRqhP3Q', 'is_closed': False, 'name': 'Cure', 'image_url': 'https://s3-media1.fl.yelpcdn.com/bphoto/99lbCxywOg-cllfl-5PxeA/o.jpg', 'distance': 4842.055737728476}, {'location': {'address2': '', 'address1': '2623 Penn Ave', 'display_address': ['2623 Penn Ave', 'Pittsburgh, PA 15222'], 'city': 'Pittsburgh', 'state': 'PA', 'zip_code': '15222', 'country': 'US', 'address3': ''}, 'coordinates': {'latitude': 40.45552, 'longitude': -79.97806}, 'categories': [{'alias': 'newamerican', 'title': 'American (New)'}, {'alias': 'wine_bars', 'title': 'Wine Bars'}], 'transactions': ['pickup'], 'price': '$$$', 'phone': '+14122810660', 'display_phone': '(412) 281-0660', 'rating': 3.5, 'alias': 'savoy-pittsburgh-3', 'review_count': 127, 'url': 'https://www.yelp.com/biz/savoy-pittsburgh-3?adjust_creative=nJbdqWu2t1WtpsRK8MuB_A&utm_campaign=yelp_api_v3&utm_medium=api_v3_business_search&utm_source=nJbdqWu2t1WtpsRK8MuB_A', 'id': '-WVF5DKZeEWlMK8Cucto-A', 'is_closed': False, 'name': 'Savoy', 'image_url': 'https://s3-media2.fl.yelpcdn.com/bphoto/qLidj9pwDI_xUQUANixRsw/o.jpg', 'distance': 1206.8280105315991}, {'location': {'address2': '', 'address1': '2350 Railroad St', 'display_address': ['2350 Railroad St', 'Pittsburgh, PA 15222'], 'city': 'Pittsburgh', 'state': 'PA', 'zip_code': '15222', 'country': 'US', 'address3': ''}, 'coordinates': {'latitude': 40.4541644107714, 'longitude': -79.9830404050323}, 'categories': [{'alias': 'seafood', 'title': 'Seafood'}, {'alias': 'steak', 'title': 'Steakhouses'}, {'alias': 'whiskeybars', 'title': 'Whiskey Bars'}], 'transactions': [], 'price': '$$$', 'phone': '+14122816593', 'display_phone': '(412) 281-6593', 'rating': 4.0, 'alias': 'cioppino-restaurant-and-cigar-bar-pittsburgh-5', 'review_count': 170, 'url': 'https://www.yelp.com/biz/cioppino-restaurant-and-cigar-bar-pittsburgh-5?adjust_creative=nJbdqWu2t1WtpsRK8MuB_A&utm_campaign=yelp_api_v3&utm_medium=api_v3_business_search&utm_source=nJbdqWu2t1WtpsRK8MuB_A', 'id': '_VHU9KZUHRLp2Hc2JOKlYg', 'is_closed': False, 'name': 'Cioppino Restaurant & Cigar Bar', 'image_url': 'https://s3-media3.fl.yelpcdn.com/bphoto/qRvZXiYIaZcpGM_fOM8ZuQ/o.jpg', 'distance': 1106.8166900502133}, {'location': {'address2': '', 'address1': '565 Lincoln Ave', 'display_address': ['565 Lincoln Ave', 'Bellevue, PA 15202'], 'city': 'Bellevue', 'state': 'PA', 'zip_code': '15202', 'country': 'US', 'address3': ''}, 'coordinates': {'latitude': 40.4964748040512, 'longitude': -80.0577745855534}, 'categories': [{'alias': 'tradamerican', 'title': 'American (Traditional)'}, {'alias': 'bars', 'title': 'Bars'}, {'alias': 'chicken_wings', 'title': 'Chicken Wings'}], 'transactions': ['pickup', 'delivery'], 'price': '$$', 'phone': '+14123018623', 'display_phone': '(412) 301-8623', 'rating': 4.0, 'alias': 'grille-565-bellevue', 'review_count': 33, 'url': 'https://www.yelp.com/biz/grille-565-bellevue?adjust_creative=nJbdqWu2t1WtpsRK8MuB_A&utm_campaign=yelp_api_v3&utm_medium=api_v3_business_search&utm_source=nJbdqWu2t1WtpsRK8MuB_A', 'id': 'iHr3m4M3nuDEkMP5_XcmEg', 'is_closed': False, 'name': 'Grille 565', 'image_url': 'https://s3-media2.fl.yelpcdn.com/bphoto/rVVkqLUXn2jaBiLdjQYKEw/o.jpg', 'distance': 8801.865083230843}, {'location': {'address2': '', 'address1': '1212 Grandview Ave', 'display_address': ['1212 Grandview Ave', 'Pittsburgh, PA 15211'], 'city': 'Pittsburgh', 'state': 'PA', 'zip_code': '15211', 'country': 'US', 'address3': ''}, 'coordinates': {'latitude': 40.4381637573242, 'longitude': -80.0185165405273}, 'categories': [{'alias': 'steak', 'title': 'Steakhouses'}, {'alias': 'seafood', 'title': 'Seafood'}, {'alias': 'wine_bars', 'title': 'Wine Bars'}], 'transactions': [], 'price': '$$', 'phone': '+14124311400', 'display_phone': '(412) 431-1400', 'rating': 3.0, 'alias': 'grandview-saloon-pittsburgh', 'review_count': 134, 'url': 'https://www.yelp.com/biz/grandview-saloon-pittsburgh?adjust_creative=nJbdqWu2t1WtpsRK8MuB_A&utm_campaign=yelp_api_v3&utm_medium=api_v3_business_search&utm_source=nJbdqWu2t1WtpsRK8MuB_A', 'id': 'lpxj6LFir23Ds6swW8a6fg', 'is_closed': False, 'name': 'Grandview Saloon', 'image_url': 'https://s3-media1.fl.yelpcdn.com/bphoto/EWkmR-F6I6lSx91C-Nuc5w/o.jpg', 'distance': 3416.7315956605166}, {'location': {'address2': '', 'address1': '3887 Bigelow Blvd', 'display_address': ['3887 Bigelow Blvd', 'Pittsburgh, PA 15213'], 'city': 'Pittsburgh', 'state': 'PA', 'zip_code': '15213', 'country': 'US', 'address3': ''}, 'coordinates': {'latitude': 40.45472, 'longitude': -79.95429}, 'categories': [{'alias': 'italian', 'title': 'Italian'}], 'transactions': [], 'price': '$$', 'phone': '+14126828296', 'display_phone': '(412) 682-8296', 'rating': 4.0, 'alias': 'zarras-a-taste-of-southern-italy-pittsburgh', 'review_count': 100, 'url': 'https://www.yelp.com/biz/zarras-a-taste-of-southern-italy-pittsburgh?adjust_creative=nJbdqWu2t1WtpsRK8MuB_A&utm_campaign=yelp_api_v3&utm_medium=api_v3_business_search&utm_source=nJbdqWu2t1WtpsRK8MuB_A', 'id': 'XxmziAeRqMKwsDjyyjVgeg', 'is_closed': False, 'name': \"Zarra's A Taste of Southern Italy\", 'image_url': 'https://s3-media2.fl.yelpcdn.com/bphoto/3EAA82x0WdFf7W95rdSAig/o.jpg', 'distance': 2376.8415655665312}, {'location': {'address2': 'Ste 230', 'address1': '4607 Library Rd', 'display_address': ['4607 Library Rd', 'Ste 230', 'Bethel Park, PA 15102'], 'city': 'Bethel Park', 'state': 'PA', 'zip_code': '15102', 'country': 'US', 'address3': None}, 'coordinates': {'latitude': 40.35002, 'longitude': -80.0225899}, 'categories': [{'alias': 'newamerican', 'title': 'American (New)'}, {'alias': 'seafood', 'title': 'Seafood'}, {'alias': 'cocktailbars', 'title': 'Cocktail Bars'}], 'transactions': [], 'price': '$$', 'phone': '+14124092480', 'display_phone': '(412) 409-2480', 'rating': 4.0, 'alias': 'vilka-bistro-bethel-park', 'review_count': 37, 'url': 'https://www.yelp.com/biz/vilka-bistro-bethel-park?adjust_creative=nJbdqWu2t1WtpsRK8MuB_A&utm_campaign=yelp_api_v3&utm_medium=api_v3_business_search&utm_source=nJbdqWu2t1WtpsRK8MuB_A', 'id': 'NdQzxU4hHk25mUoltnw4wg', 'is_closed': False, 'name': 'Vilka Bistro', 'image_url': 'https://s3-media4.fl.yelpcdn.com/bphoto/BCPC-ZSB0t2lHGSEFMgKpg/o.jpg', 'distance': 11148.0657338842}, {'location': {'address2': '', 'address1': '212 6th St', 'display_address': ['212 6th St', 'Pittsburgh, PA 15222'], 'city': 'Pittsburgh', 'state': 'PA', 'zip_code': '15222', 'country': 'US', 'address3': ''}, 'coordinates': {'latitude': 40.442334, 'longitude': -80.002066}, 'categories': [{'alias': 'newamerican', 'title': 'American (New)'}, {'alias': 'butcher', 'title': 'Butcher'}, {'alias': 'cocktailbars', 'title': 'Cocktail Bars'}], 'transactions': ['restaurant_reservation'], 'price': '$$$', 'phone': '+14123912752', 'display_phone': '(412) 391-2752', 'rating': 4.5, 'alias': 'butcher-and-the-rye-pittsburgh', 'review_count': 764, 'url': 'https://www.yelp.com/biz/butcher-and-the-rye-pittsburgh?adjust_creative=nJbdqWu2t1WtpsRK8MuB_A&utm_campaign=yelp_api_v3&utm_medium=api_v3_business_search&utm_source=nJbdqWu2t1WtpsRK8MuB_A', 'id': 'SmkYLXEYhzwUZdS6TAevHg', 'is_closed': False, 'name': 'Butcher and the Rye', 'image_url': 'https://s3-media1.fl.yelpcdn.com/bphoto/ridIHrro6fStsoIr6zXqGw/o.jpg', 'distance': 1961.204843931838}, {'location': {'address2': '', 'address1': '6738 Reynolds St', 'display_address': ['6738 Reynolds St', 'Pittsburgh, PA 15206'], 'city': 'Pittsburgh', 'state': 'PA', 'zip_code': '15206', 'country': 'US', 'address3': ''}, 'coordinates': {'latitude': 40.4502499, 'longitude': -79.91449}, 'categories': [{'alias': 'italian', 'title': 'Italian'}, {'alias': 'tapasmallplates', 'title': 'Tapas/Small Plates'}], 'transactions': [], 'price': '$$', 'phone': '+14123611336', 'display_phone': '(412) 361-1336', 'rating': 3.0, 'alias': 'pinos-contemporary-italian-restaurant-and-wine-bar-pittsburgh', 'review_count': 88, 'url': 'https://www.yelp.com/biz/pinos-contemporary-italian-restaurant-and-wine-bar-pittsburgh?adjust_creative=nJbdqWu2t1WtpsRK8MuB_A&utm_campaign=yelp_api_v3&utm_medium=api_v3_business_search&utm_source=nJbdqWu2t1WtpsRK8MuB_A', 'id': 'rUy2MtHyFv8pI7FOW1DE8w', 'is_closed': False, 'name': \"Pino's Contemporary Italian Restaurant & Wine Bar\", 'image_url': 'https://s3-media4.fl.yelpcdn.com/bphoto/q_Zz8yQP0KeUXbpGfS9s2w/o.jpg', 'distance': 5499.815405251901}, {'location': {'address2': '', 'address1': '2208 Penn Ave', 'display_address': ['2208 Penn Ave', 'Pittsburgh, PA 15222'], 'city': 'Pittsburgh', 'state': 'PA', 'zip_code': '15222', 'country': 'US', 'address3': ''}, 'coordinates': {'latitude': 40.4523086547852, 'longitude': -79.981819152832}, 'categories': [{'alias': 'sushi', 'title': 'Sushi Bars'}, {'alias': 'seafood', 'title': 'Seafood'}, {'alias': 'seafoodmarkets', 'title': 'Seafood Markets'}], 'transactions': [], 'price': '$$', 'phone': '+14124347200', 'display_phone': '(412) 434-7200', 'rating': 4.0, 'alias': 'penn-ave-fish-company-pittsburgh', 'review_count': 269, 'url': 'https://www.yelp.com/biz/penn-ave-fish-company-pittsburgh?adjust_creative=nJbdqWu2t1WtpsRK8MuB_A&utm_campaign=yelp_api_v3&utm_medium=api_v3_business_search&utm_source=nJbdqWu2t1WtpsRK8MuB_A', 'id': 'X88w0XrUSIKue9Vuwtqs_g', 'is_closed': False, 'name': 'Penn Ave Fish Company', 'image_url': 'https://s3-media3.fl.yelpcdn.com/bphoto/n06nlRB-vM0MbSPnAmIBTw/o.jpg', 'distance': 882.406167318855}, {'location': {'address2': '', 'address1': '2216 Penn Ave', 'display_address': ['2216 Penn Ave', 'Pittsburgh, PA 15222'], 'city': 'Pittsburgh', 'state': 'PA', 'zip_code': '15222', 'country': 'US', 'address3': ''}, 'coordinates': {'latitude': 40.45248, 'longitude': -79.98155}, 'categories': [{'alias': 'wine_bars', 'title': 'Wine Bars'}, {'alias': 'cafes', 'title': 'Cafes'}], 'transactions': [], 'price': '$$', 'phone': '+14124711900', 'display_phone': '(412) 471-1900', 'rating': 4.0, 'alias': 'bar-marco-pittsburgh', 'review_count': 273, 'url': 'https://www.yelp.com/biz/bar-marco-pittsburgh?adjust_creative=nJbdqWu2t1WtpsRK8MuB_A&utm_campaign=yelp_api_v3&utm_medium=api_v3_business_search&utm_source=nJbdqWu2t1WtpsRK8MuB_A', 'id': 'z15C-dJodOlPO8bMBl6F8g', 'is_closed': False, 'name': 'Bar Marco', 'image_url': 'https://s3-media1.fl.yelpcdn.com/bphoto/OFyM2OfS9blrrI0JkTttQA/o.jpg', 'distance': 891.0094577350281}, {'location': {'address2': None, 'address1': '2557 E Carson St', 'display_address': ['2557 E Carson St', 'Pittsburgh, PA 15203'], 'city': 'Pittsburgh', 'state': 'PA', 'zip_code': '15203', 'country': 'US', 'address3': None}, 'coordinates': {'latitude': 40.4277223400876, 'longitude': -79.9686308033154}, 'categories': [{'alias': 'mexican', 'title': 'Mexican'}, {'alias': 'bars', 'title': 'Bars'}], 'transactions': [], 'price': '$$', 'phone': '+14123812229', 'display_phone': '(412) 381-2229', 'rating': 3.5, 'alias': 'emillianos-mexican-restaurant-and-bar-pittsburgh-2', 'review_count': 254, 'url': 'https://www.yelp.com/biz/emillianos-mexican-restaurant-and-bar-pittsburgh-2?adjust_creative=nJbdqWu2t1WtpsRK8MuB_A&utm_campaign=yelp_api_v3&utm_medium=api_v3_business_search&utm_source=nJbdqWu2t1WtpsRK8MuB_A', 'id': '7mU3l5VjH1IxsXcxBxUblg', 'is_closed': False, 'name': \"Emilliano's Mexican Restaurant and Bar\", 'image_url': 'https://s3-media3.fl.yelpcdn.com/bphoto/S2YhRjou_39U1VEGGBfseQ/o.jpg', 'distance': 2082.6424608418333}]\n"
     ]
    },
    {
     "name": "stdout",
     "output_type": "stream",
     "text": [
      "result = [{'location': {'address2': None, 'address1': '1150 Smallman St', 'display_address': ['1150 Smallman St', 'Pittsburgh, PA 15222'], 'city': 'Pittsburgh', 'state': 'PA', 'zip_code': '15222', 'country': 'US', 'address3': ''}, 'coordinates': {'latitude': 40.44602, 'longitude': -79.99325}, 'categories': [{'alias': 'newamerican', 'title': 'American (New)'}], 'transactions': [], 'price': '$$$', 'phone': '+14122015656', 'display_phone': '(412) 201-5656', 'rating': 4.0, 'alias': 'eleven-pittsburgh', 'review_count': 608, 'url': 'https://www.yelp.com/biz/eleven-pittsburgh?adjust_creative=nJbdqWu2t1WtpsRK8MuB_A&utm_campaign=yelp_api_v3&utm_medium=api_v3_business_search&utm_source=nJbdqWu2t1WtpsRK8MuB_A', 'id': 'd2ZQRjuizstCTnicysmpMQ', 'is_closed': False, 'name': 'Eleven', 'image_url': 'https://s3-media1.fl.yelpcdn.com/bphoto/VGHHcnoAHZl6oe18_gtsKQ/o.jpg', 'distance': 1200.6843105135545}, {'location': {'address2': '', 'address1': '110 Andrew Dr', 'display_address': ['110 Andrew Dr', 'Pittsburgh, PA 15275'], 'city': 'Pittsburgh', 'state': 'PA', 'zip_code': '15275', 'country': 'US', 'address3': ''}, 'coordinates': {'latitude': 40.4505157937871, 'longitude': -80.1756812708209}, 'categories': [{'alias': 'chicken_wings', 'title': 'Chicken Wings'}, {'alias': 'tradamerican', 'title': 'American (Traditional)'}, {'alias': 'steak', 'title': 'Steakhouses'}], 'transactions': [], 'price': '$$', 'phone': '+14124943344', 'display_phone': '(412) 494-3344', 'rating': 3.0, 'alias': 'quaker-steak-and-lube-pittsburgh-3', 'review_count': 108, 'url': 'https://www.yelp.com/biz/quaker-steak-and-lube-pittsburgh-3?adjust_creative=nJbdqWu2t1WtpsRK8MuB_A&utm_campaign=yelp_api_v3&utm_medium=api_v3_business_search&utm_source=nJbdqWu2t1WtpsRK8MuB_A', 'id': 'PeATTp15Y_ExaN6mR1dmKw', 'is_closed': False, 'name': 'Quaker Steak & Lube', 'image_url': 'https://s3-media3.fl.yelpcdn.com/bphoto/rvqJkzskYd_Bob_Bme8ouw/o.jpg', 'distance': 16647.60977416547}, {'location': {'address2': '', 'address1': '5 Market Sq', 'display_address': ['5 Market Sq', 'Pittsburgh, PA 15222'], 'city': 'Pittsburgh', 'state': 'PA', 'zip_code': '15222', 'country': 'US', 'address3': ''}, 'coordinates': {'latitude': 40.44014, 'longitude': -80.0024}, 'categories': [{'alias': 'burgers', 'title': 'Burgers'}, {'alias': 'pizza', 'title': 'Pizza'}, {'alias': 'whiskeybars', 'title': 'Whiskey Bars'}], 'transactions': [], 'price': '$$', 'phone': '+14124345600', 'display_phone': '(412) 434-5600', 'rating': 4.0, 'alias': 'wingharts-burger-and-whiskey-bar-pittsburgh', 'review_count': 488, 'url': 'https://www.yelp.com/biz/wingharts-burger-and-whiskey-bar-pittsburgh?adjust_creative=nJbdqWu2t1WtpsRK8MuB_A&utm_campaign=yelp_api_v3&utm_medium=api_v3_business_search&utm_source=nJbdqWu2t1WtpsRK8MuB_A', 'id': 'j3IEZP4nQAt7fkxmerLMbA', 'is_closed': False, 'name': \"Winghart's Burger & Whiskey Bar\", 'image_url': 'https://s3-media2.fl.yelpcdn.com/bphoto/Qtdxok91r09Jj657j7BdxQ/o.jpg', 'distance': 2040.6840219137066}, {'location': {'address2': '', 'address1': '733 Copeland St', 'display_address': ['733 Copeland St', 'Pittsburgh, PA 15232'], 'city': 'Pittsburgh', 'state': 'PA', 'zip_code': '15232', 'country': 'US', 'address3': ''}, 'coordinates': {'latitude': 40.45121, 'longitude': -79.93462}, 'categories': [{'alias': 'italian', 'title': 'Italian'}], 'transactions': [], 'price': '$$', 'phone': '+14126822130', 'display_phone': '(412) 682-2130', 'rating': 4.0, 'alias': 'girasole-restaurant-pittsburgh', 'review_count': 326, 'url': 'https://www.yelp.com/biz/girasole-restaurant-pittsburgh?adjust_creative=nJbdqWu2t1WtpsRK8MuB_A&utm_campaign=yelp_api_v3&utm_medium=api_v3_business_search&utm_source=nJbdqWu2t1WtpsRK8MuB_A', 'id': 'j54J0Ky4ruVbN_NTJ3daFg', 'is_closed': False, 'name': 'Girasole Restaurant', 'image_url': 'https://s3-media4.fl.yelpcdn.com/bphoto/-y11kc5CdCALLMD-772VFw/o.jpg', 'distance': 3837.2575904968767}, {'location': {'address2': '', 'address1': '4305 Butler St', 'display_address': ['4305 Butler St', 'Pittsburgh, PA 15201'], 'city': 'Pittsburgh', 'state': 'PA', 'zip_code': '15201', 'country': 'US', 'address3': ''}, 'coordinates': {'latitude': 40.4707662016153, 'longitude': -79.9603226780891}, 'categories': [{'alias': 'newamerican', 'title': 'American (New)'}, {'alias': 'cocktailbars', 'title': 'Cocktail Bars'}], 'transactions': [], 'price': '$$', 'phone': '+14126831100', 'display_phone': '(412) 683-1100', 'rating': 3.5, 'alias': 'industry-public-house-pittsburgh-3', 'review_count': 508, 'url': 'https://www.yelp.com/biz/industry-public-house-pittsburgh-3?adjust_creative=nJbdqWu2t1WtpsRK8MuB_A&utm_campaign=yelp_api_v3&utm_medium=api_v3_business_search&utm_source=nJbdqWu2t1WtpsRK8MuB_A', 'id': '-7H-oXvCxJzuT42ky6Db0g', 'is_closed': False, 'name': 'Industry Public House', 'image_url': 'https://s3-media2.fl.yelpcdn.com/bphoto/-SJ-vxmujgSL4xrZVH8G9A/o.jpg', 'distance': 3312.1959663980183}, {'location': {'address2': '', 'address1': '211 Forbes Ave', 'display_address': ['211 Forbes Ave', 'Pittsburgh, PA 15222'], 'city': 'Pittsburgh', 'state': 'PA', 'zip_code': '15222', 'country': 'US', 'address3': ''}, 'coordinates': {'latitude': 40.4405558779084, 'longitude': -80.0019637537279}, 'categories': [{'alias': 'mexican', 'title': 'Mexican'}, {'alias': 'hotdogs', 'title': 'Fast Food'}], 'transactions': [], 'price': '$', 'phone': '+14122245586', 'display_phone': '(412) 224-5586', 'rating': 3.0, 'alias': 'chipotle-mexican-grill-pittsburgh-12', 'review_count': 55, 'url': 'https://www.yelp.com/biz/chipotle-mexican-grill-pittsburgh-12?adjust_creative=nJbdqWu2t1WtpsRK8MuB_A&utm_campaign=yelp_api_v3&utm_medium=api_v3_business_search&utm_source=nJbdqWu2t1WtpsRK8MuB_A', 'id': 'j-5O-Ehd2eaCHYgmTSfoRw', 'is_closed': False, 'name': 'Chipotle Mexican Grill', 'image_url': 'https://s3-media1.fl.yelpcdn.com/bphoto/xszWCGyVM0jVbAlVAwWibA/o.jpg', 'distance': 1988.679148526652}, {'location': {'address2': '', 'address1': '942 Penn Ave', 'display_address': ['942 Penn Ave', 'Pittsburgh, PA 15222'], 'city': 'Pittsburgh', 'state': 'PA', 'zip_code': '15222', 'country': 'US', 'address3': ''}, 'coordinates': {'latitude': 40.4439496, 'longitude': -79.9964366}, 'categories': [{'alias': 'italian', 'title': 'Italian'}, {'alias': 'pizza', 'title': 'Pizza'}, {'alias': 'bars', 'title': 'Bars'}], 'transactions': [], 'price': '$$', 'phone': '+14122812810', 'display_phone': '(412) 281-2810', 'rating': 4.0, 'alias': 'sienna-mercato-pittsburgh', 'review_count': 698, 'url': 'https://www.yelp.com/biz/sienna-mercato-pittsburgh?adjust_creative=nJbdqWu2t1WtpsRK8MuB_A&utm_campaign=yelp_api_v3&utm_medium=api_v3_business_search&utm_source=nJbdqWu2t1WtpsRK8MuB_A', 'id': 'sMzNLdhJZGzYirIWt-fMAg', 'is_closed': False, 'name': 'Sienna Mercato', 'image_url': 'https://s3-media3.fl.yelpcdn.com/bphoto/x8MXIECnJ8IfTW4xf-EAhQ/o.jpg', 'distance': 1469.674584312531}, {'location': {'address2': '', 'address1': '5950 Steubenville Pk', 'display_address': ['5950 Steubenville Pk', 'Robinson Township, PA 15136'], 'city': 'Robinson Township', 'state': 'PA', 'zip_code': '15136', 'country': 'US', 'address3': ''}, 'coordinates': {'latitude': 40.44784, 'longitude': -80.14324}, 'categories': [{'alias': 'greek', 'title': 'Greek'}, {'alias': 'newamerican', 'title': 'American (New)'}], 'transactions': [], 'price': '$', 'phone': '+14124895279', 'display_phone': '(412) 489-5279', 'rating': 4.0, 'alias': 'olympos-gyros-robinson-township', 'review_count': 50, 'url': 'https://www.yelp.com/biz/olympos-gyros-robinson-township?adjust_creative=nJbdqWu2t1WtpsRK8MuB_A&utm_campaign=yelp_api_v3&utm_medium=api_v3_business_search&utm_source=nJbdqWu2t1WtpsRK8MuB_A', 'id': 'JxSmlL_MckX0dvS5XBg0Cg', 'is_closed': False, 'name': 'Olympos Gyros', 'image_url': 'https://s3-media4.fl.yelpcdn.com/bphoto/tq0SO2-qeMt3RcljliYsOg/o.jpg', 'distance': 13856.066217704398}, {'location': {'address2': '', 'address1': '220 S Highland Ave', 'display_address': ['220 S Highland Ave', 'Pittsburgh, PA 15206'], 'city': 'Pittsburgh', 'state': 'PA', 'zip_code': '15206', 'country': 'US', 'address3': ''}, 'coordinates': {'latitude': 40.458283, 'longitude': -79.925318}, 'categories': [{'alias': 'mexican', 'title': 'Mexican'}, {'alias': 'tex-mex', 'title': 'Tex-Mex'}], 'transactions': ['delivery'], 'price': '$$', 'phone': '+14123450185', 'display_phone': '(412) 345-0185', 'rating': 3.5, 'alias': 'mad-mex-shadyside-pittsburgh', 'review_count': 291, 'url': 'https://www.yelp.com/biz/mad-mex-shadyside-pittsburgh?adjust_creative=nJbdqWu2t1WtpsRK8MuB_A&utm_campaign=yelp_api_v3&utm_medium=api_v3_business_search&utm_source=nJbdqWu2t1WtpsRK8MuB_A', 'id': 'XNWXyFgCGaAwvg9QML2Ypw', 'is_closed': False, 'name': 'Mad Mex - Shadyside', 'image_url': 'https://s3-media4.fl.yelpcdn.com/bphoto/6caeRL0sjRWzwnQHWh-pLg/o.jpg', 'distance': 4795.365602519818}, {'location': {'address2': '', 'address1': '2313 Rochester Rd', 'display_address': ['2313 Rochester Rd', 'Pittsburgh, PA 15237'], 'city': 'Pittsburgh', 'state': 'PA', 'zip_code': '15237', 'country': 'US', 'address3': ''}, 'coordinates': {'latitude': 40.57829, 'longitude': -80.07811}, 'categories': [{'alias': 'mexican', 'title': 'Mexican'}], 'transactions': [], 'price': '$$', 'phone': '+14123664140', 'display_phone': '(412) 366-4140', 'rating': 3.0, 'alias': 'the-franklin-inn-pittsburgh', 'review_count': 104, 'url': 'https://www.yelp.com/biz/the-franklin-inn-pittsburgh?adjust_creative=nJbdqWu2t1WtpsRK8MuB_A&utm_campaign=yelp_api_v3&utm_medium=api_v3_business_search&utm_source=nJbdqWu2t1WtpsRK8MuB_A', 'id': 'Tr8TJnMoSgBvfZvmCx9-eQ', 'is_closed': False, 'name': 'The Franklin Inn', 'image_url': 'https://s3-media2.fl.yelpcdn.com/bphoto/O-ONe-ofmfJY_-vAxvzmAQ/o.jpg', 'distance': 17055.616229703388}, {'location': {'address2': '', 'address1': '960 Penn Ave', 'display_address': ['960 Penn Ave', 'Pittsburgh, PA 15222'], 'city': 'Pittsburgh', 'state': 'PA', 'zip_code': '15222', 'country': 'US', 'address3': ''}, 'coordinates': {'latitude': 40.4444316, 'longitude': -79.9956094}, 'categories': [{'alias': 'tradamerican', 'title': 'American (Traditional)'}], 'transactions': ['delivery', 'pickup'], 'price': '$$', 'phone': '+14123188000', 'display_phone': '(412) 318-8000', 'rating': 3.0, 'alias': 'ten-penny-pittsburgh', 'review_count': 438, 'url': 'https://www.yelp.com/biz/ten-penny-pittsburgh?adjust_creative=nJbdqWu2t1WtpsRK8MuB_A&utm_campaign=yelp_api_v3&utm_medium=api_v3_business_search&utm_source=nJbdqWu2t1WtpsRK8MuB_A', 'id': 'wY3dlpLa0BHfDENYAPYuZA', 'is_closed': False, 'name': 'Ten Penny', 'image_url': 'https://s3-media3.fl.yelpcdn.com/bphoto/I4ZXNG_eSfDNWFWpmhMznw/o.jpg', 'distance': 1397.7198535121938}, {'location': {'address2': '', 'address1': '180 E Waterfront Dr', 'display_address': ['180 E Waterfront Dr', 'Homestead, PA 15120'], 'city': 'Homestead', 'state': 'PA', 'zip_code': '15120', 'country': 'US', 'address3': None}, 'coordinates': {'latitude': 40.409937, 'longitude': -79.913895}, 'categories': [{'alias': 'tradamerican', 'title': 'American (Traditional)'}, {'alias': 'eatertainment', 'title': 'Eatertainment'}], 'transactions': [], 'price': '$$', 'phone': '+14124621500', 'display_phone': '(412) 462-1500', 'rating': 2.5, 'alias': 'dave-and-busters-homestead-2', 'review_count': 158, 'url': 'https://www.yelp.com/biz/dave-and-busters-homestead-2?adjust_creative=nJbdqWu2t1WtpsRK8MuB_A&utm_campaign=yelp_api_v3&utm_medium=api_v3_business_search&utm_source=nJbdqWu2t1WtpsRK8MuB_A', 'id': 'DFeEJf8h04q3KwRVWUsoMQ', 'is_closed': False, 'name': \"Dave & Buster's\", 'image_url': 'https://s3-media2.fl.yelpcdn.com/bphoto/zFkHfHSXx2s9kZ6quDeEfQ/o.jpg', 'distance': 6757.529682230792}, {'location': {'address2': '', 'address1': '407 Cinema Dr', 'display_address': ['407 Cinema Dr', 'Pittsburgh, PA 15203'], 'city': 'Pittsburgh', 'state': 'PA', 'zip_code': '15203', 'country': 'US', 'address3': ''}, 'coordinates': {'latitude': 40.4279062791307, 'longitude': -79.9652548}, 'categories': [{'alias': 'pubs', 'title': 'Pubs'}, {'alias': 'irish', 'title': 'Irish'}], 'transactions': [], 'price': '$$', 'phone': '+14123814800', 'display_phone': '(412) 381-4800', 'rating': 3.0, 'alias': 'claddagh-irish-pub-pittsburgh', 'review_count': 132, 'url': 'https://www.yelp.com/biz/claddagh-irish-pub-pittsburgh?adjust_creative=nJbdqWu2t1WtpsRK8MuB_A&utm_campaign=yelp_api_v3&utm_medium=api_v3_business_search&utm_source=nJbdqWu2t1WtpsRK8MuB_A', 'id': 'CaETzvd1cA5mYaCReGAHjA', 'is_closed': False, 'name': 'Claddagh Irish Pub', 'image_url': 'https://s3-media1.fl.yelpcdn.com/bphoto/kwqmjN-fB1Ue5pCZioE0og/o.jpg', 'distance': 2201.9205182027417}, {'location': {'address2': '', 'address1': '1679 State Road 228', 'display_address': ['1679 State Road 228', 'Cranberry Township, PA 16066'], 'city': 'Cranberry Township', 'state': 'PA', 'zip_code': '16066', 'country': 'US', 'address3': ''}, 'coordinates': {'latitude': 40.6860504150391, 'longitude': -80.0790863037109}, 'categories': [{'alias': 'steak', 'title': 'Steakhouses'}, {'alias': 'tradamerican', 'title': 'American (Traditional)'}, {'alias': 'bbq', 'title': 'Barbeque'}], 'transactions': [], 'price': '$$', 'phone': '+17247761500', 'display_phone': '(724) 776-1500', 'rating': 3.5, 'alias': 'longhorn-steakhouse-cranberry-township', 'review_count': 40, 'url': 'https://www.yelp.com/biz/longhorn-steakhouse-cranberry-township?adjust_creative=nJbdqWu2t1WtpsRK8MuB_A&utm_campaign=yelp_api_v3&utm_medium=api_v3_business_search&utm_source=nJbdqWu2t1WtpsRK8MuB_A', 'id': 'f81c_quPq5FSWw1uFPA85g', 'is_closed': False, 'name': 'LongHorn Steakhouse', 'image_url': 'https://s3-media2.fl.yelpcdn.com/bphoto/_V8YhABuCbGAFManT9sDOQ/o.jpg', 'distance': 28146.704541137624}, {'location': {'address2': '', 'address1': '10301 Pearce Mill Rd', 'display_address': ['10301 Pearce Mill Rd', 'Allison Park, PA 15101'], 'city': 'Allison Park', 'state': 'PA', 'zip_code': '15101', 'country': 'US', 'address3': ''}, 'coordinates': {'latitude': 40.6046132194713, 'longitude': -80.007391422987}, 'categories': [{'alias': 'newamerican', 'title': 'American (New)'}, {'alias': 'vegetarian', 'title': 'Vegetarian'}, {'alias': 'sandwiches', 'title': 'Sandwiches'}], 'transactions': [], 'price': '$$', 'phone': '+17249405000', 'display_phone': '(724) 940-5000', 'rating': 3.5, 'alias': 'otb-at-the-boathouse-allison-park', 'review_count': 192, 'url': 'https://www.yelp.com/biz/otb-at-the-boathouse-allison-park?adjust_creative=nJbdqWu2t1WtpsRK8MuB_A&utm_campaign=yelp_api_v3&utm_medium=api_v3_business_search&utm_source=nJbdqWu2t1WtpsRK8MuB_A', 'id': 'OQ_2_JzEqJrjG5z93cEqmQ', 'is_closed': False, 'name': 'OTB At the Boathouse', 'image_url': 'https://s3-media4.fl.yelpcdn.com/bphoto/wki2-TiYDHQjq65QYPNyTQ/o.jpg', 'distance': 17944.496951404515}, {'location': {'address2': '', 'address1': '240 Mall Blvd', 'display_address': ['240 Mall Blvd', 'Monroeville, PA 15146'], 'city': 'Monroeville', 'state': 'PA', 'zip_code': '15146', 'country': 'US', 'address3': ''}, 'coordinates': {'latitude': 40.43373, 'longitude': -79.78775}, 'categories': [{'alias': 'tradamerican', 'title': 'American (Traditional)'}], 'transactions': [], 'price': '$$', 'phone': '+14123726630', 'display_phone': '(412) 372-6630', 'rating': 2.5, 'alias': 'tgi-fridays-monroeville-2', 'review_count': 48, 'url': 'https://www.yelp.com/biz/tgi-fridays-monroeville-2?adjust_creative=nJbdqWu2t1WtpsRK8MuB_A&utm_campaign=yelp_api_v3&utm_medium=api_v3_business_search&utm_source=nJbdqWu2t1WtpsRK8MuB_A', 'id': '5k7HbIAamo1PG0uIYALuRQ', 'is_closed': False, 'name': 'TGI Fridays', 'image_url': 'https://s3-media1.fl.yelpcdn.com/bphoto/2QwDJYU-6_JkvpiU06mRtw/o.jpg', 'distance': 16241.793850374264}, {'location': {'address2': '', 'address1': '11232 Mckee Rd', 'display_address': ['11232 Mckee Rd', 'Irwin, PA 15642'], 'city': 'Irwin', 'state': 'PA', 'zip_code': '15642', 'country': 'US', 'address3': ''}, 'coordinates': {'latitude': 40.316603, 'longitude': -79.731475}, 'categories': [{'alias': 'bars', 'title': 'Bars'}, {'alias': 'tradamerican', 'title': 'American (Traditional)'}, {'alias': 'italian', 'title': 'Italian'}], 'transactions': [], 'price': '$$', 'phone': '+17248639999', 'display_phone': '(724) 863-9999', 'rating': 3.0, 'alias': 'the-brick-house-tap-and-grill-irwin', 'review_count': 33, 'url': 'https://www.yelp.com/biz/the-brick-house-tap-and-grill-irwin?adjust_creative=nJbdqWu2t1WtpsRK8MuB_A&utm_campaign=yelp_api_v3&utm_medium=api_v3_business_search&utm_source=nJbdqWu2t1WtpsRK8MuB_A', 'id': 'jei_nG0uhrvTSXEFL2K9bw', 'is_closed': False, 'name': 'The Brick House Tap & Grill', 'image_url': 'https://s3-media2.fl.yelpcdn.com/bphoto/2bY7sc-i4sp9grVv3V7Kww/o.jpg', 'distance': 25351.96383362263}, {'location': {'address2': '', 'address1': '6052 William Flynn Hwy', 'display_address': ['6052 William Flynn Hwy', 'Bakerstown, PA 15007'], 'city': 'Bakerstown', 'state': 'PA', 'zip_code': '15007', 'country': 'US', 'address3': ''}, 'coordinates': {'latitude': 40.6602786858445, 'longitude': -79.933645540963}, 'categories': [{'alias': 'italian', 'title': 'Italian'}], 'transactions': [], 'price': '$$', 'phone': '+17244447499', 'display_phone': '(724) 444-7499', 'rating': 3.5, 'alias': 'olives-and-peppers-bakerstown', 'review_count': 98, 'url': 'https://www.yelp.com/biz/olives-and-peppers-bakerstown?adjust_creative=nJbdqWu2t1WtpsRK8MuB_A&utm_campaign=yelp_api_v3&utm_medium=api_v3_business_search&utm_source=nJbdqWu2t1WtpsRK8MuB_A', 'id': 'ESds7CKFuHoozp1dNCV0Xg', 'is_closed': False, 'name': 'Olives & Peppers', 'image_url': 'https://s3-media3.fl.yelpcdn.com/bphoto/-awaow6dyXNdAjsqQm9H-g/o.jpg', 'distance': 24279.68726516631}]\n"
     ]
    },
    {
     "name": "stdout",
     "output_type": "stream",
     "text": [
      "results len = 38\n",
      "results = [{'location': {'address2': '', 'address1': '5701 Bryant St', 'display_address': ['5701 Bryant St', 'Pittsburgh, PA 15206'], 'city': 'Pittsburgh', 'state': 'PA', 'zip_code': '15206', 'country': 'US', 'address3': ''}, 'coordinates': {'latitude': 40.4765815734863, 'longitude': -79.9214401245117}, 'categories': [{'alias': 'italian', 'title': 'Italian'}], 'transactions': [], 'price': '$$$', 'phone': '+14126659000', 'display_phone': '(412) 665-9000', 'rating': 4.5, 'alias': 'joseph-tambellini-restaurant-pittsburgh', 'review_count': 115, 'url': 'https://www.yelp.com/biz/joseph-tambellini-restaurant-pittsburgh?adjust_creative=nJbdqWu2t1WtpsRK8MuB_A&utm_campaign=yelp_api_v3&utm_medium=api_v3_business_search&utm_source=nJbdqWu2t1WtpsRK8MuB_A', 'id': '-j0CbYvlwuJ3Tfx__X38gA', 'is_closed': False, 'name': 'Joseph Tambellini Restaurant', 'image_url': 'https://s3-media1.fl.yelpcdn.com/bphoto/ZDKaW0-1aE-v7g5yFsgvNw/o.jpg', 'distance': 6034.831689902183}, {'location': {'address2': 'Bldg 7', 'address1': '661 Andersen Dr', 'display_address': ['661 Andersen Dr', 'Bldg 7', 'Pittsburgh, PA 15220'], 'city': 'Pittsburgh', 'state': 'PA', 'zip_code': '15220', 'country': 'US', 'address3': None}, 'coordinates': {'latitude': 40.4207077026367, 'longitude': -80.0642471313477}, 'categories': [{'alias': 'italian', 'title': 'Italian'}, {'alias': 'seafood', 'title': 'Seafood'}], 'transactions': [], 'price': '$$', 'phone': '+14129211062', 'display_phone': '(412) 921-1062', 'rating': 3.5, 'alias': 'scoglios-green-tree-pittsburgh', 'review_count': 34, 'url': 'https://www.yelp.com/biz/scoglios-green-tree-pittsburgh?adjust_creative=nJbdqWu2t1WtpsRK8MuB_A&utm_campaign=yelp_api_v3&utm_medium=api_v3_business_search&utm_source=nJbdqWu2t1WtpsRK8MuB_A', 'id': '48jrpdXh98gzP5CxPwQyvw', 'is_closed': False, 'name': \"Scoglio's Green Tree\", 'image_url': 'https://s3-media2.fl.yelpcdn.com/bphoto/AYobbekSuqKU93T0O3f9bQ/o.jpg', 'distance': 7679.098265686229}, {'location': {'address2': '', 'address1': '634 Camp Horne Rd', 'display_address': ['634 Camp Horne Rd', 'Pittsburgh, PA 15237'], 'city': 'Pittsburgh', 'state': 'PA', 'zip_code': '15237', 'country': 'US', 'address3': ''}, 'coordinates': {'latitude': 40.5210099, 'longitude': -80.07652}, 'categories': [{'alias': 'newamerican', 'title': 'American (New)'}], 'transactions': [], 'price': '$$', 'phone': '+14128471007', 'display_phone': '(412) 847-1007', 'rating': 4.0, 'alias': 'willow-restaurant-pittsburgh', 'review_count': 140, 'url': 'https://www.yelp.com/biz/willow-restaurant-pittsburgh?adjust_creative=nJbdqWu2t1WtpsRK8MuB_A&utm_campaign=yelp_api_v3&utm_medium=api_v3_business_search&utm_source=nJbdqWu2t1WtpsRK8MuB_A', 'id': 'wDWKQR2psTIj4BZ0mf01Gg', 'is_closed': False, 'name': 'Willow Restaurant', 'image_url': 'https://s3-media2.fl.yelpcdn.com/bphoto/nizM_8SBnr0BIXR2hwAMmA/o.jpg', 'distance': 11840.013165004224}, {'location': {'address2': '', 'address1': '4621 Liberty Ave', 'display_address': ['4621 Liberty Ave', 'Pittsburgh, PA 15224'], 'city': 'Pittsburgh', 'state': 'PA', 'zip_code': '15224', 'country': 'US', 'address3': ''}, 'coordinates': {'latitude': 40.4625129699707, 'longitude': -79.9500045776367}, 'categories': [{'alias': 'modern_european', 'title': 'Modern European'}, {'alias': 'newamerican', 'title': 'American (New)'}, {'alias': 'catering', 'title': 'Caterers'}], 'transactions': [], 'price': '$$', 'phone': '+14126834575', 'display_phone': '(412) 683-4575', 'rating': 4.0, 'alias': 'sausalido-pittsburgh', 'review_count': 153, 'url': 'https://www.yelp.com/biz/sausalido-pittsburgh?adjust_creative=nJbdqWu2t1WtpsRK8MuB_A&utm_campaign=yelp_api_v3&utm_medium=api_v3_business_search&utm_source=nJbdqWu2t1WtpsRK8MuB_A', 'id': 'Rwahe1zbFpw6VIjb5ngZeg', 'is_closed': False, 'name': 'Sausalido', 'image_url': 'https://s3-media1.fl.yelpcdn.com/bphoto/26un83pMx6rZtgbxe42mFQ/o.jpg', 'distance': 3152.35222341091}, {'location': {'address2': '', 'address1': '1500 Washington Rd', 'display_address': ['1500 Washington Rd', 'Pittsburgh, PA 15228'], 'city': 'Pittsburgh', 'state': 'PA', 'zip_code': '15228', 'country': 'US', 'address3': ''}, 'coordinates': {'latitude': 40.357715, 'longitude': -80.051871}, 'categories': [{'alias': 'bars', 'title': 'Bars'}, {'alias': 'newamerican', 'title': 'American (New)'}], 'transactions': ['pickup', 'delivery'], 'price': '$$', 'phone': '+14123794811', 'display_phone': '(412) 379-4811', 'rating': 3.5, 'alias': 'houlihans-mt-lebanon-pittsburgh', 'review_count': 65, 'url': 'https://www.yelp.com/biz/houlihans-mt-lebanon-pittsburgh?adjust_creative=nJbdqWu2t1WtpsRK8MuB_A&utm_campaign=yelp_api_v3&utm_medium=api_v3_business_search&utm_source=nJbdqWu2t1WtpsRK8MuB_A', 'id': 'AThUjgEmgHgVdD242hjsAg', 'is_closed': False, 'name': \"Houlihan's Mt. Lebanon\", 'image_url': 'https://s3-media1.fl.yelpcdn.com/bphoto/42jTI269LyHDtOJ9k_OIXA/o.jpg', 'distance': 11527.321073708832}, {'location': {'address2': '', 'address1': '1916 Smallman St', 'display_address': ['1916 Smallman St', 'Pittsburgh, PA 15222'], 'city': 'Pittsburgh', 'state': 'PA', 'zip_code': '15222', 'country': 'US', 'address3': ''}, 'coordinates': {'latitude': 40.4515167, 'longitude': -79.9849613}, 'categories': [{'alias': 'newamerican', 'title': 'American (New)'}, {'alias': 'lounges', 'title': 'Lounges'}, {'alias': 'sandwiches', 'title': 'Sandwiches'}], 'transactions': [], 'price': '$$', 'phone': '+14129181068', 'display_phone': '(412) 918-1068', 'rating': 4.0, 'alias': 'cavo-nightclub-pittsburgh', 'review_count': 54, 'url': 'https://www.yelp.com/biz/cavo-nightclub-pittsburgh?adjust_creative=nJbdqWu2t1WtpsRK8MuB_A&utm_campaign=yelp_api_v3&utm_medium=api_v3_business_search&utm_source=nJbdqWu2t1WtpsRK8MuB_A', 'id': 'oJsfjG1uh6jopK6Kc-3pdQ', 'is_closed': False, 'name': 'Cavo Nightclub', 'image_url': 'https://s3-media3.fl.yelpcdn.com/bphoto/1VVWFzsmhFVWuh4cX9p4BQ/o.jpg', 'distance': 908.4558802358932}, {'location': {'address2': '', 'address1': '1701 E Carson St', 'display_address': ['1701 E Carson St', 'Pittsburgh, PA 15203'], 'city': 'Pittsburgh', 'state': 'PA', 'zip_code': '15203', 'country': 'US', 'address3': ''}, 'coordinates': {'latitude': 40.4288852949545, 'longitude': -79.9820696935058}, 'categories': [{'alias': 'cambodian', 'title': 'Cambodian'}, {'alias': 'asianfusion', 'title': 'Asian Fusion'}, {'alias': 'seafood', 'title': 'Seafood'}], 'transactions': [], 'price': '$$', 'phone': '+14123816199', 'display_phone': '(412) 381-6199', 'rating': 4.5, 'alias': 'cambod-ican-kitchen-pittsburgh', 'review_count': 112, 'url': 'https://www.yelp.com/biz/cambod-ican-kitchen-pittsburgh?adjust_creative=nJbdqWu2t1WtpsRK8MuB_A&utm_campaign=yelp_api_v3&utm_medium=api_v3_business_search&utm_source=nJbdqWu2t1WtpsRK8MuB_A', 'id': 'vx5CbYuuIq_CHxjov5kj1w', 'is_closed': False, 'name': 'Cambod-Ican Kitchen', 'image_url': 'https://s3-media1.fl.yelpcdn.com/bphoto/RbCF5h3wKPY6H5cRuNO3RQ/o.jpg', 'distance': 1773.580470998648}, {'location': {'address2': '', 'address1': '1832 E Carson St', 'display_address': ['1832 E Carson St', 'Pittsburgh, PA 15203'], 'city': 'Pittsburgh', 'state': 'PA', 'zip_code': '15203', 'country': 'US', 'address3': ''}, 'coordinates': {'latitude': 40.42843, 'longitude': -79.97932}, 'categories': [{'alias': 'sandwiches', 'title': 'Sandwiches'}, {'alias': 'newamerican', 'title': 'American (New)'}, {'alias': 'sportsbars', 'title': 'Sports Bars'}], 'transactions': ['pickup', 'delivery'], 'price': '$', 'phone': '+14123812583', 'display_phone': '(412) 381-2583', 'rating': 3.5, 'alias': 'primanti-bros-pittsburgh-6', 'review_count': 148, 'url': 'https://www.yelp.com/biz/primanti-bros-pittsburgh-6?adjust_creative=nJbdqWu2t1WtpsRK8MuB_A&utm_campaign=yelp_api_v3&utm_medium=api_v3_business_search&utm_source=nJbdqWu2t1WtpsRK8MuB_A', 'id': 'TKDL0wiztnEr_rMkX8ZomQ', 'is_closed': False, 'name': 'Primanti Bros', 'image_url': 'https://s3-media2.fl.yelpcdn.com/bphoto/SlcsbfBB_dASjFyYXCulKA/o.jpg', 'distance': 1799.5539563426905}, {'location': {'address2': '', 'address1': '5336 Butler St', 'display_address': ['5336 Butler St', 'Pittsburgh, PA 15201'], 'city': 'Pittsburgh', 'state': 'PA', 'zip_code': '15201', 'country': 'US', 'address3': ''}, 'coordinates': {'latitude': 40.48269, 'longitude': -79.95116}, 'categories': [{'alias': 'newamerican', 'title': 'American (New)'}, {'alias': 'mediterranean', 'title': 'Mediterranean'}], 'transactions': [], 'price': '$$$', 'phone': '+14122522595', 'display_phone': '(412) 252-2595', 'rating': 4.0, 'alias': 'cure-pittsburgh', 'review_count': 409, 'url': 'https://www.yelp.com/biz/cure-pittsburgh?adjust_creative=nJbdqWu2t1WtpsRK8MuB_A&utm_campaign=yelp_api_v3&utm_medium=api_v3_business_search&utm_source=nJbdqWu2t1WtpsRK8MuB_A', 'id': 'bdNyoXY4yJ99derJRqhP3Q', 'is_closed': False, 'name': 'Cure', 'image_url': 'https://s3-media1.fl.yelpcdn.com/bphoto/99lbCxywOg-cllfl-5PxeA/o.jpg', 'distance': 4842.055737728476}, {'location': {'address2': '', 'address1': '2623 Penn Ave', 'display_address': ['2623 Penn Ave', 'Pittsburgh, PA 15222'], 'city': 'Pittsburgh', 'state': 'PA', 'zip_code': '15222', 'country': 'US', 'address3': ''}, 'coordinates': {'latitude': 40.45552, 'longitude': -79.97806}, 'categories': [{'alias': 'newamerican', 'title': 'American (New)'}, {'alias': 'wine_bars', 'title': 'Wine Bars'}], 'transactions': ['pickup'], 'price': '$$$', 'phone': '+14122810660', 'display_phone': '(412) 281-0660', 'rating': 3.5, 'alias': 'savoy-pittsburgh-3', 'review_count': 127, 'url': 'https://www.yelp.com/biz/savoy-pittsburgh-3?adjust_creative=nJbdqWu2t1WtpsRK8MuB_A&utm_campaign=yelp_api_v3&utm_medium=api_v3_business_search&utm_source=nJbdqWu2t1WtpsRK8MuB_A', 'id': '-WVF5DKZeEWlMK8Cucto-A', 'is_closed': False, 'name': 'Savoy', 'image_url': 'https://s3-media2.fl.yelpcdn.com/bphoto/qLidj9pwDI_xUQUANixRsw/o.jpg', 'distance': 1206.8280105315991}, {'location': {'address2': '', 'address1': '2350 Railroad St', 'display_address': ['2350 Railroad St', 'Pittsburgh, PA 15222'], 'city': 'Pittsburgh', 'state': 'PA', 'zip_code': '15222', 'country': 'US', 'address3': ''}, 'coordinates': {'latitude': 40.4541644107714, 'longitude': -79.9830404050323}, 'categories': [{'alias': 'seafood', 'title': 'Seafood'}, {'alias': 'steak', 'title': 'Steakhouses'}, {'alias': 'whiskeybars', 'title': 'Whiskey Bars'}], 'transactions': [], 'price': '$$$', 'phone': '+14122816593', 'display_phone': '(412) 281-6593', 'rating': 4.0, 'alias': 'cioppino-restaurant-and-cigar-bar-pittsburgh-5', 'review_count': 170, 'url': 'https://www.yelp.com/biz/cioppino-restaurant-and-cigar-bar-pittsburgh-5?adjust_creative=nJbdqWu2t1WtpsRK8MuB_A&utm_campaign=yelp_api_v3&utm_medium=api_v3_business_search&utm_source=nJbdqWu2t1WtpsRK8MuB_A', 'id': '_VHU9KZUHRLp2Hc2JOKlYg', 'is_closed': False, 'name': 'Cioppino Restaurant & Cigar Bar', 'image_url': 'https://s3-media3.fl.yelpcdn.com/bphoto/qRvZXiYIaZcpGM_fOM8ZuQ/o.jpg', 'distance': 1106.8166900502133}, {'location': {'address2': '', 'address1': '565 Lincoln Ave', 'display_address': ['565 Lincoln Ave', 'Bellevue, PA 15202'], 'city': 'Bellevue', 'state': 'PA', 'zip_code': '15202', 'country': 'US', 'address3': ''}, 'coordinates': {'latitude': 40.4964748040512, 'longitude': -80.0577745855534}, 'categories': [{'alias': 'tradamerican', 'title': 'American (Traditional)'}, {'alias': 'bars', 'title': 'Bars'}, {'alias': 'chicken_wings', 'title': 'Chicken Wings'}], 'transactions': ['pickup', 'delivery'], 'price': '$$', 'phone': '+14123018623', 'display_phone': '(412) 301-8623', 'rating': 4.0, 'alias': 'grille-565-bellevue', 'review_count': 33, 'url': 'https://www.yelp.com/biz/grille-565-bellevue?adjust_creative=nJbdqWu2t1WtpsRK8MuB_A&utm_campaign=yelp_api_v3&utm_medium=api_v3_business_search&utm_source=nJbdqWu2t1WtpsRK8MuB_A', 'id': 'iHr3m4M3nuDEkMP5_XcmEg', 'is_closed': False, 'name': 'Grille 565', 'image_url': 'https://s3-media2.fl.yelpcdn.com/bphoto/rVVkqLUXn2jaBiLdjQYKEw/o.jpg', 'distance': 8801.865083230843}, {'location': {'address2': '', 'address1': '1212 Grandview Ave', 'display_address': ['1212 Grandview Ave', 'Pittsburgh, PA 15211'], 'city': 'Pittsburgh', 'state': 'PA', 'zip_code': '15211', 'country': 'US', 'address3': ''}, 'coordinates': {'latitude': 40.4381637573242, 'longitude': -80.0185165405273}, 'categories': [{'alias': 'steak', 'title': 'Steakhouses'}, {'alias': 'seafood', 'title': 'Seafood'}, {'alias': 'wine_bars', 'title': 'Wine Bars'}], 'transactions': [], 'price': '$$', 'phone': '+14124311400', 'display_phone': '(412) 431-1400', 'rating': 3.0, 'alias': 'grandview-saloon-pittsburgh', 'review_count': 134, 'url': 'https://www.yelp.com/biz/grandview-saloon-pittsburgh?adjust_creative=nJbdqWu2t1WtpsRK8MuB_A&utm_campaign=yelp_api_v3&utm_medium=api_v3_business_search&utm_source=nJbdqWu2t1WtpsRK8MuB_A', 'id': 'lpxj6LFir23Ds6swW8a6fg', 'is_closed': False, 'name': 'Grandview Saloon', 'image_url': 'https://s3-media1.fl.yelpcdn.com/bphoto/EWkmR-F6I6lSx91C-Nuc5w/o.jpg', 'distance': 3416.7315956605166}, {'location': {'address2': '', 'address1': '3887 Bigelow Blvd', 'display_address': ['3887 Bigelow Blvd', 'Pittsburgh, PA 15213'], 'city': 'Pittsburgh', 'state': 'PA', 'zip_code': '15213', 'country': 'US', 'address3': ''}, 'coordinates': {'latitude': 40.45472, 'longitude': -79.95429}, 'categories': [{'alias': 'italian', 'title': 'Italian'}], 'transactions': [], 'price': '$$', 'phone': '+14126828296', 'display_phone': '(412) 682-8296', 'rating': 4.0, 'alias': 'zarras-a-taste-of-southern-italy-pittsburgh', 'review_count': 100, 'url': 'https://www.yelp.com/biz/zarras-a-taste-of-southern-italy-pittsburgh?adjust_creative=nJbdqWu2t1WtpsRK8MuB_A&utm_campaign=yelp_api_v3&utm_medium=api_v3_business_search&utm_source=nJbdqWu2t1WtpsRK8MuB_A', 'id': 'XxmziAeRqMKwsDjyyjVgeg', 'is_closed': False, 'name': \"Zarra's A Taste of Southern Italy\", 'image_url': 'https://s3-media2.fl.yelpcdn.com/bphoto/3EAA82x0WdFf7W95rdSAig/o.jpg', 'distance': 2376.8415655665312}, {'location': {'address2': 'Ste 230', 'address1': '4607 Library Rd', 'display_address': ['4607 Library Rd', 'Ste 230', 'Bethel Park, PA 15102'], 'city': 'Bethel Park', 'state': 'PA', 'zip_code': '15102', 'country': 'US', 'address3': None}, 'coordinates': {'latitude': 40.35002, 'longitude': -80.0225899}, 'categories': [{'alias': 'newamerican', 'title': 'American (New)'}, {'alias': 'seafood', 'title': 'Seafood'}, {'alias': 'cocktailbars', 'title': 'Cocktail Bars'}], 'transactions': [], 'price': '$$', 'phone': '+14124092480', 'display_phone': '(412) 409-2480', 'rating': 4.0, 'alias': 'vilka-bistro-bethel-park', 'review_count': 37, 'url': 'https://www.yelp.com/biz/vilka-bistro-bethel-park?adjust_creative=nJbdqWu2t1WtpsRK8MuB_A&utm_campaign=yelp_api_v3&utm_medium=api_v3_business_search&utm_source=nJbdqWu2t1WtpsRK8MuB_A', 'id': 'NdQzxU4hHk25mUoltnw4wg', 'is_closed': False, 'name': 'Vilka Bistro', 'image_url': 'https://s3-media4.fl.yelpcdn.com/bphoto/BCPC-ZSB0t2lHGSEFMgKpg/o.jpg', 'distance': 11148.0657338842}, {'location': {'address2': '', 'address1': '212 6th St', 'display_address': ['212 6th St', 'Pittsburgh, PA 15222'], 'city': 'Pittsburgh', 'state': 'PA', 'zip_code': '15222', 'country': 'US', 'address3': ''}, 'coordinates': {'latitude': 40.442334, 'longitude': -80.002066}, 'categories': [{'alias': 'newamerican', 'title': 'American (New)'}, {'alias': 'butcher', 'title': 'Butcher'}, {'alias': 'cocktailbars', 'title': 'Cocktail Bars'}], 'transactions': ['restaurant_reservation'], 'price': '$$$', 'phone': '+14123912752', 'display_phone': '(412) 391-2752', 'rating': 4.5, 'alias': 'butcher-and-the-rye-pittsburgh', 'review_count': 764, 'url': 'https://www.yelp.com/biz/butcher-and-the-rye-pittsburgh?adjust_creative=nJbdqWu2t1WtpsRK8MuB_A&utm_campaign=yelp_api_v3&utm_medium=api_v3_business_search&utm_source=nJbdqWu2t1WtpsRK8MuB_A', 'id': 'SmkYLXEYhzwUZdS6TAevHg', 'is_closed': False, 'name': 'Butcher and the Rye', 'image_url': 'https://s3-media1.fl.yelpcdn.com/bphoto/ridIHrro6fStsoIr6zXqGw/o.jpg', 'distance': 1961.204843931838}, {'location': {'address2': '', 'address1': '6738 Reynolds St', 'display_address': ['6738 Reynolds St', 'Pittsburgh, PA 15206'], 'city': 'Pittsburgh', 'state': 'PA', 'zip_code': '15206', 'country': 'US', 'address3': ''}, 'coordinates': {'latitude': 40.4502499, 'longitude': -79.91449}, 'categories': [{'alias': 'italian', 'title': 'Italian'}, {'alias': 'tapasmallplates', 'title': 'Tapas/Small Plates'}], 'transactions': [], 'price': '$$', 'phone': '+14123611336', 'display_phone': '(412) 361-1336', 'rating': 3.0, 'alias': 'pinos-contemporary-italian-restaurant-and-wine-bar-pittsburgh', 'review_count': 88, 'url': 'https://www.yelp.com/biz/pinos-contemporary-italian-restaurant-and-wine-bar-pittsburgh?adjust_creative=nJbdqWu2t1WtpsRK8MuB_A&utm_campaign=yelp_api_v3&utm_medium=api_v3_business_search&utm_source=nJbdqWu2t1WtpsRK8MuB_A', 'id': 'rUy2MtHyFv8pI7FOW1DE8w', 'is_closed': False, 'name': \"Pino's Contemporary Italian Restaurant & Wine Bar\", 'image_url': 'https://s3-media4.fl.yelpcdn.com/bphoto/q_Zz8yQP0KeUXbpGfS9s2w/o.jpg', 'distance': 5499.815405251901}, {'location': {'address2': '', 'address1': '2208 Penn Ave', 'display_address': ['2208 Penn Ave', 'Pittsburgh, PA 15222'], 'city': 'Pittsburgh', 'state': 'PA', 'zip_code': '15222', 'country': 'US', 'address3': ''}, 'coordinates': {'latitude': 40.4523086547852, 'longitude': -79.981819152832}, 'categories': [{'alias': 'sushi', 'title': 'Sushi Bars'}, {'alias': 'seafood', 'title': 'Seafood'}, {'alias': 'seafoodmarkets', 'title': 'Seafood Markets'}], 'transactions': [], 'price': '$$', 'phone': '+14124347200', 'display_phone': '(412) 434-7200', 'rating': 4.0, 'alias': 'penn-ave-fish-company-pittsburgh', 'review_count': 269, 'url': 'https://www.yelp.com/biz/penn-ave-fish-company-pittsburgh?adjust_creative=nJbdqWu2t1WtpsRK8MuB_A&utm_campaign=yelp_api_v3&utm_medium=api_v3_business_search&utm_source=nJbdqWu2t1WtpsRK8MuB_A', 'id': 'X88w0XrUSIKue9Vuwtqs_g', 'is_closed': False, 'name': 'Penn Ave Fish Company', 'image_url': 'https://s3-media3.fl.yelpcdn.com/bphoto/n06nlRB-vM0MbSPnAmIBTw/o.jpg', 'distance': 882.406167318855}, {'location': {'address2': '', 'address1': '2216 Penn Ave', 'display_address': ['2216 Penn Ave', 'Pittsburgh, PA 15222'], 'city': 'Pittsburgh', 'state': 'PA', 'zip_code': '15222', 'country': 'US', 'address3': ''}, 'coordinates': {'latitude': 40.45248, 'longitude': -79.98155}, 'categories': [{'alias': 'wine_bars', 'title': 'Wine Bars'}, {'alias': 'cafes', 'title': 'Cafes'}], 'transactions': [], 'price': '$$', 'phone': '+14124711900', 'display_phone': '(412) 471-1900', 'rating': 4.0, 'alias': 'bar-marco-pittsburgh', 'review_count': 273, 'url': 'https://www.yelp.com/biz/bar-marco-pittsburgh?adjust_creative=nJbdqWu2t1WtpsRK8MuB_A&utm_campaign=yelp_api_v3&utm_medium=api_v3_business_search&utm_source=nJbdqWu2t1WtpsRK8MuB_A', 'id': 'z15C-dJodOlPO8bMBl6F8g', 'is_closed': False, 'name': 'Bar Marco', 'image_url': 'https://s3-media1.fl.yelpcdn.com/bphoto/OFyM2OfS9blrrI0JkTttQA/o.jpg', 'distance': 891.0094577350281}, {'location': {'address2': None, 'address1': '2557 E Carson St', 'display_address': ['2557 E Carson St', 'Pittsburgh, PA 15203'], 'city': 'Pittsburgh', 'state': 'PA', 'zip_code': '15203', 'country': 'US', 'address3': None}, 'coordinates': {'latitude': 40.4277223400876, 'longitude': -79.9686308033154}, 'categories': [{'alias': 'mexican', 'title': 'Mexican'}, {'alias': 'bars', 'title': 'Bars'}], 'transactions': [], 'price': '$$', 'phone': '+14123812229', 'display_phone': '(412) 381-2229', 'rating': 3.5, 'alias': 'emillianos-mexican-restaurant-and-bar-pittsburgh-2', 'review_count': 254, 'url': 'https://www.yelp.com/biz/emillianos-mexican-restaurant-and-bar-pittsburgh-2?adjust_creative=nJbdqWu2t1WtpsRK8MuB_A&utm_campaign=yelp_api_v3&utm_medium=api_v3_business_search&utm_source=nJbdqWu2t1WtpsRK8MuB_A', 'id': '7mU3l5VjH1IxsXcxBxUblg', 'is_closed': False, 'name': \"Emilliano's Mexican Restaurant and Bar\", 'image_url': 'https://s3-media3.fl.yelpcdn.com/bphoto/S2YhRjou_39U1VEGGBfseQ/o.jpg', 'distance': 2082.6424608418333}, {'location': {'address2': None, 'address1': '1150 Smallman St', 'display_address': ['1150 Smallman St', 'Pittsburgh, PA 15222'], 'city': 'Pittsburgh', 'state': 'PA', 'zip_code': '15222', 'country': 'US', 'address3': ''}, 'coordinates': {'latitude': 40.44602, 'longitude': -79.99325}, 'categories': [{'alias': 'newamerican', 'title': 'American (New)'}], 'transactions': [], 'price': '$$$', 'phone': '+14122015656', 'display_phone': '(412) 201-5656', 'rating': 4.0, 'alias': 'eleven-pittsburgh', 'review_count': 608, 'url': 'https://www.yelp.com/biz/eleven-pittsburgh?adjust_creative=nJbdqWu2t1WtpsRK8MuB_A&utm_campaign=yelp_api_v3&utm_medium=api_v3_business_search&utm_source=nJbdqWu2t1WtpsRK8MuB_A', 'id': 'd2ZQRjuizstCTnicysmpMQ', 'is_closed': False, 'name': 'Eleven', 'image_url': 'https://s3-media1.fl.yelpcdn.com/bphoto/VGHHcnoAHZl6oe18_gtsKQ/o.jpg', 'distance': 1200.6843105135545}, {'location': {'address2': '', 'address1': '110 Andrew Dr', 'display_address': ['110 Andrew Dr', 'Pittsburgh, PA 15275'], 'city': 'Pittsburgh', 'state': 'PA', 'zip_code': '15275', 'country': 'US', 'address3': ''}, 'coordinates': {'latitude': 40.4505157937871, 'longitude': -80.1756812708209}, 'categories': [{'alias': 'chicken_wings', 'title': 'Chicken Wings'}, {'alias': 'tradamerican', 'title': 'American (Traditional)'}, {'alias': 'steak', 'title': 'Steakhouses'}], 'transactions': [], 'price': '$$', 'phone': '+14124943344', 'display_phone': '(412) 494-3344', 'rating': 3.0, 'alias': 'quaker-steak-and-lube-pittsburgh-3', 'review_count': 108, 'url': 'https://www.yelp.com/biz/quaker-steak-and-lube-pittsburgh-3?adjust_creative=nJbdqWu2t1WtpsRK8MuB_A&utm_campaign=yelp_api_v3&utm_medium=api_v3_business_search&utm_source=nJbdqWu2t1WtpsRK8MuB_A', 'id': 'PeATTp15Y_ExaN6mR1dmKw', 'is_closed': False, 'name': 'Quaker Steak & Lube', 'image_url': 'https://s3-media3.fl.yelpcdn.com/bphoto/rvqJkzskYd_Bob_Bme8ouw/o.jpg', 'distance': 16647.60977416547}, {'location': {'address2': '', 'address1': '5 Market Sq', 'display_address': ['5 Market Sq', 'Pittsburgh, PA 15222'], 'city': 'Pittsburgh', 'state': 'PA', 'zip_code': '15222', 'country': 'US', 'address3': ''}, 'coordinates': {'latitude': 40.44014, 'longitude': -80.0024}, 'categories': [{'alias': 'burgers', 'title': 'Burgers'}, {'alias': 'pizza', 'title': 'Pizza'}, {'alias': 'whiskeybars', 'title': 'Whiskey Bars'}], 'transactions': [], 'price': '$$', 'phone': '+14124345600', 'display_phone': '(412) 434-5600', 'rating': 4.0, 'alias': 'wingharts-burger-and-whiskey-bar-pittsburgh', 'review_count': 488, 'url': 'https://www.yelp.com/biz/wingharts-burger-and-whiskey-bar-pittsburgh?adjust_creative=nJbdqWu2t1WtpsRK8MuB_A&utm_campaign=yelp_api_v3&utm_medium=api_v3_business_search&utm_source=nJbdqWu2t1WtpsRK8MuB_A', 'id': 'j3IEZP4nQAt7fkxmerLMbA', 'is_closed': False, 'name': \"Winghart's Burger & Whiskey Bar\", 'image_url': 'https://s3-media2.fl.yelpcdn.com/bphoto/Qtdxok91r09Jj657j7BdxQ/o.jpg', 'distance': 2040.6840219137066}, {'location': {'address2': '', 'address1': '733 Copeland St', 'display_address': ['733 Copeland St', 'Pittsburgh, PA 15232'], 'city': 'Pittsburgh', 'state': 'PA', 'zip_code': '15232', 'country': 'US', 'address3': ''}, 'coordinates': {'latitude': 40.45121, 'longitude': -79.93462}, 'categories': [{'alias': 'italian', 'title': 'Italian'}], 'transactions': [], 'price': '$$', 'phone': '+14126822130', 'display_phone': '(412) 682-2130', 'rating': 4.0, 'alias': 'girasole-restaurant-pittsburgh', 'review_count': 326, 'url': 'https://www.yelp.com/biz/girasole-restaurant-pittsburgh?adjust_creative=nJbdqWu2t1WtpsRK8MuB_A&utm_campaign=yelp_api_v3&utm_medium=api_v3_business_search&utm_source=nJbdqWu2t1WtpsRK8MuB_A', 'id': 'j54J0Ky4ruVbN_NTJ3daFg', 'is_closed': False, 'name': 'Girasole Restaurant', 'image_url': 'https://s3-media4.fl.yelpcdn.com/bphoto/-y11kc5CdCALLMD-772VFw/o.jpg', 'distance': 3837.2575904968767}, {'location': {'address2': '', 'address1': '4305 Butler St', 'display_address': ['4305 Butler St', 'Pittsburgh, PA 15201'], 'city': 'Pittsburgh', 'state': 'PA', 'zip_code': '15201', 'country': 'US', 'address3': ''}, 'coordinates': {'latitude': 40.4707662016153, 'longitude': -79.9603226780891}, 'categories': [{'alias': 'newamerican', 'title': 'American (New)'}, {'alias': 'cocktailbars', 'title': 'Cocktail Bars'}], 'transactions': [], 'price': '$$', 'phone': '+14126831100', 'display_phone': '(412) 683-1100', 'rating': 3.5, 'alias': 'industry-public-house-pittsburgh-3', 'review_count': 508, 'url': 'https://www.yelp.com/biz/industry-public-house-pittsburgh-3?adjust_creative=nJbdqWu2t1WtpsRK8MuB_A&utm_campaign=yelp_api_v3&utm_medium=api_v3_business_search&utm_source=nJbdqWu2t1WtpsRK8MuB_A', 'id': '-7H-oXvCxJzuT42ky6Db0g', 'is_closed': False, 'name': 'Industry Public House', 'image_url': 'https://s3-media2.fl.yelpcdn.com/bphoto/-SJ-vxmujgSL4xrZVH8G9A/o.jpg', 'distance': 3312.1959663980183}, {'location': {'address2': '', 'address1': '211 Forbes Ave', 'display_address': ['211 Forbes Ave', 'Pittsburgh, PA 15222'], 'city': 'Pittsburgh', 'state': 'PA', 'zip_code': '15222', 'country': 'US', 'address3': ''}, 'coordinates': {'latitude': 40.4405558779084, 'longitude': -80.0019637537279}, 'categories': [{'alias': 'mexican', 'title': 'Mexican'}, {'alias': 'hotdogs', 'title': 'Fast Food'}], 'transactions': [], 'price': '$', 'phone': '+14122245586', 'display_phone': '(412) 224-5586', 'rating': 3.0, 'alias': 'chipotle-mexican-grill-pittsburgh-12', 'review_count': 55, 'url': 'https://www.yelp.com/biz/chipotle-mexican-grill-pittsburgh-12?adjust_creative=nJbdqWu2t1WtpsRK8MuB_A&utm_campaign=yelp_api_v3&utm_medium=api_v3_business_search&utm_source=nJbdqWu2t1WtpsRK8MuB_A', 'id': 'j-5O-Ehd2eaCHYgmTSfoRw', 'is_closed': False, 'name': 'Chipotle Mexican Grill', 'image_url': 'https://s3-media1.fl.yelpcdn.com/bphoto/xszWCGyVM0jVbAlVAwWibA/o.jpg', 'distance': 1988.679148526652}, {'location': {'address2': '', 'address1': '942 Penn Ave', 'display_address': ['942 Penn Ave', 'Pittsburgh, PA 15222'], 'city': 'Pittsburgh', 'state': 'PA', 'zip_code': '15222', 'country': 'US', 'address3': ''}, 'coordinates': {'latitude': 40.4439496, 'longitude': -79.9964366}, 'categories': [{'alias': 'italian', 'title': 'Italian'}, {'alias': 'pizza', 'title': 'Pizza'}, {'alias': 'bars', 'title': 'Bars'}], 'transactions': [], 'price': '$$', 'phone': '+14122812810', 'display_phone': '(412) 281-2810', 'rating': 4.0, 'alias': 'sienna-mercato-pittsburgh', 'review_count': 698, 'url': 'https://www.yelp.com/biz/sienna-mercato-pittsburgh?adjust_creative=nJbdqWu2t1WtpsRK8MuB_A&utm_campaign=yelp_api_v3&utm_medium=api_v3_business_search&utm_source=nJbdqWu2t1WtpsRK8MuB_A', 'id': 'sMzNLdhJZGzYirIWt-fMAg', 'is_closed': False, 'name': 'Sienna Mercato', 'image_url': 'https://s3-media3.fl.yelpcdn.com/bphoto/x8MXIECnJ8IfTW4xf-EAhQ/o.jpg', 'distance': 1469.674584312531}, {'location': {'address2': '', 'address1': '5950 Steubenville Pk', 'display_address': ['5950 Steubenville Pk', 'Robinson Township, PA 15136'], 'city': 'Robinson Township', 'state': 'PA', 'zip_code': '15136', 'country': 'US', 'address3': ''}, 'coordinates': {'latitude': 40.44784, 'longitude': -80.14324}, 'categories': [{'alias': 'greek', 'title': 'Greek'}, {'alias': 'newamerican', 'title': 'American (New)'}], 'transactions': [], 'price': '$', 'phone': '+14124895279', 'display_phone': '(412) 489-5279', 'rating': 4.0, 'alias': 'olympos-gyros-robinson-township', 'review_count': 50, 'url': 'https://www.yelp.com/biz/olympos-gyros-robinson-township?adjust_creative=nJbdqWu2t1WtpsRK8MuB_A&utm_campaign=yelp_api_v3&utm_medium=api_v3_business_search&utm_source=nJbdqWu2t1WtpsRK8MuB_A', 'id': 'JxSmlL_MckX0dvS5XBg0Cg', 'is_closed': False, 'name': 'Olympos Gyros', 'image_url': 'https://s3-media4.fl.yelpcdn.com/bphoto/tq0SO2-qeMt3RcljliYsOg/o.jpg', 'distance': 13856.066217704398}, {'location': {'address2': '', 'address1': '220 S Highland Ave', 'display_address': ['220 S Highland Ave', 'Pittsburgh, PA 15206'], 'city': 'Pittsburgh', 'state': 'PA', 'zip_code': '15206', 'country': 'US', 'address3': ''}, 'coordinates': {'latitude': 40.458283, 'longitude': -79.925318}, 'categories': [{'alias': 'mexican', 'title': 'Mexican'}, {'alias': 'tex-mex', 'title': 'Tex-Mex'}], 'transactions': ['delivery'], 'price': '$$', 'phone': '+14123450185', 'display_phone': '(412) 345-0185', 'rating': 3.5, 'alias': 'mad-mex-shadyside-pittsburgh', 'review_count': 291, 'url': 'https://www.yelp.com/biz/mad-mex-shadyside-pittsburgh?adjust_creative=nJbdqWu2t1WtpsRK8MuB_A&utm_campaign=yelp_api_v3&utm_medium=api_v3_business_search&utm_source=nJbdqWu2t1WtpsRK8MuB_A', 'id': 'XNWXyFgCGaAwvg9QML2Ypw', 'is_closed': False, 'name': 'Mad Mex - Shadyside', 'image_url': 'https://s3-media4.fl.yelpcdn.com/bphoto/6caeRL0sjRWzwnQHWh-pLg/o.jpg', 'distance': 4795.365602519818}, {'location': {'address2': '', 'address1': '2313 Rochester Rd', 'display_address': ['2313 Rochester Rd', 'Pittsburgh, PA 15237'], 'city': 'Pittsburgh', 'state': 'PA', 'zip_code': '15237', 'country': 'US', 'address3': ''}, 'coordinates': {'latitude': 40.57829, 'longitude': -80.07811}, 'categories': [{'alias': 'mexican', 'title': 'Mexican'}], 'transactions': [], 'price': '$$', 'phone': '+14123664140', 'display_phone': '(412) 366-4140', 'rating': 3.0, 'alias': 'the-franklin-inn-pittsburgh', 'review_count': 104, 'url': 'https://www.yelp.com/biz/the-franklin-inn-pittsburgh?adjust_creative=nJbdqWu2t1WtpsRK8MuB_A&utm_campaign=yelp_api_v3&utm_medium=api_v3_business_search&utm_source=nJbdqWu2t1WtpsRK8MuB_A', 'id': 'Tr8TJnMoSgBvfZvmCx9-eQ', 'is_closed': False, 'name': 'The Franklin Inn', 'image_url': 'https://s3-media2.fl.yelpcdn.com/bphoto/O-ONe-ofmfJY_-vAxvzmAQ/o.jpg', 'distance': 17055.616229703388}, {'location': {'address2': '', 'address1': '960 Penn Ave', 'display_address': ['960 Penn Ave', 'Pittsburgh, PA 15222'], 'city': 'Pittsburgh', 'state': 'PA', 'zip_code': '15222', 'country': 'US', 'address3': ''}, 'coordinates': {'latitude': 40.4444316, 'longitude': -79.9956094}, 'categories': [{'alias': 'tradamerican', 'title': 'American (Traditional)'}], 'transactions': ['delivery', 'pickup'], 'price': '$$', 'phone': '+14123188000', 'display_phone': '(412) 318-8000', 'rating': 3.0, 'alias': 'ten-penny-pittsburgh', 'review_count': 438, 'url': 'https://www.yelp.com/biz/ten-penny-pittsburgh?adjust_creative=nJbdqWu2t1WtpsRK8MuB_A&utm_campaign=yelp_api_v3&utm_medium=api_v3_business_search&utm_source=nJbdqWu2t1WtpsRK8MuB_A', 'id': 'wY3dlpLa0BHfDENYAPYuZA', 'is_closed': False, 'name': 'Ten Penny', 'image_url': 'https://s3-media3.fl.yelpcdn.com/bphoto/I4ZXNG_eSfDNWFWpmhMznw/o.jpg', 'distance': 1397.7198535121938}, {'location': {'address2': '', 'address1': '180 E Waterfront Dr', 'display_address': ['180 E Waterfront Dr', 'Homestead, PA 15120'], 'city': 'Homestead', 'state': 'PA', 'zip_code': '15120', 'country': 'US', 'address3': None}, 'coordinates': {'latitude': 40.409937, 'longitude': -79.913895}, 'categories': [{'alias': 'tradamerican', 'title': 'American (Traditional)'}, {'alias': 'eatertainment', 'title': 'Eatertainment'}], 'transactions': [], 'price': '$$', 'phone': '+14124621500', 'display_phone': '(412) 462-1500', 'rating': 2.5, 'alias': 'dave-and-busters-homestead-2', 'review_count': 158, 'url': 'https://www.yelp.com/biz/dave-and-busters-homestead-2?adjust_creative=nJbdqWu2t1WtpsRK8MuB_A&utm_campaign=yelp_api_v3&utm_medium=api_v3_business_search&utm_source=nJbdqWu2t1WtpsRK8MuB_A', 'id': 'DFeEJf8h04q3KwRVWUsoMQ', 'is_closed': False, 'name': \"Dave & Buster's\", 'image_url': 'https://s3-media2.fl.yelpcdn.com/bphoto/zFkHfHSXx2s9kZ6quDeEfQ/o.jpg', 'distance': 6757.529682230792}, {'location': {'address2': '', 'address1': '407 Cinema Dr', 'display_address': ['407 Cinema Dr', 'Pittsburgh, PA 15203'], 'city': 'Pittsburgh', 'state': 'PA', 'zip_code': '15203', 'country': 'US', 'address3': ''}, 'coordinates': {'latitude': 40.4279062791307, 'longitude': -79.9652548}, 'categories': [{'alias': 'pubs', 'title': 'Pubs'}, {'alias': 'irish', 'title': 'Irish'}], 'transactions': [], 'price': '$$', 'phone': '+14123814800', 'display_phone': '(412) 381-4800', 'rating': 3.0, 'alias': 'claddagh-irish-pub-pittsburgh', 'review_count': 132, 'url': 'https://www.yelp.com/biz/claddagh-irish-pub-pittsburgh?adjust_creative=nJbdqWu2t1WtpsRK8MuB_A&utm_campaign=yelp_api_v3&utm_medium=api_v3_business_search&utm_source=nJbdqWu2t1WtpsRK8MuB_A', 'id': 'CaETzvd1cA5mYaCReGAHjA', 'is_closed': False, 'name': 'Claddagh Irish Pub', 'image_url': 'https://s3-media1.fl.yelpcdn.com/bphoto/kwqmjN-fB1Ue5pCZioE0og/o.jpg', 'distance': 2201.9205182027417}, {'location': {'address2': '', 'address1': '1679 State Road 228', 'display_address': ['1679 State Road 228', 'Cranberry Township, PA 16066'], 'city': 'Cranberry Township', 'state': 'PA', 'zip_code': '16066', 'country': 'US', 'address3': ''}, 'coordinates': {'latitude': 40.6860504150391, 'longitude': -80.0790863037109}, 'categories': [{'alias': 'steak', 'title': 'Steakhouses'}, {'alias': 'tradamerican', 'title': 'American (Traditional)'}, {'alias': 'bbq', 'title': 'Barbeque'}], 'transactions': [], 'price': '$$', 'phone': '+17247761500', 'display_phone': '(724) 776-1500', 'rating': 3.5, 'alias': 'longhorn-steakhouse-cranberry-township', 'review_count': 40, 'url': 'https://www.yelp.com/biz/longhorn-steakhouse-cranberry-township?adjust_creative=nJbdqWu2t1WtpsRK8MuB_A&utm_campaign=yelp_api_v3&utm_medium=api_v3_business_search&utm_source=nJbdqWu2t1WtpsRK8MuB_A', 'id': 'f81c_quPq5FSWw1uFPA85g', 'is_closed': False, 'name': 'LongHorn Steakhouse', 'image_url': 'https://s3-media2.fl.yelpcdn.com/bphoto/_V8YhABuCbGAFManT9sDOQ/o.jpg', 'distance': 28146.704541137624}, {'location': {'address2': '', 'address1': '10301 Pearce Mill Rd', 'display_address': ['10301 Pearce Mill Rd', 'Allison Park, PA 15101'], 'city': 'Allison Park', 'state': 'PA', 'zip_code': '15101', 'country': 'US', 'address3': ''}, 'coordinates': {'latitude': 40.6046132194713, 'longitude': -80.007391422987}, 'categories': [{'alias': 'newamerican', 'title': 'American (New)'}, {'alias': 'vegetarian', 'title': 'Vegetarian'}, {'alias': 'sandwiches', 'title': 'Sandwiches'}], 'transactions': [], 'price': '$$', 'phone': '+17249405000', 'display_phone': '(724) 940-5000', 'rating': 3.5, 'alias': 'otb-at-the-boathouse-allison-park', 'review_count': 192, 'url': 'https://www.yelp.com/biz/otb-at-the-boathouse-allison-park?adjust_creative=nJbdqWu2t1WtpsRK8MuB_A&utm_campaign=yelp_api_v3&utm_medium=api_v3_business_search&utm_source=nJbdqWu2t1WtpsRK8MuB_A', 'id': 'OQ_2_JzEqJrjG5z93cEqmQ', 'is_closed': False, 'name': 'OTB At the Boathouse', 'image_url': 'https://s3-media4.fl.yelpcdn.com/bphoto/wki2-TiYDHQjq65QYPNyTQ/o.jpg', 'distance': 17944.496951404515}, {'location': {'address2': '', 'address1': '240 Mall Blvd', 'display_address': ['240 Mall Blvd', 'Monroeville, PA 15146'], 'city': 'Monroeville', 'state': 'PA', 'zip_code': '15146', 'country': 'US', 'address3': ''}, 'coordinates': {'latitude': 40.43373, 'longitude': -79.78775}, 'categories': [{'alias': 'tradamerican', 'title': 'American (Traditional)'}], 'transactions': [], 'price': '$$', 'phone': '+14123726630', 'display_phone': '(412) 372-6630', 'rating': 2.5, 'alias': 'tgi-fridays-monroeville-2', 'review_count': 48, 'url': 'https://www.yelp.com/biz/tgi-fridays-monroeville-2?adjust_creative=nJbdqWu2t1WtpsRK8MuB_A&utm_campaign=yelp_api_v3&utm_medium=api_v3_business_search&utm_source=nJbdqWu2t1WtpsRK8MuB_A', 'id': '5k7HbIAamo1PG0uIYALuRQ', 'is_closed': False, 'name': 'TGI Fridays', 'image_url': 'https://s3-media1.fl.yelpcdn.com/bphoto/2QwDJYU-6_JkvpiU06mRtw/o.jpg', 'distance': 16241.793850374264}, {'location': {'address2': '', 'address1': '11232 Mckee Rd', 'display_address': ['11232 Mckee Rd', 'Irwin, PA 15642'], 'city': 'Irwin', 'state': 'PA', 'zip_code': '15642', 'country': 'US', 'address3': ''}, 'coordinates': {'latitude': 40.316603, 'longitude': -79.731475}, 'categories': [{'alias': 'bars', 'title': 'Bars'}, {'alias': 'tradamerican', 'title': 'American (Traditional)'}, {'alias': 'italian', 'title': 'Italian'}], 'transactions': [], 'price': '$$', 'phone': '+17248639999', 'display_phone': '(724) 863-9999', 'rating': 3.0, 'alias': 'the-brick-house-tap-and-grill-irwin', 'review_count': 33, 'url': 'https://www.yelp.com/biz/the-brick-house-tap-and-grill-irwin?adjust_creative=nJbdqWu2t1WtpsRK8MuB_A&utm_campaign=yelp_api_v3&utm_medium=api_v3_business_search&utm_source=nJbdqWu2t1WtpsRK8MuB_A', 'id': 'jei_nG0uhrvTSXEFL2K9bw', 'is_closed': False, 'name': 'The Brick House Tap & Grill', 'image_url': 'https://s3-media2.fl.yelpcdn.com/bphoto/2bY7sc-i4sp9grVv3V7Kww/o.jpg', 'distance': 25351.96383362263}, {'location': {'address2': '', 'address1': '6052 William Flynn Hwy', 'display_address': ['6052 William Flynn Hwy', 'Bakerstown, PA 15007'], 'city': 'Bakerstown', 'state': 'PA', 'zip_code': '15007', 'country': 'US', 'address3': ''}, 'coordinates': {'latitude': 40.6602786858445, 'longitude': -79.933645540963}, 'categories': [{'alias': 'italian', 'title': 'Italian'}], 'transactions': [], 'price': '$$', 'phone': '+17244447499', 'display_phone': '(724) 444-7499', 'rating': 3.5, 'alias': 'olives-and-peppers-bakerstown', 'review_count': 98, 'url': 'https://www.yelp.com/biz/olives-and-peppers-bakerstown?adjust_creative=nJbdqWu2t1WtpsRK8MuB_A&utm_campaign=yelp_api_v3&utm_medium=api_v3_business_search&utm_source=nJbdqWu2t1WtpsRK8MuB_A', 'id': 'ESds7CKFuHoozp1dNCV0Xg', 'is_closed': False, 'name': 'Olives & Peppers', 'image_url': 'https://s3-media3.fl.yelpcdn.com/bphoto/-awaow6dyXNdAjsqQm9H-g/o.jpg', 'distance': 24279.68726516631}]\n"
     ]
    }
   ],
   "source": [
    "offset = 0\n",
    "def all_restaurants(api_key, query):\n",
    "    \"\"\"\n",
    "    Retrieve ALL the restaurants on Yelp for a given query.\n",
    "\n",
    "    Args:\n",
    "        query (string): Search term\n",
    "\n",
    "    Returns:\n",
    "        results (list): list of dicts representing each business\n",
    "    \"\"\"\n",
    "    \n",
    "    headers = {\n",
    "    \"authorization\": 'Bearer %s' % api_key, # for the yelp API \n",
    "    }\n",
    "    \n",
    "    params = {\n",
    "        \"term\": \"Restuarants\",\n",
    "        \"location\": query,\n",
    "        \"limit\": 20,\n",
    "        \"offset\": offset\n",
    "    }\n",
    "    \n",
    "    response = requests.get(\"https://api.yelp.com/v3/businesses/search\",headers = headers, params = params)\n",
    "    res = response.json()\n",
    "    result = []\n",
    "    for business in res['businesses']:\n",
    "        result.append(business)\n",
    "    print(\"result = {}\".format(result))\n",
    "    return result\n",
    "    \n",
    "\n",
    "import time\n",
    "results = []\n",
    "# api_key = read_api_key(\"../\")\n",
    "for i in range(2):\n",
    "    result = all_restaurants(api_key, 'Pittsburgh')\n",
    "    offset += 20\n",
    "    time.sleep(0.5)\n",
    "    if result is not None:\n",
    "        results.extend(result)\n",
    "print(\"results len = {}\".format(len(results)))\n",
    "print(\"results = {}\".format(results))"
   ]
  },
  {
   "cell_type": "markdown",
   "metadata": {},
   "source": [
    "---"
   ]
  },
  {
   "cell_type": "markdown",
   "metadata": {},
   "source": [
    "Now that we have the metadata on all of the restaurants in Pittsburgh (or at least the ones listed on Yelp), we can retrieve the reviews and ratings. The Yelp API gives us aggregate information on ratings but it doesn't give us the review text or individual users' ratings for a restaurant. For that we need to turn to web scraping, but to find out what pages to scrape we first need to parse our JSON from the API to extract the URLs of the restaurants.\n",
    "\n",
    "In general, it is a best practice to seperate the act of __downloading__ data and __parsing__ data. This ensures that your data processing pipeline is modular and extensible (and autogradable ;). This decoupling also solves the problem of expensive downloading but cheap parsing (in terms of computation and time)."
   ]
  },
  {
   "cell_type": "markdown",
   "metadata": {},
   "source": [
    "---"
   ]
  },
  {
   "cell_type": "markdown",
   "metadata": {},
   "source": [
    "## Q 2.5: Parse the API Responses and Extract the URLs\n",
    "\n",
    "Because we want to seperate the __downloading__ from the __parsing__, fill in the following function to parse the URLs pointing to the restaurants on `yelp.com`. As input your function should expect a string of [properly formatted JSON](http://www.json.org/) (which is similar to __BUT__ not the same as a Python dictionary) and as output should return a Python list of strings. The input JSON will be structured as follows (same as the [sample](https://www.yelp.com/developers/documentation/v3/business_search) on the Yelp API page):\n",
    "\n",
    "```json\n",
    "{\n",
    "  \"total\": 8228,\n",
    "  \"businesses\": [\n",
    "    {\n",
    "      \"rating\": 4,\n",
    "      \"price\": \"$\",\n",
    "      \"phone\": \"+14152520800\",\n",
    "      \"id\": \"four-barrel-coffee-san-francisco\",\n",
    "      \"is_closed\": false,\n",
    "      \"categories\": [\n",
    "        {\n",
    "          \"alias\": \"coffee\",\n",
    "          \"title\": \"Coffee & Tea\"\n",
    "        }\n",
    "      ],\n",
    "      \"review_count\": 1738,\n",
    "      \"name\": \"Four Barrel Coffee\",\n",
    "      \"url\": \"https://www.yelp.com/biz/four-barrel-coffee-san-francisco\",\n",
    "      \"coordinates\": {\n",
    "        \"latitude\": 37.7670169511878,\n",
    "        \"longitude\": -122.42184275\n",
    "      },\n",
    "      \"image_url\": \"http://s3-media2.fl.yelpcdn.com/bphoto/MmgtASP3l_t4tPCL1iAsCg/o.jpg\",\n",
    "      \"location\": {\n",
    "        \"city\": \"San Francisco\",\n",
    "        \"country\": \"US\",\n",
    "        \"address2\": \"\",\n",
    "        \"address3\": \"\",\n",
    "        \"state\": \"CA\",\n",
    "        \"address1\": \"375 Valencia St\",\n",
    "        \"zip_code\": \"94103\"\n",
    "      },\n",
    "      \"distance\": 1604.23,\n",
    "      \"transactions\": [\"pickup\", \"delivery\"]\n",
    "    }\n",
    "  ],\n",
    "  \"region\": {\n",
    "    \"center\": {\n",
    "      \"latitude\": 37.767413217936834,\n",
    "      \"longitude\": -122.42820739746094\n",
    "    }\n",
    "  }\n",
    "}\n",
    "```"
   ]
  },
  {
   "cell_type": "code",
   "execution_count": 9,
   "metadata": {},
   "outputs": [
    {
     "name": "stdout",
     "output_type": "stream",
     "text": [
      "url_list = ['https://www.yelp.com/biz/meat-and-potatoes-pittsburgh?adjust_creative=nJbdqWu2t1WtpsRK8MuB_A&utm_campaign=yelp_api_v3&utm_medium=api_v3_business_search&utm_source=nJbdqWu2t1WtpsRK8MuB_A', 'https://www.yelp.com/biz/gaucho-parrilla-argentina-pittsburgh?adjust_creative=nJbdqWu2t1WtpsRK8MuB_A&utm_campaign=yelp_api_v3&utm_medium=api_v3_business_search&utm_source=nJbdqWu2t1WtpsRK8MuB_A', 'https://www.yelp.com/biz/butcher-and-the-rye-pittsburgh?adjust_creative=nJbdqWu2t1WtpsRK8MuB_A&utm_campaign=yelp_api_v3&utm_medium=api_v3_business_search&utm_source=nJbdqWu2t1WtpsRK8MuB_A', 'https://www.yelp.com/biz/t%C3%A4k%C5%8D-pittsburgh?adjust_creative=nJbdqWu2t1WtpsRK8MuB_A&utm_campaign=yelp_api_v3&utm_medium=api_v3_business_search&utm_source=nJbdqWu2t1WtpsRK8MuB_A', 'https://www.yelp.com/biz/altius-pittsburgh?adjust_creative=nJbdqWu2t1WtpsRK8MuB_A&utm_campaign=yelp_api_v3&utm_medium=api_v3_business_search&utm_source=nJbdqWu2t1WtpsRK8MuB_A', 'https://www.yelp.com/biz/morcilla-pittsburgh?adjust_creative=nJbdqWu2t1WtpsRK8MuB_A&utm_campaign=yelp_api_v3&utm_medium=api_v3_business_search&utm_source=nJbdqWu2t1WtpsRK8MuB_A', 'https://www.yelp.com/biz/smallman-galley-pittsburgh-2?adjust_creative=nJbdqWu2t1WtpsRK8MuB_A&utm_campaign=yelp_api_v3&utm_medium=api_v3_business_search&utm_source=nJbdqWu2t1WtpsRK8MuB_A', 'https://www.yelp.com/biz/poulet-bleu-pittsburgh?adjust_creative=nJbdqWu2t1WtpsRK8MuB_A&utm_campaign=yelp_api_v3&utm_medium=api_v3_business_search&utm_source=nJbdqWu2t1WtpsRK8MuB_A', 'https://www.yelp.com/biz/kaya-pittsburgh?adjust_creative=nJbdqWu2t1WtpsRK8MuB_A&utm_campaign=yelp_api_v3&utm_medium=api_v3_business_search&utm_source=nJbdqWu2t1WtpsRK8MuB_A', 'https://www.yelp.com/biz/eleven-pittsburgh?adjust_creative=nJbdqWu2t1WtpsRK8MuB_A&utm_campaign=yelp_api_v3&utm_medium=api_v3_business_search&utm_source=nJbdqWu2t1WtpsRK8MuB_A', 'https://www.yelp.com/biz/dianoias-eatery-pittsburgh-2?adjust_creative=nJbdqWu2t1WtpsRK8MuB_A&utm_campaign=yelp_api_v3&utm_medium=api_v3_business_search&utm_source=nJbdqWu2t1WtpsRK8MuB_A', 'https://www.yelp.com/biz/sienna-mercato-pittsburgh?adjust_creative=nJbdqWu2t1WtpsRK8MuB_A&utm_campaign=yelp_api_v3&utm_medium=api_v3_business_search&utm_source=nJbdqWu2t1WtpsRK8MuB_A', 'https://www.yelp.com/biz/bakersfield-pittsburgh-8?adjust_creative=nJbdqWu2t1WtpsRK8MuB_A&utm_campaign=yelp_api_v3&utm_medium=api_v3_business_search&utm_source=nJbdqWu2t1WtpsRK8MuB_A', 'https://www.yelp.com/biz/vue-412-pittsburgh?adjust_creative=nJbdqWu2t1WtpsRK8MuB_A&utm_campaign=yelp_api_v3&utm_medium=api_v3_business_search&utm_source=nJbdqWu2t1WtpsRK8MuB_A', 'https://www.yelp.com/biz/proper-brick-oven-and-tap-room-pittsburgh?adjust_creative=nJbdqWu2t1WtpsRK8MuB_A&utm_campaign=yelp_api_v3&utm_medium=api_v3_business_search&utm_source=nJbdqWu2t1WtpsRK8MuB_A', 'https://www.yelp.com/biz/noodlehead-pittsburgh?adjust_creative=nJbdqWu2t1WtpsRK8MuB_A&utm_campaign=yelp_api_v3&utm_medium=api_v3_business_search&utm_source=nJbdqWu2t1WtpsRK8MuB_A', 'https://www.yelp.com/biz/the-twisted-frenchman-pittsburgh?adjust_creative=nJbdqWu2t1WtpsRK8MuB_A&utm_campaign=yelp_api_v3&utm_medium=api_v3_business_search&utm_source=nJbdqWu2t1WtpsRK8MuB_A', 'https://www.yelp.com/biz/cure-pittsburgh?adjust_creative=nJbdqWu2t1WtpsRK8MuB_A&utm_campaign=yelp_api_v3&utm_medium=api_v3_business_search&utm_source=nJbdqWu2t1WtpsRK8MuB_A', 'https://www.yelp.com/biz/legume-pittsburgh?adjust_creative=nJbdqWu2t1WtpsRK8MuB_A&utm_campaign=yelp_api_v3&utm_medium=api_v3_business_search&utm_source=nJbdqWu2t1WtpsRK8MuB_A', 'https://www.yelp.com/biz/the-commoner-pittsburgh-2?adjust_creative=nJbdqWu2t1WtpsRK8MuB_A&utm_campaign=yelp_api_v3&utm_medium=api_v3_business_search&utm_source=nJbdqWu2t1WtpsRK8MuB_A']\n"
     ]
    }
   ],
   "source": [
    "def parse_api_response(data):\n",
    "    \"\"\"\n",
    "    Parse Yelp API results to extract restaurant URLs.\n",
    "    \n",
    "    Args:\n",
    "        data (string): String of properly formatted JSON.\n",
    "\n",
    "    Returns:\n",
    "        (list): list of URLs as strings from the input JSON.\n",
    "    \"\"\"\n",
    "    \n",
    "    resp = json.loads(data)\n",
    "#     print(resp)\n",
    "    url = []\n",
    "    for business in resp['businesses']:\n",
    "        url.append(business['url'])\n",
    "    return url\n",
    "\n",
    "api_key= read_api_key(\"../\")\n",
    "sample_input = yelp_search(api_key, 'restaurants')\n",
    "url_list = parse_api_response(sample_input)\n",
    "print(\"url_list = {}\".format(url_list))"
   ]
  },
  {
   "cell_type": "markdown",
   "metadata": {},
   "source": [
    "---"
   ]
  },
  {
   "cell_type": "markdown",
   "metadata": {},
   "source": [
    "As we can see, JSON is quite trivial to parse (which is not the case with HTML as we will see in a second) and work with programmatically. This is why it is one of the most ubiquitous data serialization formats (especially for ReSTful APIs) and a huge benefit of working with a well defined API if one exists. But APIs do not always exists or provide the data we might need, and as a last resort we can always scrape web pages..."
   ]
  },
  {
   "cell_type": "markdown",
   "metadata": {},
   "source": [
    "## Working with Web Pages (and HTML)\n",
    "\n",
    "Think of APIs as similar to accessing a application's database itself (something you can interactively query and receive structured data back). But the results are usually in a somewhat raw form with no formatting or visual representation (like the results from a database query). This is a benefit _AND_ a drawback depending on the end use case. For data science and _programatic_ analysis this raw form is quite ideal, but for an end user requesting information from a _graphical interface_ (like a web browser) this is very far from ideal since it takes some cognitive overhead to interpret the raw information. And vice versa, if we have HTML it is quite easy for a human to visually interpret it, but to try to perform some type of programmatic analysis we first need to parse the HTML into a more structured form.\n",
    "\n",
    "> As a general rule of thumb, if the data you need can be accessed or retrieved in a structured form (either from a bulk download or API) prefer that first. But if the data you want (and need) is not as in our case we need to resort to alternative (messier) means.\n",
    "\n",
    "Going back to the \"hello world\" example of question 1 with the NYT, we will do something similar to retrieve the HTML of the Yelp site itself (rather than going through the API) programmatically as text. "
   ]
  },
  {
   "cell_type": "markdown",
   "metadata": {},
   "source": [
    "---"
   ]
  },
  {
   "cell_type": "markdown",
   "metadata": {},
   "source": [
    "## Q3: Parse a Yelp restaurant Page\n",
    "\n",
    "Using `BeautifulSoup`, parse the HTML of a single Yelp restaurant page to extract the reviews in a structured form as well as the URL to the next page of reviews (or `None` if it is the last page). Fill in following function stubs to parse a single page of reviews and return:\n",
    "* the reviews as a structured Python dictionary\n",
    "* the HTML element containing the link/url for the next page of reviews (or None).\n",
    "\n",
    "For each review be sure to structure your Python dictionary as follows (to be graded correctly). The order of the keys doesn't matter, only the keys and the data type of the values:\n",
    "\n",
    "```python\n",
    "{\n",
    "    'review_id': str\n",
    "    'user_id': str\n",
    "    'rating': float\n",
    "    'date': str ('yyyy-mm-dd')\n",
    "    'text': str\n",
    "}\n",
    "\n",
    "# Example\n",
    "{\n",
    "    'review_id': '12345'\n",
    "    'user_id': '6789'\n",
    "    'rating': 4.7\n",
    "    'date': '2016-01-23'\n",
    "    'text': \"Wonderful!\"\n",
    "}\n",
    "```\n",
    "\n",
    "> There can be issues with Beautiful Soup using various parsers, for maximum conpatibility (and fewest errors) initialize the library with the default (and Python standard library parser): `BeautifulSoup(markup, \"html.parser\")`"
   ]
  },
  {
   "cell_type": "code",
   "execution_count": 12,
   "metadata": {},
   "outputs": [
    {
     "name": "stdout",
     "output_type": "stream",
     "text": [
      "200\n",
      "[{'rating': 5.0, 'user_id': 'user_id:uaDGJ86VDIcoDF7Rv90xPQ', 'date': '07/01/2018', 'text': \"I think that Gaucho might be my favorite place to eat in Pittsburgh, which is a little strange; even though their new space is about 500% larger than their old one, it's still not a comfortable place to sit! \\xa0But the food is just *so good* that it doesn't matter. I will come back again and again. \\xa0It's not fine dining, but my favorite thing on the menu is the steak sandwich made with ribeye steak. \\xa0Nearly all of the food is cooked directly over their incomparable wood-fired grill. \\xa0The house-made authentically Argentinian sauces complete the sandwich, so don't be shy and be sure to try them all! \\xa0I can't decide if I like the pimenton (smoky red pepper) or ajo (garlic) better!If you'd looking for a side dish, I can't recommend the grilled veggies enough. \\xa0Who knew that something so simple could be so delicious? \\xa0Also: I say skip the paella. \\xa0It was fun to eat as a group, but it lacked so much in flavor.Arrive early or in the middle of the afternoon to beat the wait. \\xa0BYOB!\", 'review_id': 'WxUaIrfku2kBMagaga4jkg'}, {'rating': 4.0, 'user_id': 'user_id:HgeE8guC565OELCyWLmY6w', 'date': '07/08/2018', 'text': \"DON'T CRY FOR ME ARGENTINAaAaAaAaA !I finally tried this Argentine chacusary styled restaurant. There is a line outside so you know something is up.See, the way it works is you order your food from the chalkboard and pay for it, collect your drinks, sit down and get served one time only. You have to walk around and find your own water and drinks but they still want a tip! I ordered the Carne steak sandwich with roasted peppers and I chose sirloin meat. I ordered the side of rosemary garlic clove potatoes which I ate with my sandwich which boosted the flavor. Everything is slightly charred.It was fun to try different styled food.\", 'review_id': 'PrDm9ly8prullA0fcDw4tQ'}, {'rating': 2.0, 'user_id': 'user_id:zSa7JJgMsnIALQcvqIzeXA', 'date': '07/03/2018', 'text': \"NOT A GOOD EXPERIENCE AT ALL!! Go here if you have plenty of time in your day. I've come here a bunch of times just to see the line wrapped around the building and not moving. I decided to give it a try on a Tuesday. There was a party of 14 in front of me and their orders were already in but they had to each pay after. I was in the middle of this line somehow and didn't know until the cashier REFUSED to take my order. I was infuriated! Manager or whatever he was was also rude. Sorry, not my problem your restaurant isn't organised , my order should have been taken immediately. Through me flipping out and getting severely stressed, I didn't ask the steak choices I had before ordering and also didn't have a chance to order a side because I was so pissed off. They sat me in some corner and not the actual main restaurant as if to discipline me for speaking out on getting thrown out of line. I ended up ordering the carne sandwich with sirloin, I wanted ribeye after knowing it was an option. All said, it's good but I probably won't be going out of my way to return.\", 'review_id': 'jt-0qbDbBNjd6aqRuQLBkA'}, {'rating': 5.0, 'user_id': 'user_id:U-FY_uZs1set1LFs7YL12w', 'date': '05/24/2018', 'text': \"Classic spot to feed your inner Carnivore. One of my favorite spots in Pittsburgh. Great place for dates or groups, possibly even special occasions (i.e. family dinner over graduation). My one annoyance is the loooong wait and cramped waiting area during busy times... The line will be outside wrapped around the corner. For example: Arrived on a Saturday at 8 PM and probably waited for an hour +. They don't take reservations unfortunately. HOWEVER, if you're willing to wait it out, it's completely WORTH it. Gaucho delivers on the best beef, sauces, and other specialties (shrimp, pork, sides, etc). You can order plates or sandwiches. Seriously an overwhelming number of options. I've found that for two people, ordering two small plates and a side (potatoes, green beans, etc) is the perfect size to split and leave with a full belly. I recently split the Cerdo (roast pork), small plate of NY strip (median rare), and side of potatoes. \\xa0ALL delicious. The strip was perfectly pink / red. The pork wasn't dry but tender and flavorful. The Camarones (shrimp plate) and Carne Sandwich are both equally worthy. I have nothing negative to say in regards to the quality of food here. Out of the sauces (which are a must have regardless of your order), I obsess over the Ajo-Garlic (roasted garlic) and classic Chimmichurri-Yummy (Argentinian steak sauce).BYOB\", 'review_id': 'YrJcIzzBpf03NBLeLXlXJA'}, {'rating': 5.0, 'user_id': 'user_id:BjtJ3VkMOxV2Lan037AFuw', 'date': '05/13/2018', 'text': 'So unbelievably good!I had been to their previous location and loved the food, but the space was beyond small making getting your food to go the only viable option. I was super excited to return once I learned that they had moved a couple doors down into a much larger space with two floors worth of seating, but every time I tried to get there the line to get in was literally around the block. The day we went there was actually no wait so we hurried up and parked and made a beeline to the door.Once inside I was not only blown away by how much nicer the new space was, but by how much was added to the menu since we visited the original location. After about 10 minutes of staring at the menu board we were ready to order.I chose a Carne ribeye steak sandwich which features your choice of steak with chimmichurri sauce, grilled peppers and caramelized onions. My steak was cooked perfectly. The steak was tender, very juicy and full of flavor. My wife chose the Pollo sandwich which features grilled chicken, pickled red onions, portobello mushrooms and ajo sauce. She absolutely loved it. Our daughter chose the steak burger which features a half pound burger, chimmichurri sauce and your choice of two topping. She added bacon and blue cheese. She loved her burger as well.One thing that I have always loved about Gaucho is that they have always cooked whatever meat I have order just as I ask. It is so hard to get perfectly cooked meat now a days, unfortunately. Service was quick and very attentive. I also like the fact that there is an exit door on the second floor that makes it easy to avoid the line of waiting people downstairs when you are ready to leave.Be sure to try each of their four sauces. Chimmichurri \"Argentine Steak Sauce\" which has fresh parsley and oregano, garlic, pepper flakes, red wine vinegar and olive oil. Ajo which has roasted garlic cloves with caramelized onions, parsley and pepper with olive oil. Pimenton which has grilled red bell peppers, fresh garlic, parsley, vinegar and olive oil. And Cebolla which has caramelized onion, vinegar, olive oil and parsley. Each sauce is very unique and different and all worth trying.', 'review_id': 'yjTUw-HgfULsaKDLK451DQ'}, {'rating': 5.0, 'user_id': 'user_id:y1siHCLXIuQSGWkpFdihkQ', 'date': '05/13/2018', 'text': \"Honestly... worth the wait. My husband said the wait is the only thing he'd take stars off for, but he hates waiting more than 15 mins for anything so \\u200dThe warnings about the line are real - expect to wait at least 20-30 minutes. We came on Cinco de Mayo weekend by accident (and this area of Pittsburgh has a weekend market going on, anyways) so parking was rough and the line was already winding around the building. We still only waited a little over 45 minutes, though, so I'd call that a win. The prices are fair, especially for the amount of food that you get, but it's my opinion that you should skip the platters and just go for the sandwiches. Would maybe change my mind if I got the asada platter or the paella, but those are things I'd get only with a hungry group of friends. For just me, the steak sandwich + some empanadas are more than enough. Speaking of which, I want to shout out the empanadas... I've never had Argentinian empanadas and was expecting the Mexican masa variety, but these are more of a bread dough and almost more like an Asian bao?? Super good and wish we got more (at first, I was a little underwhelmed by how small they seemed, but with the bready dough and dense filling, they were the right amount of filling). Also, big ups to the sauces... all of them are great, but the standouts are the chimmichuri (obviously previously raved about) and the smoked pepper. Honestly would have taken more to go if I wasn't so worried about little sauce containers spilling in my car. Overall, great experience that genuinely feels local and warm. The service is great - efficient and used to dealing with crowds (love that they find your group tables so no one can hog/reserve more space than necessary) and extremely friendly. Looking forward to coming back (hopefully with a shorter line) and trying more on the menu!\", 'review_id': 'w4UWq0dg6LUB3ScKTLJqww'}, {'rating': 4.0, 'user_id': 'user_id:oosXR1ENqMWC18Y1yRJxOg', 'date': '06/28/2018', 'text': 'This was my first time trying Argentinian food, and let me tell you, wow!! I chose the deconstructed chicken sandwich and my boyfriend had the steak burger. We both really enjoyed our meats (served hot and cooked perfectly), as well as a side of baked cauliflower, which was delicious. The best part about Gaucho is definitely the sauces, though. They have four different sauces you can choose from, and we had a hard time picking which was our favorite (so we used them all, of course)! Additionally, the restaurant is BYOB, with no corkage fee which is a plus. The only downside was the wait to get in, since they dont take reservations. There was a steady line out the door the entire time we were there (from about 6 PM - 8 PM). The food is definitely worth the wait, and I cant wait to get back there to try out some of the other stuff on the menu.', 'review_id': 'VxW2eYIqibx_KiBMf0seWg'}, {'rating': 5.0, 'user_id': 'user_id:3oKtLdAO138VHY8KTlpXuQ', 'date': '06/19/2018', 'text': 'Second time at this restaurant and I still love it! Unfortunately we had to wait 45 minutes on a Tuesday evening to order but the food was still delicious. We wanted to order empanadas as our appetizer but they only had 1 left at 7:45pm :( I got the Argentinio salad and it was huge. The papas (potatoes) were slightly hard but all the other vegetables were grilled nicely and served hot/warm over the salad. Mixed some of the veggies with the sauces they provide on the side and it was a treat. My friend got the catch of the day (Salmon) and it was cooked very well and was soft and flakey (definitely recommend this). The service is always great and everyone is super friendly and casual!', 'review_id': '0fgmeX98eM02i9LWIYShLg'}, {'rating': 4.0, 'user_id': 'user_id:2ZAGNRs2kmUk1H2BOW_3OA', 'date': '05/18/2018', 'text': \"Was the 1hr wait in the cold and additional 1 hr kind wait to order worth it? I don't know to be honest. Maybe if you've never had an south american/Argentinian steak over a fire? I guess this place is a gem in terms of food diversity and culture in the area and is accessible by tourists on the strip as well. If I had my way, I'd honestly recommend going there on a less busy time for maybe lunch? We saw lines already starting at 5PM for dinner. Maybe a weekday instead of a weekend?They make fresh chimichurri which was delicious. We got the NY strip steak large plate each which comes with a side salad and grilled bread which was delicious to dip in the array of sauces. The steak was perfectly medium rare and they do cut your steak for you if you're not used to that. \\xa0We also got the roasted cauliflower as well. I think overall the food was fresh, perfectly grilled, and the ambiance reminds me of a family style modern farm house esq place with an almost cafeteria feel I also loved all the local art support. Be aware that it will be noisy so don't expect your intimidate atmosphere.It is BYOB as well. Overall not a bad experience but I honestly don't think it was worth the wait.\", 'review_id': 'bzLZXsrh-mI1S3zOzWbLrg'}, {'rating': 4.0, 'user_id': 'user_id:RxL3KOklOuN-j10w-nrWpw', 'date': '04/21/2018', 'text': \"Everyone said this was THE place to try. Come early, especially for lunch and dinner. Otherwise, be prepared to wait in line for 45-60 minutes. And yes, that line goes outside and around the side of the building, rain or shine or snow and bitter cold. They take debit/credit cards. Food: We had the lamb, a NY strip steak, and a ribeye. All the meats were prepared to the requested level of doneness. Lamb has a bit too much salt for my liking, but otherwise fresh and flavorful. Good char on all the meat. No one in our party of three cared for the charred bread accompanying the meats. Salads that came with each meat were lightly dressed in a vinaigrette. Empanadas were amazing! The pork empanada was our fave. Sides of cauliflower, broccolini, and green beans were simple and tasty. Service: You line up and order from the main counter. There is NO TABLE service. Drinks first, then food. Staff are proficient in explaining what's on the menu, which is a massive chalkboard on a wall as you enter. Based on your time in line, you should have plenty of time to review what's on the menu. Specials are posted lower on smaller individual chalkboards near the front of the line. Cost: A small lamb, 6oz. ribeye, and 6oz. NY strip steak with side salads, 6 pc. shrimp appetizer, sides of cauliflower, green beans, and broccolini, with a pork empanada and a chicken empanada ran us about $85 after tax. Not cheap and portions are so-so. Overall: I wouldn't line up for it again, but it's worth a try. They do have a sign for the last group to be seated to hold noting they are the end of the line. This is so more folks don't wait in line in case they run out of food.\", 'review_id': 'NV8OECpwohXVMY6mUh9VCw'}, {'rating': 4.0, 'user_id': 'user_id:nKa_r2ajf6YCELH2qmckrg', 'date': '06/16/2018', 'text': 'Great little restaurant if you like Argentinian food, the quality of the food is sublime and the sandwitches have fresh bread. Alot of sauces to choose from and the dishes are pretty unique if you are unfamiliar with Argentinian food. I would start with a couple different steak sandwiches and work my way through the menu.FYI the lines here can get alittle ridiculous, especially during dinner time so go a couple hours before to prevent standing in line for 40 mins. Although the wait is worth it!', 'review_id': 'dF-sa1TBEcO_kjZNnKtV8Q'}, {'rating': 5.0, 'user_id': 'user_id:1YDj2XKcOiPsgWtKmnxYQQ', 'date': '06/04/2018', 'text': \"Amazing restaurant with plentiful vegetarian options - at the top of my list of favorite Pittsburgh restaurants!I normally get 2 empanadas (3 daily types of empanadas, with one of them always being vegetarian) and the Vegetale sandwich. As I am not a huge fan of mushrooms, I usually request that provolone cheese be used to replace the mushrooms in the sandwich, which the employees are always happy to oblige with, with no hassle or extra cost. Keep a look out for the seasonal pasta special as well, a good mix of tangy aioli sauce and vegetables. Also, the condiment sauces are to die for! Be sure to use these generously with any entree you order.BYOB. I'd recommend going at off peak hours (for example, 5 PM for early dinners) to ensure the line does not get too long (since they don't take reservations).\", 'review_id': 'Ul8_vBoP-m6pLDCsyM2KOg'}, {'rating': 5.0, 'user_id': 'user_id:Yo5tISJR2GgAHkpILXu9CQ', 'date': '03/24/2018', 'text': \"All I can say is dayum! This place is awesome. Be sure to bring some patience, you will have to wait. Gaucho's is worth the wait. I was in Pitt for a conference and made a stop after locating the restaurant on yelp. As I stood in line I watched plate after plate pass by and everything looked good. I had the ribeye plate medium well, off the chain!!!!! I also had the grilled broccoli and the rusted roots potato's....a must. Sweet potatoes, carrots, onions,chopped celery, and I believe chopped red potatoes. \\xa0This is a must get as well. You have to get the cookies Coates with coconut, I grabbed two to go and a chicken sandwich to go. This place is off the chain!!! BTW great staff as well....OG is the manager and he will set you straight if you don't know what to order.My co-worker had the sirloin and roasted potatoes with smoked garlic. And we both order empanadas to go as well. This place gets a yessss mister!\", 'review_id': 'UnLGVVp4jl2HqWfuJZd5Ug'}, {'rating': 5.0, 'user_id': 'user_id:q0LaZAFLzuaQ2RkMUhJQpQ', 'date': '07/06/2018', 'text': 'What an experience ! The food was incredible , we ordered all 3 choices of empanadas, flank steak, and 2 sides...everything had a ton of flavor and was cooked perfectly. There was a huge line but the manager was very accommodating especially because we had a baby with us. Easy 5 stars', 'review_id': '0hfwu8PQdY0GAjuQ58AvMQ'}, {'rating': 4.0, 'user_id': 'user_id:0H_n0mdiBBCfFuLYibod_Q', 'date': '06/17/2018', 'text': \"This place, under most circumstances, would get five stars. The only downside is the long wait. During our most recent visit my wife and I spent 40 minutes in line. The food and service are amazing and well worth the wait! BUT, if you can get there right when the restaurant opens or go during the week you can avoid the lines.I always get the Bondiola... roasted pork sandwich with a mustard sauce and caramelized onions. AMAZING! The bread is incredible...My wife got the El Gaucho Salad with chicken added. She also gets QuiQui Rimichi sauce on the side. DELICIOUS!BYOB!!You won't be disappointed!!\", 'review_id': 'JyvD6-FKo_F04C3ihZFZOw'}, {'rating': 3.0, 'user_id': 'user_id:Ce0YlftWfbRGq68a9Ap8rw', 'date': '06/30/2018', 'text': 'The food that I ordered was good, 3 sides. Had to send back one of the sides because they gave me the wrong one. My daughter ordered the $55.00 steak platter that had no sides with it, was over seasoned, WAY OVER PRICED.They forgot the grilled bread had to ask \\xa0twice. \\xa0Would not go back.', 'review_id': 'lFTDwBrjBNS2JPej-hm2-w'}, {'rating': 4.0, 'user_id': 'user_id:gfpQPBZGwn7KUedz6B9B2A', 'date': '03/15/2018', 'text': 'I couldn\\'t possibly recommend this place more. In the heart of the Strip District, it\\'s the perfect way to end a day perusing through Pittsburgh\\'s favorite Food District. And it\\'s an ending that will certainly not disappointment. It\\'s an \"order at the counter\" establishment, which can sometimes lead to a bit of a line-backup that leads you outside of the restaurant doors, but for the most part the line moves quicker than you would expect. Whether you are sharing a dish (steak platter or paella), or hand-picking some of your personal favorites, you are sure to find something that you will decide you can no longer live without. \\xa0I\\'m a big fan of the pollo con pan, cauliflower side, and the empanadas. Push the flavor boundaries a bit and experiment with one, or all, of their house side sauces. (The Ajo is my favorite)', 'review_id': 'jx_6-6dMOflkzjongdp8zQ'}, {'rating': 3.0, 'user_id': 'user_id:wrZ81OY3ss8YpWSa4HgIYQ', 'date': '05/29/2018', 'text': \"Maybe I need to go here a few more times and try more things. Ultimately, I liked my steak sandwich, but I think my expectations were too high. We arrived early on a weekday and there was no line. I really didn't have time to read or understand the menu as we didn't wait in any line. The menu to me was confusing with too many options. I got the steak sandwich with hangar steak. The bread was very good. It was so messy though, I think I went through about 25 napkins. I don't recommend this for a first date or a lunch during the work day. We also had the cauliflower which was ok also. I have had much better. If I lived in the area, I would give it another shot. Maybe I just didn't have the right thing.\", 'review_id': '_Kvbhbns2eFjzQbz2IgEyg'}, {'rating': 3.0, 'user_id': 'user_id:YA-caxALI4C-eCiSM97new', 'date': '06/24/2018', 'text': \"I have heard all the raves about this place for several years, and even had a chance to sample a few goods at a Yelp event once or twice, and the food was always delicious. But I never had a real drive or opportunity to actually go and sit for a full meal until recently.I've always seen the line of hipsters out the door and around the corner, and the few times we considered it, that was the first deterrent. I had no idea WHY the line was always there, but after a first visit, learned why. You order at the counter, and THEN are lead to your table. They try to explain all of the ins and outs of the restaurant in chalk on the walls and doors as you wait in the line to get to the counter. When there's THAT much chalk all over everything, my mind tended to dismiss it as I would \\xa0graffiti, but as we waited our 25 minutes to a half hour in the line, I realized that these were all of the instructions and rules.Once actually inside the door, the menu is another ginormous chalk mural on the wall. All lists of options and combos are scrawled from counter to ceiling, and this is the only real chance you have to decide what you want. Memorize your choices well, because once you get to the counter, there will be a line of people behind you that may hinder your chance to see it clearly again.There were four of us this evening, and after looking at the options and sky-high pricing, we decided on splitting a couple of things, and some added a side. We ordered the 'asado' platter, which was a sampling of ALL the beef cuts, that said it would feel 4 to 6 people, for $55. One person ordered roasted corn as a side ($4 for one ear of corn), another ordered a salad, and my partner and I split a kind of charcuterie plate ($15?). They also took our drink orders at the counter. Once we were paid, we were lead to a table in the dining area. Within a reasonable amount of time, our sides and orders were brought to the table by a server yelling our name.The food was tasty. I'm not going to rave 'spectacular', but it was good. The steak was cooked well, and reasonably seasoned. My issue is that for a plate that was supposedly to feel 4-8 people? If you put the sliced meats together, it was really the equivalent of two full sized steaks at the average steakhouse. The packages of chuck steaks that I buy in the Strip District weekly, three to a pack, are around $10, and pretty much equal the amount of meat we had to split between four.The prices of the other meals, singularly, made me very hesitant to order just a straight entree offering, most starting at $12 for 'small' and steadily rising from there.The charcuterie plate had a small pile of two different kinds of cured meat, two pieces of brie, two pieces of some other cheese, two roasted yellow peppers and one red, a few chunks of figs, a few chunks of dates, and a sprinkling of pepitos.The ear of corn was a partially shucked, oiled, and roasted...ear of corn. $4. Aldo was selling whole corn a week or so ago for nine CENTS each.Now, the staff was great, the atmosphere...well, it was atmosphere. Not great, not awful, a little white noise loud, with a hint (I think) of some kind of background music.I honestly can't say I would be eager to return. Not even for a 'special occasion'. Overpriced and over hyped. If the prices were brought down considerably, I might consider it once in a blue moon for a special occasion, but as it stands, some of the area Brazilian steak houses already fill those shoes, and for just a slightly higher price, they offer all you can eat meat.But the emporer's new clothes are lovely.\", 'review_id': '_zLPrUNgPpg9zx_cjQrAog'}, {'rating': 5.0, 'user_id': 'user_id:zg6LAy9gGLVH9JtcYP9gJg', 'date': '03/10/2018', 'text': \"Bon appetit!! Being as this was my first time dining here after hearing all the hype, I have to admit that everything that has been said is true. The food was nothing short of phenomenal. I couldn't have asked for a better experience. I especially appreciate the ease of ordering, being seating and the numerous options of entrees and chimichurri. I arrived with a party of 8 and was delighted that we had a table ready for us. What eas even better was our food was coming to us hot and steamy no more than 5 minuted later. I found it impressive to prepare appetizers and entrees for 8 in such an efficient time.I ordered the small plate of shrimp, 6 total, the roasted potatoes and a veggie empanada. All were amazing. I'm ready to come back here next week, and how could I forget BYOB completely complimentary!\", 'review_id': 'JAvWQyYIBlKsqOQjme3v0w'}]\n"
     ]
    }
   ],
   "source": [
    "import datetime\n",
    "def parse_page(html):\n",
    "    \"\"\"\n",
    "    Parse the reviews on a single page of a restaurant.\n",
    "    \n",
    "    Args:\n",
    "        html (string): String of HTML corresponding to a Yelp restaurant\n",
    "\n",
    "    Returns:\n",
    "        tuple(list, string): a tuple of two elements\n",
    "            first element: list of dictionaries corresponding to the extracted review information\n",
    "            second element: URL for the next page of reviews (or None if it is the last page)\n",
    "    \"\"\"\n",
    "    \n",
    "    response = requests.get(html)\n",
    "    print(response.status_code)\n",
    "    root = BeautifulSoup(response.text, \"html.parser\")\n",
    "    reviews = root.findAll(\"div\",{\"class\": \"review review--with-sidebar\"})\n",
    "    dict_list1 = []\n",
    "    dict_list2 = []\n",
    "    for review in reviews:\n",
    "        review_id = review[\"data-review-id\"]\n",
    "        user_id = review[\"data-signup-object\"]\n",
    "        dict1  = dict([(\"review_id\", review_id), (\"user_id\", user_id)])\n",
    "        dict_list1.append(dict1)\n",
    "    review_contents = root.findAll(\"div\",{\"class\": \"review-content\"})\n",
    "    for content in review_contents:\n",
    "        rating = float(content.div.div.div['title'].split(\" \")[0])\n",
    "        date = datetime.datetime.strptime(content.div.span.text.split('\\n')[1].lstrip(),'%m/%d/%Y').strftime(\"%m/%d/%Y\")\n",
    "        text = content.p.text\n",
    "        dict2  = dict([(\"rating\", rating), (\"date\", date), ('text', text)])\n",
    "        dict_list2.append(dict2)\n",
    "    result = []\n",
    "    for i in range(0, len(dict_list1)):\n",
    "        z = dict_list1[i]\n",
    "        z.update(dict_list2[i])\n",
    "        result.append(z)\n",
    "    print(result)\n",
    "    return result\n",
    "    \n",
    "    \n",
    "html = \"https://www.yelp.com/biz/gaucho-parrilla-argentina-pittsburgh?adjust_creative=nJbdqWu2t1WtpsRK8MuB_A&utm_campaign=yelp_api_v3&utm_medium=api_v3_business_search&utm_source=nJbdqWu2t1WtpsRK8MuB_A\"\n",
    "result = parse_page(html)\n",
    "\n",
    "# response = requests.get(html)\n",
    "# root = BeautifulSoup(response.text, \"html.parser\")\n",
    "# root.\n"
   ]
  },
  {
   "cell_type": "markdown",
   "metadata": {},
   "source": [
    "---"
   ]
  },
  {
   "cell_type": "markdown",
   "metadata": {},
   "source": [
    "## Q 3.5: Extract all of the Yelp reviews for a Single Restaurant\n",
    "\n",
    "So now that we have parsed a single page, and figured out a method to go from one page to the next we are ready to combine these two techniques and actually crawl through web pages! \n",
    "\n",
    "Using `requests`, programmatically retrieve __ALL__ of the reviews for a __single__ restaurant (provided as a parameter). Just like the API was paginated, the HTML paginates its reviews (it would be a very long web page to show 300 reviews on a single page) and to get all the reviews you will need to parse and traverse the HTML. As input your function will receive a URL corresponding to a Yelp restaurant. As output return a list of dictionaries (structured the same as question 3) containing the relevant information from the reviews.\n",
    "\n",
    "```python\n",
    ">>> data = extract_reviews('https://www.yelp.com/biz/the-porch-at-schenley-pittsburgh')\n",
    ">>> print len(data)\n",
    "513\n",
    ">>> print data[0]\n",
    "{\n",
    "    'text': \"I've only had the pizza at the Porch, so this 4 stars is for the pizza! This is a great place to come, especially for their late-night half-off pizza special during the weekdays. I've looked at their non-pizza menu and it's a bit pricey, but from what other people tell me, the other food is great. The pizza is more than large enough to feed one person, but my friends and I usually split a couple between us so we can have different flavors. My favorites is the Piggie Pie, but I also had another seasonal pizza with goat cheese and fig on it, which was also extremely good! The crust is nice and crunchy on the outside, but soft enough on the inside, and the ratio of sauce-to-crust is perfect. Overall, this is a fabulous spot to come to if you're a student in Oakland looking for a late-night snack, or a non-student who wants a classier spot to eat at in Oakland. Will be back again!\", \n",
    "    'date': '12/22/2017', \n",
    "    'user_id': 'SoItWLyIQUKtp8_SvQRMFg', \n",
    "    'review_id': '5-Qhk9s94w7eHICF2Fhk7Q', \n",
    "    'rating': 4.0\n",
    "}\n",
    "```"
   ]
  }
 ],
 "metadata": {
  "anaconda-cloud": {},
  "kernelspec": {
   "display_name": "Python 3",
   "language": "python",
   "name": "python3"
  },
  "language_info": {
   "codemirror_mode": {
    "name": "ipython",
    "version": 3
   },
   "file_extension": ".py",
   "mimetype": "text/x-python",
   "name": "python",
   "nbconvert_exporter": "python",
   "pygments_lexer": "ipython3",
   "version": "3.6.5"
  }
 },
 "nbformat": 4,
 "nbformat_minor": 1
}
