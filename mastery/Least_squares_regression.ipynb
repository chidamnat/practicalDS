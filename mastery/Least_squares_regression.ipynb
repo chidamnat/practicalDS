{
  "nbformat": 4,
  "nbformat_minor": 0,
  "metadata": {
    "colab": {
      "name": "Least_squares_regression.ipynb",
      "provenance": [],
      "collapsed_sections": []
    },
    "kernelspec": {
      "name": "python3",
      "display_name": "Python 3"
    }
  },
  "cells": [
    {
      "cell_type": "markdown",
      "metadata": {
        "id": "__3FgjbTL_52",
        "colab_type": "text"
      },
      "source": [
        "### Least Squares Regression"
      ]
    },
    {
      "cell_type": "code",
      "metadata": {
        "id": "aOOg7qIB2i1d",
        "colab_type": "code",
        "colab": {}
      },
      "source": [
        "import pandas as pd \n",
        "import numpy as np\n",
        "import matplotlib.pyplot as plt\n",
        "plt.style.use('fivethirtyeight')"
      ],
      "execution_count": 0,
      "outputs": []
    },
    {
      "cell_type": "markdown",
      "metadata": {
        "id": "wRD6axYIMt1h",
        "colab_type": "text"
      },
      "source": [
        "Let us use Advertising data and see if we could predict sales based on the TV ads"
      ]
    },
    {
      "cell_type": "code",
      "metadata": {
        "id": "AfnbJXPViQLX",
        "colab_type": "code",
        "outputId": "475838b7-f7a6-49a6-f4b7-44d1af74b649",
        "colab": {
          "base_uri": "https://localhost:8080/",
          "height": 204
        }
      },
      "source": [
        "df = pd.read_csv('Advertising.csv', index_col=0)\n",
        "df.head()"
      ],
      "execution_count": 0,
      "outputs": [
        {
          "output_type": "execute_result",
          "data": {
            "text/html": [
              "<div>\n",
              "<style scoped>\n",
              "    .dataframe tbody tr th:only-of-type {\n",
              "        vertical-align: middle;\n",
              "    }\n",
              "\n",
              "    .dataframe tbody tr th {\n",
              "        vertical-align: top;\n",
              "    }\n",
              "\n",
              "    .dataframe thead th {\n",
              "        text-align: right;\n",
              "    }\n",
              "</style>\n",
              "<table border=\"1\" class=\"dataframe\">\n",
              "  <thead>\n",
              "    <tr style=\"text-align: right;\">\n",
              "      <th></th>\n",
              "      <th>TV</th>\n",
              "      <th>radio</th>\n",
              "      <th>newspaper</th>\n",
              "      <th>sales</th>\n",
              "    </tr>\n",
              "  </thead>\n",
              "  <tbody>\n",
              "    <tr>\n",
              "      <th>1</th>\n",
              "      <td>230.1</td>\n",
              "      <td>37.8</td>\n",
              "      <td>69.2</td>\n",
              "      <td>22.1</td>\n",
              "    </tr>\n",
              "    <tr>\n",
              "      <th>2</th>\n",
              "      <td>44.5</td>\n",
              "      <td>39.3</td>\n",
              "      <td>45.1</td>\n",
              "      <td>10.4</td>\n",
              "    </tr>\n",
              "    <tr>\n",
              "      <th>3</th>\n",
              "      <td>17.2</td>\n",
              "      <td>45.9</td>\n",
              "      <td>69.3</td>\n",
              "      <td>9.3</td>\n",
              "    </tr>\n",
              "    <tr>\n",
              "      <th>4</th>\n",
              "      <td>151.5</td>\n",
              "      <td>41.3</td>\n",
              "      <td>58.5</td>\n",
              "      <td>18.5</td>\n",
              "    </tr>\n",
              "    <tr>\n",
              "      <th>5</th>\n",
              "      <td>180.8</td>\n",
              "      <td>10.8</td>\n",
              "      <td>58.4</td>\n",
              "      <td>12.9</td>\n",
              "    </tr>\n",
              "  </tbody>\n",
              "</table>\n",
              "</div>"
            ],
            "text/plain": [
              "      TV  radio  newspaper  sales\n",
              "1  230.1   37.8       69.2   22.1\n",
              "2   44.5   39.3       45.1   10.4\n",
              "3   17.2   45.9       69.3    9.3\n",
              "4  151.5   41.3       58.5   18.5\n",
              "5  180.8   10.8       58.4   12.9"
            ]
          },
          "metadata": {
            "tags": []
          },
          "execution_count": 176
        }
      ]
    },
    {
      "cell_type": "markdown",
      "metadata": {
        "id": "x1pv5LlOoH5t",
        "colab_type": "text"
      },
      "source": [
        "Let us build a Linear Regression utility class which fits a Linear regression model based on the data and return the prediction along with the features dataframe under 'predictions' as new column"
      ]
    },
    {
      "cell_type": "code",
      "metadata": {
        "id": "p_trfIN6oG6C",
        "colab_type": "code",
        "outputId": "ea40dc3f-3733-4510-e27e-b63f565018c7",
        "colab": {
          "base_uri": "https://localhost:8080/",
          "height": 34
        }
      },
      "source": [
        "class LinRegUtils(object):\n",
        "  def std_units(self, x):\n",
        "    return (x - np.mean(x))/np.std(x)\n",
        "\n",
        "  def correlation(self, df, x, y):\n",
        "    return np.mean(self.std_units(df[x])* self.std_units(df[y]))\n",
        "\n",
        "  def slope(self, df, x, y):\n",
        "    r = self.correlation(df, x, y)\n",
        "    return r * np.std(df[y])/np.std(df[x])\n",
        "\n",
        "  def intercept(self, df, x, y):\n",
        "    m = self.slope(df, x, y)\n",
        "    return np.mean(df[y]) - m * np.mean(df[x])\n",
        "\n",
        "  def fitted_values(self, df, x, y):\n",
        "    m = self.slope(df, x, y)\n",
        "    c = self.intercept(df, x, y)\n",
        "    print(f'slope = {m} ; intercept = {c}')\n",
        "    df['predictions'] = m * df[x] + c\n",
        "    return df\n",
        "\n",
        "linear_reg = LinRegUtils()\n",
        "fitted_df = linear_reg.fitted_values(df, 'TV', 'sales')\n"
      ],
      "execution_count": 0,
      "outputs": [
        {
          "output_type": "stream",
          "text": [
            "slope = 0.047536640433019736 ; intercept = 7.032593549127698\n"
          ],
          "name": "stdout"
        }
      ]
    },
    {
      "cell_type": "code",
      "metadata": {
        "id": "-AiN4U03mQTO",
        "colab_type": "code",
        "outputId": "9d67d0a4-761a-4544-8c24-2af8ef3d2630",
        "colab": {
          "base_uri": "https://localhost:8080/",
          "height": 204
        }
      },
      "source": [
        "fitted_df.head()"
      ],
      "execution_count": 0,
      "outputs": [
        {
          "output_type": "execute_result",
          "data": {
            "text/html": [
              "<div>\n",
              "<style scoped>\n",
              "    .dataframe tbody tr th:only-of-type {\n",
              "        vertical-align: middle;\n",
              "    }\n",
              "\n",
              "    .dataframe tbody tr th {\n",
              "        vertical-align: top;\n",
              "    }\n",
              "\n",
              "    .dataframe thead th {\n",
              "        text-align: right;\n",
              "    }\n",
              "</style>\n",
              "<table border=\"1\" class=\"dataframe\">\n",
              "  <thead>\n",
              "    <tr style=\"text-align: right;\">\n",
              "      <th></th>\n",
              "      <th>TV</th>\n",
              "      <th>radio</th>\n",
              "      <th>newspaper</th>\n",
              "      <th>sales</th>\n",
              "      <th>predictions</th>\n",
              "    </tr>\n",
              "  </thead>\n",
              "  <tbody>\n",
              "    <tr>\n",
              "      <th>1</th>\n",
              "      <td>230.1</td>\n",
              "      <td>37.8</td>\n",
              "      <td>69.2</td>\n",
              "      <td>22.1</td>\n",
              "      <td>17.970775</td>\n",
              "    </tr>\n",
              "    <tr>\n",
              "      <th>2</th>\n",
              "      <td>44.5</td>\n",
              "      <td>39.3</td>\n",
              "      <td>45.1</td>\n",
              "      <td>10.4</td>\n",
              "      <td>9.147974</td>\n",
              "    </tr>\n",
              "    <tr>\n",
              "      <th>3</th>\n",
              "      <td>17.2</td>\n",
              "      <td>45.9</td>\n",
              "      <td>69.3</td>\n",
              "      <td>9.3</td>\n",
              "      <td>7.850224</td>\n",
              "    </tr>\n",
              "    <tr>\n",
              "      <th>4</th>\n",
              "      <td>151.5</td>\n",
              "      <td>41.3</td>\n",
              "      <td>58.5</td>\n",
              "      <td>18.5</td>\n",
              "      <td>14.234395</td>\n",
              "    </tr>\n",
              "    <tr>\n",
              "      <th>5</th>\n",
              "      <td>180.8</td>\n",
              "      <td>10.8</td>\n",
              "      <td>58.4</td>\n",
              "      <td>12.9</td>\n",
              "      <td>15.627218</td>\n",
              "    </tr>\n",
              "  </tbody>\n",
              "</table>\n",
              "</div>"
            ],
            "text/plain": [
              "      TV  radio  newspaper  sales  predictions\n",
              "1  230.1   37.8       69.2   22.1    17.970775\n",
              "2   44.5   39.3       45.1   10.4     9.147974\n",
              "3   17.2   45.9       69.3    9.3     7.850224\n",
              "4  151.5   41.3       58.5   18.5    14.234395\n",
              "5  180.8   10.8       58.4   12.9    15.627218"
            ]
          },
          "metadata": {
            "tags": []
          },
          "execution_count": 185
        }
      ]
    },
    {
      "cell_type": "markdown",
      "metadata": {
        "id": "ZxhORy19OAX4",
        "colab_type": "text"
      },
      "source": [
        "### We see that the slope and intercept is obtained. We can use the scipy optimize function to see if this is the best fit line.\n",
        "\n",
        "Compute the Root mean square error as a function, that we may want to minimize and obtain the best fit slope and intercept"
      ]
    },
    {
      "cell_type": "code",
      "metadata": {
        "id": "5k4wFtMW79OC",
        "colab_type": "code",
        "colab": {}
      },
      "source": [
        "def rmse(slope, intercept):\n",
        "    x = df['TV']\n",
        "    y = df['sales']\n",
        "    fitted = slope*x + intercept\n",
        "    return (np.mean((y - fitted) ** 2))**0.5"
      ],
      "execution_count": 0,
      "outputs": []
    },
    {
      "cell_type": "code",
      "metadata": {
        "id": "d_R5TOiH85rJ",
        "colab_type": "code",
        "outputId": "e207ac37-79fa-4d76-bc6f-900e6ff98692",
        "colab": {
          "base_uri": "https://localhost:8080/",
          "height": 34
        }
      },
      "source": [
        "rmse(0.04, 7.03)"
      ],
      "execution_count": 0,
      "outputs": [
        {
          "output_type": "execute_result",
          "data": {
            "text/plain": [
              "3.48756550046017"
            ]
          },
          "metadata": {
            "tags": []
          },
          "execution_count": 189
        }
      ]
    },
    {
      "cell_type": "markdown",
      "metadata": {
        "id": "Te0cODV2OnsU",
        "colab_type": "text"
      },
      "source": [
        "Below is a simple wrapper around scipy optimize.minimize function which accepts the rmse function as an argument and uses 'Powell' method to minimize and return us the best fit line (slope & intercept)"
      ]
    },
    {
      "cell_type": "code",
      "metadata": {
        "id": "E3sDbKC4zr_-",
        "colab_type": "code",
        "colab": {}
      },
      "source": [
        "from scipy import optimize\n",
        "import functools\n",
        "\n",
        "def minimize(f, start=None, array=False, **vargs):\n",
        "    \"\"\"Minimize a function f of one or more arguments.\n",
        "\n",
        "    Args:\n",
        "        f: A function that takes numbers and returns a number\n",
        "\n",
        "        start: A starting value or list of starting values\n",
        "\n",
        "        vargs: Other named arguments passed to scipy.optimize.minimize\n",
        "\n",
        "    Returns:\n",
        "        an array of minimizing arguments of a multi-argument function\n",
        "    \"\"\"\n",
        "    \n",
        "    @functools.wraps(f)\n",
        "    def objective(args):\n",
        "        return f(*args)\n",
        "\n",
        "    result = optimize.minimize(objective, start, **vargs)\n",
        "    return result.x"
      ],
      "execution_count": 0,
      "outputs": []
    },
    {
      "cell_type": "code",
      "metadata": {
        "id": "QtZBH7LU4KK5",
        "colab_type": "code",
        "outputId": "eacb4741-6333-4cd2-ecc2-125907a516be",
        "colab": {
          "base_uri": "https://localhost:8080/",
          "height": 34
        }
      },
      "source": [
        "minimize(rmse, method='Powell', start=[0.0, 4.0])"
      ],
      "execution_count": 0,
      "outputs": [
        {
          "output_type": "execute_result",
          "data": {
            "text/plain": [
              "array([0.04753664, 7.03258745])"
            ]
          },
          "metadata": {
            "tags": []
          },
          "execution_count": 205
        }
      ]
    },
    {
      "cell_type": "markdown",
      "metadata": {
        "id": "QJnRCdPaPQYH",
        "colab_type": "text"
      },
      "source": [
        "So we saw that Regression line is the one which minimizes the MSE / RMSE the most. \n",
        "\n",
        "Also by minimizing the MSE / RMSE, we will obtain the regression line which happens to be the best fit line.\n",
        "\n",
        "### Hence the name least squares line "
      ]
    },
    {
      "cell_type": "code",
      "metadata": {
        "id": "keYl14mqNDLt",
        "colab_type": "code",
        "outputId": "619f992c-0daa-4590-bd19-de204a6bea08",
        "colab": {
          "base_uri": "https://localhost:8080/",
          "height": 304
        }
      },
      "source": [
        "plt.scatter(fitted_df['TV'], fitted_df['sales'])\n",
        "plt.plot(fitted_df['TV'], fitted_df['predictions'], color='red')\n",
        "plt.xlabel('TV')\n",
        "plt.ylabel('sales');"
      ],
      "execution_count": 0,
      "outputs": [
        {
          "output_type": "display_data",
          "data": {
            "image/png": "[encoded data removed]",
            "text/plain": [
              "<Figure size 432x288 with 1 Axes>"
            ]
          },
          "metadata": {
            "tags": []
          }
        }
      ]
    },
    {
      "cell_type": "code",
      "metadata": {
        "id": "M2Hv8HByP_Lg",
        "colab_type": "code",
        "colab": {}
      },
      "source": [
        ""
      ],
      "execution_count": 0,
      "outputs": []
    }
  ]
}