{
  "nbformat": 4,
  "nbformat_minor": 0,
  "metadata": {
    "colab": {
      "name": "correlation_and_regression_line.ipynb",
      "provenance": [],
      "collapsed_sections": []
    },
    "kernelspec": {
      "name": "python3",
      "display_name": "Python 3"
    }
  },
  "cells": [
    {
      "cell_type": "markdown",
      "metadata": {
        "id": "-3BrlDnAeIAt",
        "colab_type": "text"
      },
      "source": [
        "### Correlation and Regression Line"
      ]
    },
    {
      "cell_type": "code",
      "metadata": {
        "id": "ok19suwjeK96",
        "colab_type": "code",
        "colab": {}
      },
      "source": [
        "import pandas as pd \n",
        "import numpy as np\n",
        "import matplotlib.pyplot as plt\n",
        "plt.style.use('fivethirtyeight')"
      ],
      "execution_count": 0,
      "outputs": []
    },
    {
      "cell_type": "code",
      "metadata": {
        "id": "5IJkv07WeYO-",
        "colab_type": "code",
        "outputId": "85e48329-631b-4545-e3c4-4b7d100ce3da",
        "colab": {
          "base_uri": "https://localhost:8080/",
          "height": 204
        }
      },
      "source": [
        "df = pd.read_csv('auto-mpg.csv')\n",
        "df.head()"
      ],
      "execution_count": 0,
      "outputs": [
        {
          "output_type": "execute_result",
          "data": {
            "text/html": [
              "<div>\n",
              "<style scoped>\n",
              "    .dataframe tbody tr th:only-of-type {\n",
              "        vertical-align: middle;\n",
              "    }\n",
              "\n",
              "    .dataframe tbody tr th {\n",
              "        vertical-align: top;\n",
              "    }\n",
              "\n",
              "    .dataframe thead th {\n",
              "        text-align: right;\n",
              "    }\n",
              "</style>\n",
              "<table border=\"1\" class=\"dataframe\">\n",
              "  <thead>\n",
              "    <tr style=\"text-align: right;\">\n",
              "      <th></th>\n",
              "      <th>mpg</th>\n",
              "      <th>cylinders</th>\n",
              "      <th>displacement</th>\n",
              "      <th>horsepower</th>\n",
              "      <th>weight</th>\n",
              "      <th>acceleration</th>\n",
              "      <th>model year</th>\n",
              "      <th>origin</th>\n",
              "      <th>car name</th>\n",
              "    </tr>\n",
              "  </thead>\n",
              "  <tbody>\n",
              "    <tr>\n",
              "      <th>0</th>\n",
              "      <td>18.0</td>\n",
              "      <td>8</td>\n",
              "      <td>307.0</td>\n",
              "      <td>130</td>\n",
              "      <td>3504</td>\n",
              "      <td>12.0</td>\n",
              "      <td>70</td>\n",
              "      <td>1</td>\n",
              "      <td>chevrolet chevelle malibu</td>\n",
              "    </tr>\n",
              "    <tr>\n",
              "      <th>1</th>\n",
              "      <td>15.0</td>\n",
              "      <td>8</td>\n",
              "      <td>350.0</td>\n",
              "      <td>165</td>\n",
              "      <td>3693</td>\n",
              "      <td>11.5</td>\n",
              "      <td>70</td>\n",
              "      <td>1</td>\n",
              "      <td>buick skylark 320</td>\n",
              "    </tr>\n",
              "    <tr>\n",
              "      <th>2</th>\n",
              "      <td>18.0</td>\n",
              "      <td>8</td>\n",
              "      <td>318.0</td>\n",
              "      <td>150</td>\n",
              "      <td>3436</td>\n",
              "      <td>11.0</td>\n",
              "      <td>70</td>\n",
              "      <td>1</td>\n",
              "      <td>plymouth satellite</td>\n",
              "    </tr>\n",
              "    <tr>\n",
              "      <th>3</th>\n",
              "      <td>16.0</td>\n",
              "      <td>8</td>\n",
              "      <td>304.0</td>\n",
              "      <td>150</td>\n",
              "      <td>3433</td>\n",
              "      <td>12.0</td>\n",
              "      <td>70</td>\n",
              "      <td>1</td>\n",
              "      <td>amc rebel sst</td>\n",
              "    </tr>\n",
              "    <tr>\n",
              "      <th>4</th>\n",
              "      <td>17.0</td>\n",
              "      <td>8</td>\n",
              "      <td>302.0</td>\n",
              "      <td>140</td>\n",
              "      <td>3449</td>\n",
              "      <td>10.5</td>\n",
              "      <td>70</td>\n",
              "      <td>1</td>\n",
              "      <td>ford torino</td>\n",
              "    </tr>\n",
              "  </tbody>\n",
              "</table>\n",
              "</div>"
            ],
            "text/plain": [
              "    mpg  cylinders  displacement  ... model year  origin                   car name\n",
              "0  18.0          8         307.0  ...         70       1  chevrolet chevelle malibu\n",
              "1  15.0          8         350.0  ...         70       1          buick skylark 320\n",
              "2  18.0          8         318.0  ...         70       1         plymouth satellite\n",
              "3  16.0          8         304.0  ...         70       1              amc rebel sst\n",
              "4  17.0          8         302.0  ...         70       1                ford torino\n",
              "\n",
              "[5 rows x 9 columns]"
            ]
          },
          "metadata": {
            "tags": []
          },
          "execution_count": 103
        }
      ]
    },
    {
      "cell_type": "markdown",
      "metadata": {
        "id": "85LkbQJ_mHXM",
        "colab_type": "text"
      },
      "source": [
        "#### Let us say we want to study the relationship between weight and mpg variables of a car in this data.\n",
        "\n",
        "We shall start with draw a scatter plot between these variables"
      ]
    },
    {
      "cell_type": "code",
      "metadata": {
        "id": "m33aicI-e_Ef",
        "colab_type": "code",
        "outputId": "61c8ad40-0fac-4d33-99ac-3f6012a9e182",
        "colab": {
          "base_uri": "https://localhost:8080/",
          "height": 304
        }
      },
      "source": [
        "plt.scatter(df['weight'], df['mpg'])\n",
        "plt.xlabel('weight')\n",
        "plt.ylabel('mpg');"
      ],
      "execution_count": 0,
      "outputs": [
        {
          "output_type": "display_data",
          "data": {
            "image/png": "[encoded data removed]",
            "text/plain": [
              "<Figure size 432x288 with 1 Axes>"
            ]
          },
          "metadata": {
            "tags": []
          }
        }
      ]
    },
    {
      "cell_type": "markdown",
      "metadata": {
        "id": "jCSFEi-SmqHL",
        "colab_type": "text"
      },
      "source": [
        "\n",
        "Is this accurately depicting the relationship between weight and mpg variables ?\n",
        "\n",
        "Looking at the scale we could see both are in different scales.\n",
        "We need to see them in standard_units."
      ]
    },
    {
      "cell_type": "code",
      "metadata": {
        "id": "2z3BJHpujth3",
        "colab_type": "code",
        "colab": {}
      },
      "source": [
        "def standard_units(x):\n",
        "  \"\"\"\n",
        "  Returns the array in standard units\n",
        "  \"\"\"\n",
        "  return (x - np.mean(x))/np.std(x)"
      ],
      "execution_count": 0,
      "outputs": []
    },
    {
      "cell_type": "markdown",
      "metadata": {
        "id": "SGGusnS2qOpB",
        "colab_type": "text"
      },
      "source": [
        "### Correlation coefficient\n",
        "Correlation coefficient measures the strength of linear relationship between two variables"
      ]
    },
    {
      "cell_type": "code",
      "metadata": {
        "id": "xNW9JtJHlbZ4",
        "colab_type": "code",
        "colab": {}
      },
      "source": [
        "def correlation(df, x, y):\n",
        "  \"\"\"\n",
        "  Returns the correlation coefficient between variables x and y \n",
        "  \"\"\"\n",
        "  return np.mean(standard_units(df[x]) * standard_units(df[y]))"
      ],
      "execution_count": 0,
      "outputs": []
    },
    {
      "cell_type": "code",
      "metadata": {
        "id": "L-hBpEBhpUb_",
        "colab_type": "code",
        "outputId": "32d81c0e-f4ad-4dcd-8b01-5de620040544",
        "colab": {
          "base_uri": "https://localhost:8080/",
          "height": 34
        }
      },
      "source": [
        "correlation(df, 'weight', 'mpg')"
      ],
      "execution_count": 0,
      "outputs": [
        {
          "output_type": "execute_result",
          "data": {
            "text/plain": [
              "-0.831740933244334"
            ]
          },
          "metadata": {
            "tags": []
          },
          "execution_count": 117
        }
      ]
    },
    {
      "cell_type": "markdown",
      "metadata": {
        "id": "8OpfcfAZvXwH",
        "colab_type": "text"
      },
      "source": [
        "We have computed the correlation coefficient (r).\n",
        "r varies between -1 and 1\n",
        "\n",
        "r = 1 (high positive linear association)\n",
        "\n",
        "r = -1 (high negative linear association)\n",
        "\n",
        "r = 0 (absence of linear association)\n",
        "\n",
        "correlation does not mean causation"
      ]
    },
    {
      "cell_type": "code",
      "metadata": {
        "id": "njK4hoJTrTif",
        "colab_type": "code",
        "outputId": "4f5f95df-0d97-48a1-cdc0-6a7666fdbe2e",
        "colab": {
          "base_uri": "https://localhost:8080/",
          "height": 34
        }
      },
      "source": [
        "correlation(df, 'acceleration', 'mpg')"
      ],
      "execution_count": 0,
      "outputs": [
        {
          "output_type": "execute_result",
          "data": {
            "text/plain": [
              "0.4202889121016503"
            ]
          },
          "metadata": {
            "tags": []
          },
          "execution_count": 118
        }
      ]
    },
    {
      "cell_type": "markdown",
      "metadata": {
        "id": "Gq9W8U4-wZwf",
        "colab_type": "text"
      },
      "source": [
        "So we have seen a negative linear relationship between weight and mpg. Whereas acceleration and mpg are positively correlated\n",
        "\n",
        "The correlation coefficient (r) not only measures how closely the points are clustered around the straight line but also help in finding that straight line. This is called as the regression line"
      ]
    },
    {
      "cell_type": "markdown",
      "metadata": {
        "id": "71icXpsdzOF3",
        "colab_type": "text"
      },
      "source": [
        "The regression line is given by y = mx + c\n",
        "Where 'm' is the slope and 'c' is called the intercept\n",
        "\n",
        "\n",
        "Let us see the y as a function of x\n",
        "\n",
        "standard_units(y) = r * standard_units(x)\n",
        "\n",
        "This is same as\n",
        "\n",
        "(y - mean(y)/std(y) = r * (x - mean(x))/sd(x)\n",
        "\n",
        "\n",
        "From this we can derive slope of the regression line as:\n",
        "\n",
        "m = r * std(y)/std(x)\n",
        "\n",
        "Intercept of the regression line as\n",
        "\n",
        "c = mean(y) - slope * mean(x)"
      ]
    },
    {
      "cell_type": "code",
      "metadata": {
        "id": "K0FM--2H2Zjd",
        "colab_type": "code",
        "colab": {}
      },
      "source": [
        "def slope(df, x, y):\n",
        "  \"\"\"\n",
        "  Returns the slope of the regression line\n",
        "  \"\"\"\n",
        "  r = correlation(df, x, y)\n",
        "  return r * np.std(df[y])/np.std(df[x])\n",
        "\n",
        "def intercept(df, x, y):\n",
        "  \"\"\"\n",
        "  Returns the intercept of the regression line\n",
        "  \"\"\"\n",
        "  m = slope(df, x, y)\n",
        "  return np.mean(df[y]) - m * np.mean(df[x])"
      ],
      "execution_count": 0,
      "outputs": []
    },
    {
      "cell_type": "code",
      "metadata": {
        "id": "9RtL2HOB_Fb5",
        "colab_type": "code",
        "colab": {}
      },
      "source": [
        "def fitted_values(df, x, y):\n",
        "  m = slope(df, x, y)\n",
        "  c = intercept(df, x, y)\n",
        "  print(f'slope = {m:>.4f}, intercept={c:>.4f}')\n",
        "  y = m * df['weight'] + c\n",
        "  df['predictions'] = y\n",
        "  return df"
      ],
      "execution_count": 0,
      "outputs": []
    },
    {
      "cell_type": "code",
      "metadata": {
        "id": "EFKP7QPHAL4A",
        "colab_type": "code",
        "outputId": "0f18a201-2849-4ce7-f18f-9c0496297271",
        "colab": {
          "base_uri": "https://localhost:8080/",
          "height": 221
        }
      },
      "source": [
        "df_with_predictions = fitted_values(df, 'weight', 'mpg')[['mpg', 'weight', 'predictions']]\n",
        "df_with_predictions.head()"
      ],
      "execution_count": 0,
      "outputs": [
        {
          "output_type": "stream",
          "text": [
            "slope = -0.0077, intercept=46.3174\n"
          ],
          "name": "stdout"
        },
        {
          "output_type": "execute_result",
          "data": {
            "text/html": [
              "<div>\n",
              "<style scoped>\n",
              "    .dataframe tbody tr th:only-of-type {\n",
              "        vertical-align: middle;\n",
              "    }\n",
              "\n",
              "    .dataframe tbody tr th {\n",
              "        vertical-align: top;\n",
              "    }\n",
              "\n",
              "    .dataframe thead th {\n",
              "        text-align: right;\n",
              "    }\n",
              "</style>\n",
              "<table border=\"1\" class=\"dataframe\">\n",
              "  <thead>\n",
              "    <tr style=\"text-align: right;\">\n",
              "      <th></th>\n",
              "      <th>mpg</th>\n",
              "      <th>weight</th>\n",
              "      <th>predictions</th>\n",
              "    </tr>\n",
              "  </thead>\n",
              "  <tbody>\n",
              "    <tr>\n",
              "      <th>0</th>\n",
              "      <td>18.0</td>\n",
              "      <td>3504</td>\n",
              "      <td>19.418523</td>\n",
              "    </tr>\n",
              "    <tr>\n",
              "      <th>1</th>\n",
              "      <td>15.0</td>\n",
              "      <td>3693</td>\n",
              "      <td>17.967643</td>\n",
              "    </tr>\n",
              "    <tr>\n",
              "      <th>2</th>\n",
              "      <td>18.0</td>\n",
              "      <td>3436</td>\n",
              "      <td>19.940532</td>\n",
              "    </tr>\n",
              "    <tr>\n",
              "      <th>3</th>\n",
              "      <td>16.0</td>\n",
              "      <td>3433</td>\n",
              "      <td>19.963562</td>\n",
              "    </tr>\n",
              "    <tr>\n",
              "      <th>4</th>\n",
              "      <td>17.0</td>\n",
              "      <td>3449</td>\n",
              "      <td>19.840736</td>\n",
              "    </tr>\n",
              "  </tbody>\n",
              "</table>\n",
              "</div>"
            ],
            "text/plain": [
              "    mpg  weight  predictions\n",
              "0  18.0    3504    19.418523\n",
              "1  15.0    3693    17.967643\n",
              "2  18.0    3436    19.940532\n",
              "3  16.0    3433    19.963562\n",
              "4  17.0    3449    19.840736"
            ]
          },
          "metadata": {
            "tags": []
          },
          "execution_count": 111
        }
      ]
    },
    {
      "cell_type": "markdown",
      "metadata": {
        "id": "uoKUh_ifF4ND",
        "colab_type": "text"
      },
      "source": [
        "## Plotting the regression line"
      ]
    },
    {
      "cell_type": "code",
      "metadata": {
        "id": "WOi0W8TCByGg",
        "colab_type": "code",
        "outputId": "344420f3-7350-4645-8bed-b8c9c1292111",
        "colab": {
          "base_uri": "https://localhost:8080/",
          "height": 304
        }
      },
      "source": [
        "ax1 = df_with_predictions.plot(kind='scatter', x='weight', y='mpg', color='b')    \n",
        "ax2 = df_with_predictions.plot(kind='scatter', x='weight', y='predictions', color='r', ax=ax1) \n",
        "plt.ylabel('mpg');\n"
      ],
      "execution_count": 0,
      "outputs": [
        {
          "output_type": "display_data",
          "data": {
            "image/png": "[encoded data removed]",
            "text/plain": [
              "<Figure size 432x288 with 1 Axes>"
            ]
          },
          "metadata": {
            "tags": []
          }
        }
      ]
    },
    {
      "cell_type": "code",
      "metadata": {
        "id": "M7HdCNl5HUQP",
        "colab_type": "code",
        "colab": {}
      },
      "source": [
        ""
      ],
      "execution_count": 0,
      "outputs": []
    }
  ]
}