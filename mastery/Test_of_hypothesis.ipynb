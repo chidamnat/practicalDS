{
  "nbformat": 4,
  "nbformat_minor": 0,
  "metadata": {
    "colab": {
      "name": "Test_of_hypothesis.ipynb",
      "provenance": [],
      "collapsed_sections": []
    },
    "kernelspec": {
      "name": "python3",
      "display_name": "Python 3"
    }
  },
  "cells": [
    {
      "cell_type": "markdown",
      "metadata": {
        "id": "nqwhZ5_Kn2m6",
        "colab_type": "text"
      },
      "source": [
        "## Understanding Test of Hypothesis using 2019 - Stack overflow survey dataset"
      ]
    },
    {
      "cell_type": "code",
      "metadata": {
        "id": "WXEHapWOndkQ",
        "colab_type": "code",
        "colab": {}
      },
      "source": [
        "import pandas as pd\n",
        "import numpy as np\n",
        "import matplotlib.pyplot as plt\n",
        "import warnings \n",
        "warnings.filterwarnings('ignore')\n",
        "plt.style.use('fivethirtyeight')"
      ],
      "execution_count": 0,
      "outputs": []
    },
    {
      "cell_type": "code",
      "metadata": {
        "id": "V2jh3qTboPTy",
        "colab_type": "code",
        "outputId": "87aac8d5-8c68-4ea9-ffa0-273d183deff1",
        "colab": {
          "base_uri": "https://localhost:8080/",
          "height": 204
        }
      },
      "source": [
        "# Reading the survey data and obtaining columns of interest\n",
        "# Here we have used Survey rows for respondents of US and whose annual income listed in USD\n",
        "df = pd.read_csv('survey_results_public.csv')\n",
        "df = df.loc[(df['CurrencySymbol'] == 'USD') & (df['Country'] == 'United States')][['EdLevel', 'ConvertedComp']]\n",
        "df.head()"
      ],
      "execution_count": 0,
      "outputs": [
        {
          "output_type": "execute_result",
          "data": {
            "text/html": [
              "<div>\n",
              "<style scoped>\n",
              "    .dataframe tbody tr th:only-of-type {\n",
              "        vertical-align: middle;\n",
              "    }\n",
              "\n",
              "    .dataframe tbody tr th {\n",
              "        vertical-align: top;\n",
              "    }\n",
              "\n",
              "    .dataframe thead th {\n",
              "        text-align: right;\n",
              "    }\n",
              "</style>\n",
              "<table border=\"1\" class=\"dataframe\">\n",
              "  <thead>\n",
              "    <tr style=\"text-align: right;\">\n",
              "      <th></th>\n",
              "      <th>EdLevel</th>\n",
              "      <th>ConvertedComp</th>\n",
              "    </tr>\n",
              "  </thead>\n",
              "  <tbody>\n",
              "    <tr>\n",
              "      <th>3</th>\n",
              "      <td>Bachelor’s degree (BA, BS, B.Eng., etc.)</td>\n",
              "      <td>61000.0</td>\n",
              "    </tr>\n",
              "    <tr>\n",
              "      <th>12</th>\n",
              "      <td>Master’s degree (MA, MS, M.Eng., MBA, etc.)</td>\n",
              "      <td>90000.0</td>\n",
              "    </tr>\n",
              "    <tr>\n",
              "      <th>21</th>\n",
              "      <td>Some college/university study without earning ...</td>\n",
              "      <td>103000.0</td>\n",
              "    </tr>\n",
              "    <tr>\n",
              "      <th>22</th>\n",
              "      <td>Bachelor’s degree (BA, BS, B.Eng., etc.)</td>\n",
              "      <td>69000.0</td>\n",
              "    </tr>\n",
              "    <tr>\n",
              "      <th>25</th>\n",
              "      <td>Some college/university study without earning ...</td>\n",
              "      <td>114000.0</td>\n",
              "    </tr>\n",
              "  </tbody>\n",
              "</table>\n",
              "</div>"
            ],
            "text/plain": [
              "                                              EdLevel  ConvertedComp\n",
              "3            Bachelor’s degree (BA, BS, B.Eng., etc.)        61000.0\n",
              "12        Master’s degree (MA, MS, M.Eng., MBA, etc.)        90000.0\n",
              "21  Some college/university study without earning ...       103000.0\n",
              "22           Bachelor’s degree (BA, BS, B.Eng., etc.)        69000.0\n",
              "25  Some college/university study without earning ...       114000.0"
            ]
          },
          "metadata": {
            "tags": []
          },
          "execution_count": 135
        }
      ]
    },
    {
      "cell_type": "markdown",
      "metadata": {
        "id": "0UNjhylet1ns",
        "colab_type": "text"
      },
      "source": [
        "## Let us say we want to find if there is a difference between education level of Bachelors / Masters on their Annual compensation"
      ]
    },
    {
      "cell_type": "code",
      "metadata": {
        "id": "ObPd96vnudS7",
        "colab_type": "code",
        "outputId": "ad4735a0-c4ed-4164-8ea2-d1688f96f3df",
        "colab": {
          "base_uri": "https://localhost:8080/",
          "height": 282
        }
      },
      "source": [
        "masters_col = \"Master’s degree (MA, MS, M.Eng., MBA, etc.)\"\n",
        "bachelors_col = \"Bachelor’s degree (BA, BS, B.Eng., etc.)\"\n",
        "levels = [masters_col, bachelors_col]\n",
        "\n",
        "def plot_hist(df):\n",
        "  masters_salary = df[df['EdLevel'] == masters_col]['ConvertedComp']\n",
        "  bachelors_salary = df[df['EdLevel'] == bachelors_col]['ConvertedComp']\n",
        "  plt.hist(masters_salary, bins=30, alpha=0.5,label='masters',)\n",
        "  plt.hist(bachelors_salary, bins=30, alpha=0.5, label='bachelors')\n",
        "  plt.legend(loc='upper right')\n",
        "  plt.show()\n",
        "  \n",
        "plot_hist(df)"
      ],
      "execution_count": 0,
      "outputs": [
        {
          "output_type": "display_data",
          "data": {
            "image/png": "[encoded data removed]",
            "text/plain": [
              "<Figure size 432x288 with 1 Axes>"
            ]
          },
          "metadata": {
            "tags": []
          }
        }
      ]
    },
    {
      "cell_type": "markdown",
      "metadata": {
        "id": "_Drq2VoB2VUW",
        "colab_type": "text"
      },
      "source": [
        "# Using the right statistic is of paramount importance \n",
        "We see that the salary range is skewed. Hence we can choose difference between the medians of the group to be more robust for skewed data."
      ]
    },
    {
      "cell_type": "code",
      "metadata": {
        "id": "eM-Q8bOooaMv",
        "colab_type": "code",
        "outputId": "138efdbf-ad35-415c-c1d5-c6cde7d6ee2a",
        "colab": {
          "base_uri": "https://localhost:8080/",
          "height": 51
        }
      },
      "source": [
        "## Computing the observed difference in median salaries between the groups\n",
        "population = df.groupby('EdLevel').median()\n",
        "observed_difference = population.loc[masters_col] - population.loc[bachelors_col]\n",
        "observed_difference"
      ],
      "execution_count": 0,
      "outputs": [
        {
          "output_type": "execute_result",
          "data": {
            "text/plain": [
              "ConvertedComp    15000.0\n",
              "dtype: float64"
            ]
          },
          "metadata": {
            "tags": []
          },
          "execution_count": 140
        }
      ]
    },
    {
      "cell_type": "markdown",
      "metadata": {
        "id": "8UkMh2P83ROr",
        "colab_type": "text"
      },
      "source": [
        "We can use the Hypothesis testing here.\n",
        "\n",
        "1) Null Hypothesis - There is no significant difference between the median salaries of developers who completed Bachelor's degree from that of whom completed Master's degree - So the difference between their median is 0\n",
        "\n",
        "2) Alternate Hypothesis - The median salary of developers with Masters degree is greater than that of Bachelors's degree - which is \n",
        "median(Master_salaries) - median(Bachelor_salaries) > 0"
      ]
    },
    {
      "cell_type": "code",
      "metadata": {
        "id": "TvNfx7GBqMsS",
        "colab_type": "code",
        "outputId": "cfeeccdd-fb4a-4c68-b404-5ba8b4d2fa91",
        "colab": {
          "base_uri": "https://localhost:8080/",
          "height": 142
        }
      },
      "source": [
        "# Let us find out the proportions of Bachelors to Masters degree in our data\n",
        "df_base = df[df['EdLevel'].isin(levels)]\n",
        "counts = df_base.groupby('EdLevel').count()\n",
        "counts"
      ],
      "execution_count": 0,
      "outputs": [
        {
          "output_type": "execute_result",
          "data": {
            "text/html": [
              "<div>\n",
              "<style scoped>\n",
              "    .dataframe tbody tr th:only-of-type {\n",
              "        vertical-align: middle;\n",
              "    }\n",
              "\n",
              "    .dataframe tbody tr th {\n",
              "        vertical-align: top;\n",
              "    }\n",
              "\n",
              "    .dataframe thead th {\n",
              "        text-align: right;\n",
              "    }\n",
              "</style>\n",
              "<table border=\"1\" class=\"dataframe\">\n",
              "  <thead>\n",
              "    <tr style=\"text-align: right;\">\n",
              "      <th></th>\n",
              "      <th>ConvertedComp</th>\n",
              "    </tr>\n",
              "    <tr>\n",
              "      <th>EdLevel</th>\n",
              "      <th></th>\n",
              "    </tr>\n",
              "  </thead>\n",
              "  <tbody>\n",
              "    <tr>\n",
              "      <th>Bachelor’s degree (BA, BS, B.Eng., etc.)</th>\n",
              "      <td>8823</td>\n",
              "    </tr>\n",
              "    <tr>\n",
              "      <th>Master’s degree (MA, MS, M.Eng., MBA, etc.)</th>\n",
              "      <td>2661</td>\n",
              "    </tr>\n",
              "  </tbody>\n",
              "</table>\n",
              "</div>"
            ],
            "text/plain": [
              "                                             ConvertedComp\n",
              "EdLevel                                                   \n",
              "Bachelor’s degree (BA, BS, B.Eng., etc.)              8823\n",
              "Master’s degree (MA, MS, M.Eng., MBA, etc.)           2661"
            ]
          },
          "metadata": {
            "tags": []
          },
          "execution_count": 86
        }
      ]
    },
    {
      "cell_type": "code",
      "metadata": {
        "id": "hDHUh5X04xJr",
        "colab_type": "code",
        "outputId": "341672e7-f097-4a59-8992-31df7f7f15dd",
        "colab": {
          "base_uri": "https://localhost:8080/",
          "height": 51
        }
      },
      "source": [
        "proportion = (counts/counts.sum()).values\n",
        "proportion"
      ],
      "execution_count": 0,
      "outputs": [
        {
          "output_type": "execute_result",
          "data": {
            "text/plain": [
              "array([[0.76828631],\n",
              "       [0.23171369]])"
            ]
          },
          "metadata": {
            "tags": []
          },
          "execution_count": 87
        }
      ]
    },
    {
      "cell_type": "code",
      "metadata": {
        "id": "SQHVCDvB-ZHq",
        "colab_type": "code",
        "outputId": "ef85fa87-46cf-4fea-f67e-6490f8f28cea",
        "colab": {
          "base_uri": "https://localhost:8080/",
          "height": 204
        }
      },
      "source": [
        "## Let us drop the other education levels except Bachelors and Masters\n",
        "df_base.head()"
      ],
      "execution_count": 0,
      "outputs": [
        {
          "output_type": "execute_result",
          "data": {
            "text/html": [
              "<div>\n",
              "<style scoped>\n",
              "    .dataframe tbody tr th:only-of-type {\n",
              "        vertical-align: middle;\n",
              "    }\n",
              "\n",
              "    .dataframe tbody tr th {\n",
              "        vertical-align: top;\n",
              "    }\n",
              "\n",
              "    .dataframe thead th {\n",
              "        text-align: right;\n",
              "    }\n",
              "</style>\n",
              "<table border=\"1\" class=\"dataframe\">\n",
              "  <thead>\n",
              "    <tr style=\"text-align: right;\">\n",
              "      <th></th>\n",
              "      <th>EdLevel</th>\n",
              "      <th>ConvertedComp</th>\n",
              "    </tr>\n",
              "  </thead>\n",
              "  <tbody>\n",
              "    <tr>\n",
              "      <th>3</th>\n",
              "      <td>Bachelor’s degree (BA, BS, B.Eng., etc.)</td>\n",
              "      <td>61000.0</td>\n",
              "    </tr>\n",
              "    <tr>\n",
              "      <th>12</th>\n",
              "      <td>Master’s degree (MA, MS, M.Eng., MBA, etc.)</td>\n",
              "      <td>90000.0</td>\n",
              "    </tr>\n",
              "    <tr>\n",
              "      <th>22</th>\n",
              "      <td>Bachelor’s degree (BA, BS, B.Eng., etc.)</td>\n",
              "      <td>69000.0</td>\n",
              "    </tr>\n",
              "    <tr>\n",
              "      <th>28</th>\n",
              "      <td>Bachelor’s degree (BA, BS, B.Eng., etc.)</td>\n",
              "      <td>100000.0</td>\n",
              "    </tr>\n",
              "    <tr>\n",
              "      <th>34</th>\n",
              "      <td>Bachelor’s degree (BA, BS, B.Eng., etc.)</td>\n",
              "      <td>80000.0</td>\n",
              "    </tr>\n",
              "  </tbody>\n",
              "</table>\n",
              "</div>"
            ],
            "text/plain": [
              "                                        EdLevel  ConvertedComp\n",
              "3      Bachelor’s degree (BA, BS, B.Eng., etc.)        61000.0\n",
              "12  Master’s degree (MA, MS, M.Eng., MBA, etc.)        90000.0\n",
              "22     Bachelor’s degree (BA, BS, B.Eng., etc.)        69000.0\n",
              "28     Bachelor’s degree (BA, BS, B.Eng., etc.)       100000.0\n",
              "34     Bachelor’s degree (BA, BS, B.Eng., etc.)        80000.0"
            ]
          },
          "metadata": {
            "tags": []
          },
          "execution_count": 141
        }
      ]
    },
    {
      "cell_type": "markdown",
      "metadata": {
        "id": "0VWCUZJa6iCp",
        "colab_type": "text"
      },
      "source": [
        "For conducting the test, we can use simulation to generate data by taking lot of samples using the bootstrap technique (Sampling with replacement)"
      ]
    },
    {
      "cell_type": "code",
      "metadata": {
        "id": "o9uj1gsy9Ke7",
        "colab_type": "code",
        "colab": {}
      },
      "source": [
        "## Test statistic computation\n",
        "def compute_test_statistic(df):\n",
        "  test_result = df.groupby('EdLevel').median()\n",
        "  return (test_result.loc[masters_col] - test_result.loc[bachelors_col]).values"
      ],
      "execution_count": 0,
      "outputs": []
    },
    {
      "cell_type": "code",
      "metadata": {
        "id": "MLsIHQcj5k6S",
        "colab_type": "code",
        "outputId": "ad4baa7a-85b3-449a-d0e4-c06db2c6ce2b",
        "colab": {
          "base_uri": "https://localhost:8080/",
          "height": 303
        }
      },
      "source": [
        "## Performing the experiment multiple iteration\n",
        "iterations = 10000\n",
        "differences = []\n",
        "\n",
        "for i in range(iterations):\n",
        "  resampled_data = df_base.sample(frac=1.0,replace=True)\n",
        "  test_statistic = compute_test_statistic(resampled_data)\n",
        "  differences.append(test_statistic)\n",
        "\n",
        "pd.DataFrame(differences, columns=['median_differences']).hist(bins=np.arange(0,30000,1000));\n",
        "plt.scatter(0,0,color='red', s=30); # Mark the null hypothesis assumption"
      ],
      "execution_count": 0,
      "outputs": [
        {
          "output_type": "display_data",
          "data": {
            "image/png": "[encoded data removed]",
            "text/plain": [
              "<Figure size 432x288 with 1 Axes>"
            ]
          },
          "metadata": {
            "tags": []
          }
        }
      ]
    },
    {
      "cell_type": "markdown",
      "metadata": {
        "id": "6wDi4_eKDuwY",
        "colab_type": "text"
      },
      "source": [
        "#### Thus from the distribution of median differences between the two groups is clearly positive and ranging around 15000 USD as observed earlier from the population. Whereas we can see the red dot marked at 0 is completely outside this sampling distribution of difference in medians.\n",
        "\n",
        "### Hence we can safely conclude that we can reject the Null Hypothesis"
      ]
    },
    {
      "cell_type": "markdown",
      "metadata": {
        "id": "IcWHYZYKEcF9",
        "colab_type": "text"
      },
      "source": [
        "### Wait! What about the p-value!! ?"
      ]
    },
    {
      "cell_type": "code",
      "metadata": {
        "id": "uk07EaY6A91e",
        "colab_type": "code",
        "outputId": "8f80ff2e-61f3-452d-f14b-a8efcca85582",
        "colab": {
          "base_uri": "https://localhost:8080/",
          "height": 34
        }
      },
      "source": [
        "#Let us compute the p-value\n",
        "np.average([True if 0 > value else False for value in differences])"
      ],
      "execution_count": 0,
      "outputs": [
        {
          "output_type": "execute_result",
          "data": {
            "text/plain": [
              "0.0"
            ]
          },
          "metadata": {
            "tags": []
          },
          "execution_count": 143
        }
      ]
    },
    {
      "cell_type": "markdown",
      "metadata": {
        "id": "8KOBLcCdFdl5",
        "colab_type": "text"
      },
      "source": [
        "This seems to be extreme case where we have absolutely not once in our 10000 experiment, we never had the test statistic to be <= 0.\n",
        "\n",
        "### Another interesting question is what would have been the median difference to mark the p-value significance of atleast 5%"
      ]
    },
    {
      "cell_type": "code",
      "metadata": {
        "id": "vgElbLPbEruD",
        "colab_type": "code",
        "outputId": "5aad696e-a07e-4a5d-c174-7900e2233a2c",
        "colab": {
          "base_uri": "https://localhost:8080/",
          "height": 34
        }
      },
      "source": [
        "np.percentile(differences, 5)"
      ],
      "execution_count": 0,
      "outputs": [
        {
          "output_type": "execute_result",
          "data": {
            "text/plain": [
              "14000.0"
            ]
          },
          "metadata": {
            "tags": []
          },
          "execution_count": 133
        }
      ]
    },
    {
      "cell_type": "markdown",
      "metadata": {
        "id": "plytQ_QSGR52",
        "colab_type": "text"
      },
      "source": [
        "Can we conclude that whether the Education level results in higher annual income ?\n",
        "\n",
        "## Unfortunately no. \n",
        "Why ??\n",
        "Because there could be so many confounding factors we did not look at such as experience, age, gender, technology stack and so on.\n",
        "\n",
        "## So how to determine the real cause of higher salary ?\n",
        "## To determine that we need to do Randomized Controlled Experiment. More on that later!!"
      ]
    },
    {
      "cell_type": "code",
      "metadata": {
        "id": "rqyeBgr-GFWd",
        "colab_type": "code",
        "colab": {}
      },
      "source": [
        ""
      ],
      "execution_count": 0,
      "outputs": []
    }
  ]
}