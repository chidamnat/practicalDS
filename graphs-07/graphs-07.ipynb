{
 "cells": [
  {
   "cell_type": "markdown",
   "metadata": {},
   "source": [
    "## Page rank Algorithm in action!"
   ]
  },
  {
   "cell_type": "code",
   "execution_count": 45,
   "metadata": {},
   "outputs": [
    {
     "name": "stdout",
     "output_type": "stream",
     "text": [
      "[[0 0 1 0]\n",
      " [1 0 0 0]\n",
      " [0 1 0 0]\n",
      " [0 0 1 0]]\n"
     ]
    }
   ],
   "source": [
    "import numpy as np\n",
    "# Let us take an adjacency matrix\n",
    "\n",
    "A = np.array([[0,0,1,0], \n",
    "              [1,0,0,0],\n",
    "              [0,1,0,0],\n",
    "              [0,0,1,0]])\n",
    "print(A)\n",
    "d = 0.1  # (1-d) is the probability it continues with these transition probabilities\n",
    "T = 1000   # number of iterations"
   ]
  },
  {
   "cell_type": "code",
   "execution_count": 65,
   "metadata": {},
   "outputs": [],
   "source": [
    "def page_rank(A,d,T):\n",
    "    P = A.copy()\n",
    "#     P[:,P.sum(0)==0] = 1   # This identifies if there is a column full of zeros (nodes with no outgoing links) and set the column as 1s\n",
    "    P = P/(P.sum(0)  + 1e-10)   # normalizing the columns\n",
    "#     print(\"P=\\n\",P)\n",
    "\n",
    "    # calculating Phat\n",
    "    Phat = (1-d)*P + d/A.shape[0]*np.ones(A.shape)\n",
    "    x = np.ones(A.shape[0])/A.shape[0]\n",
    "#     print(\"Phat=\\n\", Phat)\n",
    "\n",
    "    for _ in range(T):\n",
    "        x = Phat @ x\n",
    "        x = x/x.sum()\n",
    "    print(x)    # looks like Node C is popular\n"
   ]
  },
  {
   "cell_type": "code",
   "execution_count": 66,
   "metadata": {},
   "outputs": [
    {
     "name": "stdout",
     "output_type": "stream",
     "text": [
      "page rank with d = 0.1 => \n",
      "[0.24378417 0.25560978 0.25682189 0.24378417]\n",
      "\n",
      "trying page_rank with different d values\n",
      "[0.16666667 0.33333333 0.33333333 0.16666667]\n",
      "[0.2085826  0.26188688 0.32094793 0.2085826 ]\n",
      "[0.21126852 0.26356043 0.31390253 0.21126852]\n",
      "[0.21440478 0.2648299  0.30636055 0.21440478]\n",
      "[0.21803433 0.26556151 0.29836983 0.21803433]\n",
      "[0.2221891  0.26560142 0.29002039 0.2221891 ]\n",
      "[0.22688115 0.26478208 0.28145562 0.22688115]\n",
      "[0.23209211 0.26293519 0.27288059 0.23209211]\n",
      "[0.2377625  0.25991196 0.26456303 0.2377625 ]\n",
      "[0.24378417 0.25560978 0.25682189 0.24378417]\n"
     ]
    }
   ],
   "source": [
    "\n",
    "print(\"page rank with d = 0.1 => \")\n",
    "page_rank(A,d,T) # page rank with d = 0.1\n",
    "#[0.24393064 0.25549133 0.2566474  0.24393064] zero replaced with 1\n",
    "#[0.24378417 0.25560978 0.25682189 0.24378417] zero not replaced\n",
    "\n",
    "print()\n",
    "print(\"trying page_rank with different d values\")\n",
    "for d in np.arange(0.0,1.0,0.1):     \n",
    "    page_rank(A,d,T)"
   ]
  },
  {
   "cell_type": "markdown",
   "metadata": {},
   "source": [
    "## Creating graphs using networkx"
   ]
  },
  {
   "cell_type": "code",
   "execution_count": 73,
   "metadata": {},
   "outputs": [],
   "source": [
    "import networkx as nx\n",
    "\n",
    "G = nx.Graph()  # undirected graph\n",
    "G = nx.DiGraph() # directed graph\n"
   ]
  },
  {
   "cell_type": "code",
   "execution_count": 76,
   "metadata": {},
   "outputs": [],
   "source": [
    "\n",
    "# Add or remove edges\n",
    "G.add_edges_from([('A','B'), ('B','C'), ('C','A'), ('C', 'D')])\n",
    "G.remove_edge('A','B')\n",
    "G.add_edge('A','B')\n",
    "G.remove_edges_from([('A','B'),('B','C')])\n",
    "G.add_edges_from([('A','B'), ('B','C')])"
   ]
  },
  {
   "cell_type": "code",
   "execution_count": 79,
   "metadata": {},
   "outputs": [
    {
     "name": "stdout",
     "output_type": "stream",
     "text": [
      "{'B': {}}\n"
     ]
    }
   ],
   "source": [
    "# networkx uses dictionary format internally\n",
    "print(G['A'])"
   ]
  },
  {
   "cell_type": "code",
   "execution_count": 82,
   "metadata": {},
   "outputs": [
    {
     "name": "stdout",
     "output_type": "stream",
     "text": [
      "A\n",
      "B\n",
      "C\n",
      "D\n",
      "\n",
      "A -> B\n",
      "B -> C\n",
      "C -> A\n",
      "C -> D\n"
     ]
    }
   ],
   "source": [
    "# iterate over nodes and edges\n",
    "for i in G.nodes():\n",
    "    print(i)\n",
    "print()\n",
    "for i,j in G.edges():\n",
    "    print(i,\"->\",j)\n"
   ]
  },
  {
   "cell_type": "code",
   "execution_count": 90,
   "metadata": {},
   "outputs": [
    {
     "data": {
      "text/plain": [
       "OutEdgeDataView([('A', 'B', {}), ('B', 'C', {}), ('C', 'A', {}), ('C', 'D', {})])"
      ]
     },
     "execution_count": 90,
     "metadata": {},
     "output_type": "execute_result"
    }
   ],
   "source": [
    "# Get and Set node/edge properties\n",
    "\n",
    "G.node['A']['node_property'] = \"node_value\"\n",
    "# G.edge['A']['B']['edge_property'] = \"edge_value\"\n",
    "G.nodes(data=True)\n",
    "G.edges(data=True)"
   ]
  },
  {
   "cell_type": "markdown",
   "metadata": {},
   "source": [
    "## Drawing and node properties"
   ]
  },
  {
   "cell_type": "code",
   "execution_count": 92,
   "metadata": {},
   "outputs": [
    {
     "data": {
      "image/png": "[encoded data removed]",
      "text/plain": [
       "<Figure size 432x288 with 1 Axes>"
      ]
     },
     "metadata": {},
     "output_type": "display_data"
    }
   ],
   "source": [
    "import matplotlib.pyplot as plt\n",
    "%matplotlib inline\n",
    "nx.draw(G, with_labels=True)\n",
    "plt.savefig('mp1_graph.pdf')"
   ]
  },
  {
   "cell_type": "markdown",
   "metadata": {},
   "source": [
    "## Algorithms"
   ]
  },
  {
   "cell_type": "code",
   "execution_count": 97,
   "metadata": {},
   "outputs": [
    {
     "data": {
      "text/plain": [
       "{'A': 0.2126075277037968,\n",
       " 'B': 0.2641838185655828,\n",
       " 'C': 0.31060112602682377,\n",
       " 'D': 0.2126075277037968}"
      ]
     },
     "execution_count": 97,
     "metadata": {},
     "output_type": "execute_result"
    }
   ],
   "source": [
    "nx.shortest_path_length(G, source='A')  #iterater over path length\n",
    "\n",
    "nx.pagerank(G, alpha=0.9) #dictionary of node ranks\n",
    "\n",
    "# requires networkx 2.0\n",
    "#nx.girvan_newman(G)"
   ]
  }
 ],
 "metadata": {
  "kernelspec": {
   "display_name": "Python 3",
   "language": "python",
   "name": "python3"
  },
  "language_info": {
   "codemirror_mode": {
    "name": "ipython",
    "version": 3
   },
   "file_extension": ".py",
   "mimetype": "text/x-python",
   "name": "python",
   "nbconvert_exporter": "python",
   "pygments_lexer": "ipython3",
   "version": "3.6.5"
  }
 },
 "nbformat": 4,
 "nbformat_minor": 2
}
