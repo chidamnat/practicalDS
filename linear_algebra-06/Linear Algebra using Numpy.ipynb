{
 "cells": [
  {
   "cell_type": "markdown",
   "metadata": {},
   "source": [
    "## Checking the configurations of the numpy library"
   ]
  },
  {
   "cell_type": "code",
   "execution_count": 15,
   "metadata": {},
   "outputs": [
    {
     "name": "stdout",
     "output_type": "stream",
     "text": [
      "mkl_info:\n",
      "    libraries = ['mkl_rt']\n",
      "    library_dirs = ['D:/softwares/Anaconda\\\\Library\\\\lib']\n",
      "    define_macros = [('SCIPY_MKL_H', None), ('HAVE_CBLAS', None)]\n",
      "    include_dirs = ['C:\\\\Program Files (x86)\\\\IntelSWTools\\\\compilers_and_libraries_2016.4.246\\\\windows\\\\mkl', 'C:\\\\Program Files (x86)\\\\IntelSWTools\\\\compilers_and_libraries_2016.4.246\\\\windows\\\\mkl\\\\include', 'C:\\\\Program Files (x86)\\\\IntelSWTools\\\\compilers_and_libraries_2016.4.246\\\\windows\\\\mkl\\\\lib', 'D:/softwares/Anaconda\\\\Library\\\\include']\n",
      "blas_mkl_info:\n",
      "    libraries = ['mkl_rt']\n",
      "    library_dirs = ['D:/softwares/Anaconda\\\\Library\\\\lib']\n",
      "    define_macros = [('SCIPY_MKL_H', None), ('HAVE_CBLAS', None)]\n",
      "    include_dirs = ['C:\\\\Program Files (x86)\\\\IntelSWTools\\\\compilers_and_libraries_2016.4.246\\\\windows\\\\mkl', 'C:\\\\Program Files (x86)\\\\IntelSWTools\\\\compilers_and_libraries_2016.4.246\\\\windows\\\\mkl\\\\include', 'C:\\\\Program Files (x86)\\\\IntelSWTools\\\\compilers_and_libraries_2016.4.246\\\\windows\\\\mkl\\\\lib', 'D:/softwares/Anaconda\\\\Library\\\\include']\n",
      "blas_opt_info:\n",
      "    libraries = ['mkl_rt']\n",
      "    library_dirs = ['D:/softwares/Anaconda\\\\Library\\\\lib']\n",
      "    define_macros = [('SCIPY_MKL_H', None), ('HAVE_CBLAS', None)]\n",
      "    include_dirs = ['C:\\\\Program Files (x86)\\\\IntelSWTools\\\\compilers_and_libraries_2016.4.246\\\\windows\\\\mkl', 'C:\\\\Program Files (x86)\\\\IntelSWTools\\\\compilers_and_libraries_2016.4.246\\\\windows\\\\mkl\\\\include', 'C:\\\\Program Files (x86)\\\\IntelSWTools\\\\compilers_and_libraries_2016.4.246\\\\windows\\\\mkl\\\\lib', 'D:/softwares/Anaconda\\\\Library\\\\include']\n",
      "lapack_mkl_info:\n",
      "    libraries = ['mkl_rt']\n",
      "    library_dirs = ['D:/softwares/Anaconda\\\\Library\\\\lib']\n",
      "    define_macros = [('SCIPY_MKL_H', None), ('HAVE_CBLAS', None)]\n",
      "    include_dirs = ['C:\\\\Program Files (x86)\\\\IntelSWTools\\\\compilers_and_libraries_2016.4.246\\\\windows\\\\mkl', 'C:\\\\Program Files (x86)\\\\IntelSWTools\\\\compilers_and_libraries_2016.4.246\\\\windows\\\\mkl\\\\include', 'C:\\\\Program Files (x86)\\\\IntelSWTools\\\\compilers_and_libraries_2016.4.246\\\\windows\\\\mkl\\\\lib', 'D:/softwares/Anaconda\\\\Library\\\\include']\n",
      "lapack_opt_info:\n",
      "    libraries = ['mkl_rt']\n",
      "    library_dirs = ['D:/softwares/Anaconda\\\\Library\\\\lib']\n",
      "    define_macros = [('SCIPY_MKL_H', None), ('HAVE_CBLAS', None)]\n",
      "    include_dirs = ['C:\\\\Program Files (x86)\\\\IntelSWTools\\\\compilers_and_libraries_2016.4.246\\\\windows\\\\mkl', 'C:\\\\Program Files (x86)\\\\IntelSWTools\\\\compilers_and_libraries_2016.4.246\\\\windows\\\\mkl\\\\include', 'C:\\\\Program Files (x86)\\\\IntelSWTools\\\\compilers_and_libraries_2016.4.246\\\\windows\\\\mkl\\\\lib', 'D:/softwares/Anaconda\\\\Library\\\\include']\n"
     ]
    }
   ],
   "source": [
    "import numpy as np\n",
    "# if configured thru' Anaconda by default the highly optimized versions of the libraries such as\n",
    "#  ATLAS, OpenBLAS, Intel MKL are installed. Care needs to be taken if stand alone version is installed\n",
    "#  please check if the below libraries are present with correct version. Dealing with matrices, using specialized \n",
    "#  code from these libraries gives you 10x speed!!\n",
    "np.__config__.show()"
   ]
  },
  {
   "cell_type": "markdown",
   "metadata": {},
   "source": [
    "## Creating numpy arrays"
   ]
  },
  {
   "cell_type": "code",
   "execution_count": 29,
   "metadata": {},
   "outputs": [],
   "source": [
    "# Creating 1D and 2D Numpy Arrays\n",
    "b = np.array([1,2,3])           # 1D array\n",
    "c = np.array([[1,2],[3,4]])     # 2D array\n",
    "\n",
    "ones = np.ones(4)         # 1D array of ones\n",
    "zeros = np.zeros(4)       # 1D array of zeros\n",
    "d = np.random.randn(4)    # 1D array of random normal entries\n",
    "\n",
    "A = np.ones((4,3))          # 2D array of ones\n",
    "B = np.zeros((4,3))         # 2D array of zeros\n",
    "C = np.random.randn(4,3)  # 2D array of radnom normal entries\n",
    "\n",
    "I = np.eye(5)             # Identity matrix\n",
    "D = np.diag(np.random.randn(3))"
   ]
  },
  {
   "cell_type": "code",
   "execution_count": 30,
   "metadata": {},
   "outputs": [
    {
     "name": "stdout",
     "output_type": "stream",
     "text": [
      "####### 1D array #########\n",
      "b = \n",
      " [1 2 3]\n",
      "c = \n",
      " [[1 2]\n",
      " [3 4]]\n",
      "ones = \n",
      " [1. 1. 1. 1.]\n",
      "zeros = \n",
      " [0. 0. 0. 0.]\n",
      "d = \n",
      " [ 0.39701596  1.201174    0.35331575 -1.37595174]\n",
      "####### 2D array #########\n",
      "A = \n",
      " [[1. 1. 1.]\n",
      " [1. 1. 1.]\n",
      " [1. 1. 1.]\n",
      " [1. 1. 1.]]\n",
      "B = \n",
      " [[0. 0. 0.]\n",
      " [0. 0. 0.]\n",
      " [0. 0. 0.]\n",
      " [0. 0. 0.]]\n",
      "C = \n",
      " [[-0.21859226  0.50128097 -0.18288921]\n",
      " [ 0.37194507 -0.02513789 -0.4227334 ]\n",
      " [ 0.86072348  0.70948967  0.01200847]\n",
      " [ 0.07280889 -0.95992071 -0.09532582]]\n",
      "####### Identity Matrix #########\n",
      "I = \n",
      " [[1. 0. 0. 0. 0.]\n",
      " [0. 1. 0. 0. 0.]\n",
      " [0. 0. 1. 0. 0.]\n",
      " [0. 0. 0. 1. 0.]\n",
      " [0. 0. 0. 0. 1.]]\n",
      "####### Diagonal Matrix #########\n",
      "D = \n",
      " [[ 1.48838321  0.          0.        ]\n",
      " [ 0.         -1.26650211  0.        ]\n",
      " [ 0.          0.         -1.21079961]]\n"
     ]
    }
   ],
   "source": [
    "print(\"####### 1D array #########\")\n",
    "print(\"b = \\n\", b)\n",
    "print(\"c = \\n\", c)\n",
    "print(\"ones = \\n\", ones)\n",
    "print(\"zeros = \\n\", zeros)\n",
    "print(\"d = \\n\", d)\n",
    "print(\"####### 2D array #########\")\n",
    "print(\"A = \\n\", A)\n",
    "print(\"B = \\n\", B)\n",
    "print(\"C = \\n\", C)\n",
    "print(\"####### Identity Matrix #########\")\n",
    "print(\"I = \\n\", I)\n",
    "print(\"####### Diagonal Matrix #########\")\n",
    "print(\"D = \\n\", D)\n"
   ]
  },
  {
   "cell_type": "code",
   "execution_count": 31,
   "metadata": {},
   "outputs": [
    {
     "data": {
      "text/plain": [
       "numpy.ndarray"
      ]
     },
     "execution_count": 31,
     "metadata": {},
     "output_type": "execute_result"
    }
   ],
   "source": [
    "type(b)"
   ]
  },
  {
   "cell_type": "markdown",
   "metadata": {},
   "source": [
    "## Indexing into Numpy Array"
   ]
  },
  {
   "cell_type": "code",
   "execution_count": 69,
   "metadata": {},
   "outputs": [
    {
     "name": "stdout",
     "output_type": "stream",
     "text": [
      "A = \n",
      " [[ 0  1  2  3]\n",
      " [ 4  5  6  7]\n",
      " [ 8  9 10 11]\n",
      " [12 13 14 15]\n",
      " [16 17 18 19]]\n",
      "0\n",
      "[0 1 2 3]\n",
      "[1 5 9]\n",
      "\n",
      "[ 2  6 10]\n",
      "\n",
      "[ 2  6 10]\n",
      "\n",
      "[[ 0  2]\n",
      " [ 4  6]\n",
      " [ 8 10]]\n"
     ]
    }
   ],
   "source": [
    "A = np.arange(20).reshape((5,4))\n",
    "print(\"A = \\n\", A)\n",
    "print(A[0,0])    # select single entry\n",
    "print(A[0,:])    # select single row\n",
    "print(A[0:3,1])\n",
    "\n",
    "# integer indexing\n",
    "print()\n",
    "idx_int = np.array([0,1,2])\n",
    "print(A[idx_int, 2])\n",
    "\n",
    "# boolean indexing\n",
    "print()\n",
    "idx_bool = np.array([True, True, True, False, False])\n",
    "print(A[idx_bool, 2])\n",
    "\n",
    "# fancy indexing on 2D\n",
    "print()\n",
    "idx_bool2 = np.array([True, False, True, False])\n",
    "print(A[idx_bool,:][:, idx_bool2])"
   ]
  },
  {
   "cell_type": "markdown",
   "metadata": {},
   "source": [
    "## Basic operations on Arrays"
   ]
  },
  {
   "cell_type": "code",
   "execution_count": 74,
   "metadata": {},
   "outputs": [
    {
     "name": "stdout",
     "output_type": "stream",
     "text": [
      "A + B = \n",
      " [[ 0.09380148 -2.08996867  3.09785479  2.75649783]\n",
      " [ 5.05119327  4.44349111  6.82778163  7.90555174]\n",
      " [ 8.47852315  9.04866474  8.752957   11.80925258]\n",
      " [11.65110845 12.90184127 14.4429844  16.35189977]\n",
      " [14.29361433 18.03530224 17.8522298  20.55787796]]\n",
      "A - B = \n",
      " [[-0.09380148  4.08996867  0.90214521  3.24350217]\n",
      " [ 2.94880673  5.55650889  5.17221837  6.09444826]\n",
      " [ 7.52147685  8.95133526 11.247043   10.19074742]\n",
      " [12.34889155 13.09815873 13.5570156  13.64810023]\n",
      " [17.70638567 15.96469776 18.1477702  17.44212204]]\n",
      " A * B = \n",
      " [[  0.          -3.08996867   2.19570959  -0.73050652]\n",
      " [  4.20477306  -2.78254443   4.96668979   6.33886219]\n",
      " [  3.82818518   0.4379827  -12.47042998   8.90177833]\n",
      " [ -4.18669855  -1.2760635    6.2017816   20.27849648]\n",
      " [-27.3021707   17.60013816  -2.65986359  29.59968129]]\n",
      " A / B = \n",
      " [[   0.           -0.32362788    1.82173454  -12.3202185 ]\n",
      " [   3.80519941   -8.98458251    7.24828841    7.73009391]\n",
      " [  16.71810455  184.93881344   -8.01896969   13.59278961]\n",
      " [ -34.39464256 -132.43855043   31.60382172   11.09549715]\n",
      " [  -9.37654382   16.42032565 -121.81075802   12.19607726]]\n",
      " A * x = \n",
      " [[ 0  2  6 12]\n",
      " [ 4 10 18 28]\n",
      " [ 8 18 30 44]\n",
      " [12 26 42 60]\n",
      " [16 34 54 76]]\n",
      "y[:,None] = \n",
      " [[1]\n",
      " [2]\n",
      " [3]\n",
      " [4]\n",
      " [5]]\n",
      " A * y[:,None] = \n",
      " [[ 0  1  2  3]\n",
      " [ 8 10 12 14]\n",
      " [24 27 30 33]\n",
      " [48 52 56 60]\n",
      " [80 85 90 95]]\n",
      "A.T = \n",
      " [[ 0  4  8 12 16]\n",
      " [ 1  5  9 13 17]\n",
      " [ 2  6 10 14 18]\n",
      " [ 3  7 11 15 19]]\n"
     ]
    }
   ],
   "source": [
    "A = np.random.randn(5,4)\n",
    "A = np.arange(20).reshape((5,4))\n",
    "B = np.random.randn(5,4)\n",
    "x = np.random.randn(4)\n",
    "x = np.array([1,2,3,4])\n",
    "y = np.random.randn(5)\n",
    "y = np.array([1,2,3,4,5])\n",
    "\n",
    "# matrix addition\n",
    "print(\"A + B = \\n\", A + B)\n",
    "\n",
    "# matrix subtraction\n",
    "print(\"A - B = \\n\", A - B)\n",
    "\n",
    "# Elementwise multiplication\n",
    "print(\" A * B = \\n\", A*B)\n",
    "\n",
    "# Elementwise division\n",
    "print(\" A / B = \\n\", A/B)\n",
    "\n",
    "# Multiply columns by x\n",
    "print(\" A * x = \\n\", A*x)\n",
    "\n",
    "# Multiply rows by y\n",
    "print(\"y[:,None] = \\n\", y[:,None])\n",
    "print(\" A * y[:,None] = \\n\", A*y[:,None])\n",
    "\n",
    "# Transpose of A\n",
    "print(\"A.T = \\n\", A.T)"
   ]
  },
  {
   "cell_type": "markdown",
   "metadata": {},
   "source": [
    "## Matrix operations"
   ]
  },
  {
   "cell_type": "code",
   "execution_count": 88,
   "metadata": {},
   "outputs": [
    {
     "name": "stdout",
     "output_type": "stream",
     "text": [
      "A =\n",
      " [[ 0  1  2  3]\n",
      " [ 4  5  6  7]\n",
      " [ 8  9 10 11]\n",
      " [12 13 14 15]\n",
      " [16 17 18 19]]\n",
      "A @ C = \n",
      " [[  3.16837284  -5.06957917   6.50673556]\n",
      " [  6.56851025 -16.96288216  15.97930255]\n",
      " [  9.96864767 -28.85618515  25.45186954]\n",
      " [ 13.36878508 -40.74948814  34.92443652]\n",
      " [ 16.7689225  -52.64279114  44.39700351]]\n",
      "A @ x = \n",
      " [ 20  60 100 140 180]\n",
      "x @ z = \n",
      " 30\n",
      "A.T @ y = \n",
      " [10.2747763 12.2114071 14.1480379 16.0846687]\n",
      "y.T @ A = \n",
      " [10.2747763 12.2114071 14.1480379 16.0846687]\n",
      "y @ A =\n",
      " [10.2747763 12.2114071 14.1480379 16.0846687]\n"
     ]
    }
   ],
   "source": [
    "A = np.random.randn(5,4)\n",
    "A = np.arange(20).reshape(5,4)\n",
    "C = np.random.randn(4,3)\n",
    "x = np.random.rand(4)\n",
    "x = np.array([1,2,3,4])\n",
    "y = np.random.rand(5)\n",
    "z = np.array([1,2,3,4])\n",
    "\n",
    "print(\"A =\\n\", A)\n",
    "print(\"A @ C = \\n\", A @ C)   # Matrix Matrix multiplication\n",
    "print(\"A @ x = \\n\", A @ x)   # Matrix vector multiplication\n",
    "print(\"x @ z = \\n\",x @ z)    # inner product or dot product resulting in scalar value\n",
    "\n",
    "print(\"A.T @ y = \\n\", A.T @ y) # matrix vector multiply\n",
    "print(\"y.T @ A = \\n\", y.T @ A) # same as above\n",
    "\n",
    "print(\"y @ A =\\n\", y @ A)"
   ]
  },
  {
   "cell_type": "markdown",
   "metadata": {},
   "source": [
    "## Solving Linear Equation"
   ]
  },
  {
   "cell_type": "code",
   "execution_count": 92,
   "metadata": {},
   "outputs": [
    {
     "name": "stdout",
     "output_type": "stream",
     "text": [
      "inv(A) =  [[1.5 2.5]\n",
      " [1.  2. ]]\n",
      "inv(A) @ b =  [3. 5.]\n",
      "solving for x =  [3. 5.]\n"
     ]
    }
   ],
   "source": [
    "b = np.array([-13, 9])\n",
    "A = np.array([[4, -5],[-2, 3]])\n",
    "\n",
    "print(\"inv(A) = \", np.linalg.inv(A))\n",
    "print(\"inv(A) @ b = \", np.linalg.inv(A) @ b)\n",
    "print(\"solving for x = \", np.linalg.solve(A,b))  # preferred method as it is computationally cheaper than above method\n",
    "# solution method uses the LU factorization which is cheaper than computing inverses\n",
    "# forgot about LU decomposition? Check out the link for a quick refresher on LU decomposition\n",
    "# => https://www.youtube.com/watch?v=rhNKncraJMk"
   ]
  },
  {
   "cell_type": "markdown",
   "metadata": {},
   "source": [
    "## Complexity of operations\n",
    "Assume A, B => (n*n) & x,y => n\n",
    "\n",
    "### Matrix-matrix product AB: O(n^3)\n",
    "### Matrix-vector product Ax: O(n^2)\n",
    "### Vector-vector inner product X.T y: O(n)\n",
    "### Matrix inverse/ solve: A^-1, A^-1 y: O(n^3)\n",
    "\n",
    "### Important:  Be careful about the order of operations, (AB)x = A(Bx) but the left one is O(n^3), right one is O(n^2)"
   ]
  },
  {
   "cell_type": "code",
   "execution_count": 96,
   "metadata": {},
   "outputs": [],
   "source": [
    "A = np.random.randn(10,10)\n",
    "B = np.random.randn(10,10)\n",
    "x = np.random.randn(10)"
   ]
  },
  {
   "cell_type": "code",
   "execution_count": 97,
   "metadata": {},
   "outputs": [
    {
     "name": "stdout",
     "output_type": "stream",
     "text": [
      "2.21 µs ± 85 ns per loop (mean ± std. dev. of 7 runs, 100000 loops each)\n"
     ]
    }
   ],
   "source": [
    "%%timeit \n",
    "A @ B @ x       # numpy default takes left to right resulting in (AB)x"
   ]
  },
  {
   "cell_type": "code",
   "execution_count": 99,
   "metadata": {},
   "outputs": [
    {
     "name": "stdout",
     "output_type": "stream",
     "text": [
      "1.7 µs ± 25.7 ns per loop (mean ± std. dev. of 7 runs, 1000000 loops each)\n"
     ]
    }
   ],
   "source": [
    "%%timeit \n",
    "A @ (B @ x)    # parenthesis matters!! Resulting in much faster computation"
   ]
  },
  {
   "cell_type": "markdown",
   "metadata": {},
   "source": [
    "## Sparse matrices\n",
    "## Coordinate (coo) format"
   ]
  },
  {
   "cell_type": "code",
   "execution_count": 107,
   "metadata": {},
   "outputs": [
    {
     "data": {
      "text/plain": [
       "array([[0, 0, 3, 0],\n",
       "       [2, 0, 0, 1],\n",
       "       [0, 1, 0, 0],\n",
       "       [4, 0, 1, 0]])"
      ]
     },
     "execution_count": 107,
     "metadata": {},
     "output_type": "execute_result"
    }
   ],
   "source": [
    "from scipy.sparse import coo_matrix\n",
    "\n",
    "# constructing a matrix using i,j,v format\n",
    "row_indices = np.array([1,3,2,0,3,1])\n",
    "col_indices = np.array([0,0,1,2,2,3])\n",
    "data = np.array([2,4,1,3,1,1])\n",
    "x = coo_matrix((data,(row_indices, col_indices)), shape=(4,4)).toarray()"
   ]
  },
  {
   "cell_type": "markdown",
   "metadata": {},
   "source": [
    "## Compressed sparse column (CSC) format\n",
    "\n",
    "#### data = [2 4 1 3 1 1]\n",
    "#### row_indices = [1 3 2 0 3 1]\n",
    "#### col_ptr = [0 2 3 5 6]\n",
    "#### col_ptr is not the same as col_indices. This is different. It keeps track of the starting positions of non-zero elements in each column. The last number 6 is the number of non-zero elements in this matrix\n",
    "\n",
    "#### to create a matrix in CSC format, the coo_Matrix offers a tocsc method out of the box"
   ]
  },
  {
   "cell_type": "code",
   "execution_count": 114,
   "metadata": {},
   "outputs": [
    {
     "name": "stdout",
     "output_type": "stream",
     "text": [
      "[[0 0 3 0]\n",
      " [2 0 0 1]\n",
      " [0 1 0 0]\n",
      " [4 0 1 0]]\n"
     ]
    }
   ],
   "source": [
    "x = coo_matrix((data,(row_indices, col_indices)), shape=(4,4))\n",
    "x_csc = x.tocsc()\n",
    "print(x_csc.toarray())"
   ]
  },
  {
   "cell_type": "code",
   "execution_count": 119,
   "metadata": {},
   "outputs": [
    {
     "data": {
      "text/plain": [
       "array([[0, 0, 3, 0],\n",
       "       [2, 0, 0, 1],\n",
       "       [0, 1, 0, 0],\n",
       "       [4, 0, 1, 0]])"
      ]
     },
     "execution_count": 119,
     "metadata": {},
     "output_type": "execute_result"
    }
   ],
   "source": [
    "# dense format\n",
    "x_dense = x.todense()  ## this is in matrix format\n",
    "np.asarray(x_dense)"
   ]
  },
  {
   "cell_type": "code",
   "execution_count": null,
   "metadata": {},
   "outputs": [],
   "source": []
  }
 ],
 "metadata": {
  "kernelspec": {
   "display_name": "Python 3",
   "language": "python",
   "name": "python3"
  },
  "language_info": {
   "codemirror_mode": {
    "name": "ipython",
    "version": 3
   },
   "file_extension": ".py",
   "mimetype": "text/x-python",
   "name": "python",
   "nbconvert_exporter": "python",
   "pygments_lexer": "ipython3",
   "version": "3.6.5"
  }
 },
 "nbformat": 4,
 "nbformat_minor": 2
}
